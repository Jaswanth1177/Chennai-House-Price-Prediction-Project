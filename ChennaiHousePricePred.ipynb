{
  "cells": [
    {
      "cell_type": "markdown",
      "metadata": {
        "id": "view-in-github",
        "colab_type": "text"
      },
      "source": [
        "<a href=\"https://colab.research.google.com/github/Jaswanth1177/Chennai-House-Price-Prediction-Project/blob/main/ChennaiHousePricePred.ipynb\" target=\"_parent\"><img src=\"https://colab.research.google.com/assets/colab-badge.svg\" alt=\"Open In Colab\"/></a>"
      ]
    },
    {
      "cell_type": "markdown",
      "metadata": {
        "id": "AC6rbkCWAFKY"
      },
      "source": [
        "**Importing required packages**"
      ]
    },
    {
      "cell_type": "code",
      "execution_count": 1,
      "metadata": {
        "id": "sy860ra_N3ph"
      },
      "outputs": [],
      "source": [
        "import pandas as pd\n",
        "import numpy as np\n",
        "import matplotlib.pyplot as plt\n",
        "import seaborn as sns\n",
        "%matplotlib inline"
      ]
    },
    {
      "cell_type": "markdown",
      "metadata": {
        "id": "wMQX2QenAK7V"
      },
      "source": [
        "Reading the csv to a Pandas DataFrame"
      ]
    },
    {
      "cell_type": "code",
      "execution_count": 2,
      "metadata": {
        "id": "4QatNSqWPE2q"
      },
      "outputs": [],
      "source": [
        "df = pd.read_csv(\"/content/train-chennai-sale.csv\")"
      ]
    },
    {
      "cell_type": "code",
      "execution_count": 3,
      "metadata": {
        "colab": {
          "base_uri": "https://localhost:8080/",
          "height": 386
        },
        "id": "IM8pzgnOf3mv",
        "outputId": "a6ec87f7-2164-493c-9733-cb734ec7f715"
      },
      "outputs": [
        {
          "output_type": "execute_result",
          "data": {
            "text/plain": [
              "   PRT_ID        AREA  INT_SQFT   DATE_SALE  DIST_MAINROAD  N_BEDROOM  \\\n",
              "0  P03210  Karapakkam      1004  04-05-2011            131        1.0   \n",
              "1  P09411  Anna Nagar      1986  19-12-2006             26        2.0   \n",
              "2  P01812       Adyar       909  04-02-2012             70        1.0   \n",
              "3  P05346   Velachery      1855  13-03-2010             14        3.0   \n",
              "4  P06210  Karapakkam      1226  05-10-2009             84        1.0   \n",
              "\n",
              "   N_BATHROOM  N_ROOM SALE_COND PARK_FACIL  ... UTILITY_AVAIL  STREET MZZONE  \\\n",
              "0         1.0       3  AbNormal        Yes  ...        AllPub   Paved      A   \n",
              "1         1.0       5  AbNormal         No  ...        AllPub  Gravel     RH   \n",
              "2         1.0       3  AbNormal        Yes  ...           ELO  Gravel     RL   \n",
              "3         2.0       5    Family         No  ...       NoSewr    Paved      I   \n",
              "4         1.0       3  AbNormal        Yes  ...        AllPub  Gravel      C   \n",
              "\n",
              "  QS_ROOMS QS_BATHROOM  QS_BEDROOM  QS_OVERALL  REG_FEE  COMMIS  SALES_PRICE  \n",
              "0      4.0         3.9         4.9       4.330   380000  144400      7600000  \n",
              "1      4.9         4.2         2.5       3.765   760122  304049     21717770  \n",
              "2      4.1         3.8         2.2       3.090   421094   92114     13159200  \n",
              "3      4.7         3.9         3.6       4.010   356321   77042      9630290  \n",
              "4      3.0         2.5         4.1       3.290   237000   74063      7406250  \n",
              "\n",
              "[5 rows x 22 columns]"
            ],
            "text/html": [
              "\n",
              "  <div id=\"df-003e4b62-7f18-42f1-a331-81c2367144ee\">\n",
              "    <div class=\"colab-df-container\">\n",
              "      <div>\n",
              "<style scoped>\n",
              "    .dataframe tbody tr th:only-of-type {\n",
              "        vertical-align: middle;\n",
              "    }\n",
              "\n",
              "    .dataframe tbody tr th {\n",
              "        vertical-align: top;\n",
              "    }\n",
              "\n",
              "    .dataframe thead th {\n",
              "        text-align: right;\n",
              "    }\n",
              "</style>\n",
              "<table border=\"1\" class=\"dataframe\">\n",
              "  <thead>\n",
              "    <tr style=\"text-align: right;\">\n",
              "      <th></th>\n",
              "      <th>PRT_ID</th>\n",
              "      <th>AREA</th>\n",
              "      <th>INT_SQFT</th>\n",
              "      <th>DATE_SALE</th>\n",
              "      <th>DIST_MAINROAD</th>\n",
              "      <th>N_BEDROOM</th>\n",
              "      <th>N_BATHROOM</th>\n",
              "      <th>N_ROOM</th>\n",
              "      <th>SALE_COND</th>\n",
              "      <th>PARK_FACIL</th>\n",
              "      <th>...</th>\n",
              "      <th>UTILITY_AVAIL</th>\n",
              "      <th>STREET</th>\n",
              "      <th>MZZONE</th>\n",
              "      <th>QS_ROOMS</th>\n",
              "      <th>QS_BATHROOM</th>\n",
              "      <th>QS_BEDROOM</th>\n",
              "      <th>QS_OVERALL</th>\n",
              "      <th>REG_FEE</th>\n",
              "      <th>COMMIS</th>\n",
              "      <th>SALES_PRICE</th>\n",
              "    </tr>\n",
              "  </thead>\n",
              "  <tbody>\n",
              "    <tr>\n",
              "      <th>0</th>\n",
              "      <td>P03210</td>\n",
              "      <td>Karapakkam</td>\n",
              "      <td>1004</td>\n",
              "      <td>04-05-2011</td>\n",
              "      <td>131</td>\n",
              "      <td>1.0</td>\n",
              "      <td>1.0</td>\n",
              "      <td>3</td>\n",
              "      <td>AbNormal</td>\n",
              "      <td>Yes</td>\n",
              "      <td>...</td>\n",
              "      <td>AllPub</td>\n",
              "      <td>Paved</td>\n",
              "      <td>A</td>\n",
              "      <td>4.0</td>\n",
              "      <td>3.9</td>\n",
              "      <td>4.9</td>\n",
              "      <td>4.330</td>\n",
              "      <td>380000</td>\n",
              "      <td>144400</td>\n",
              "      <td>7600000</td>\n",
              "    </tr>\n",
              "    <tr>\n",
              "      <th>1</th>\n",
              "      <td>P09411</td>\n",
              "      <td>Anna Nagar</td>\n",
              "      <td>1986</td>\n",
              "      <td>19-12-2006</td>\n",
              "      <td>26</td>\n",
              "      <td>2.0</td>\n",
              "      <td>1.0</td>\n",
              "      <td>5</td>\n",
              "      <td>AbNormal</td>\n",
              "      <td>No</td>\n",
              "      <td>...</td>\n",
              "      <td>AllPub</td>\n",
              "      <td>Gravel</td>\n",
              "      <td>RH</td>\n",
              "      <td>4.9</td>\n",
              "      <td>4.2</td>\n",
              "      <td>2.5</td>\n",
              "      <td>3.765</td>\n",
              "      <td>760122</td>\n",
              "      <td>304049</td>\n",
              "      <td>21717770</td>\n",
              "    </tr>\n",
              "    <tr>\n",
              "      <th>2</th>\n",
              "      <td>P01812</td>\n",
              "      <td>Adyar</td>\n",
              "      <td>909</td>\n",
              "      <td>04-02-2012</td>\n",
              "      <td>70</td>\n",
              "      <td>1.0</td>\n",
              "      <td>1.0</td>\n",
              "      <td>3</td>\n",
              "      <td>AbNormal</td>\n",
              "      <td>Yes</td>\n",
              "      <td>...</td>\n",
              "      <td>ELO</td>\n",
              "      <td>Gravel</td>\n",
              "      <td>RL</td>\n",
              "      <td>4.1</td>\n",
              "      <td>3.8</td>\n",
              "      <td>2.2</td>\n",
              "      <td>3.090</td>\n",
              "      <td>421094</td>\n",
              "      <td>92114</td>\n",
              "      <td>13159200</td>\n",
              "    </tr>\n",
              "    <tr>\n",
              "      <th>3</th>\n",
              "      <td>P05346</td>\n",
              "      <td>Velachery</td>\n",
              "      <td>1855</td>\n",
              "      <td>13-03-2010</td>\n",
              "      <td>14</td>\n",
              "      <td>3.0</td>\n",
              "      <td>2.0</td>\n",
              "      <td>5</td>\n",
              "      <td>Family</td>\n",
              "      <td>No</td>\n",
              "      <td>...</td>\n",
              "      <td>NoSewr</td>\n",
              "      <td>Paved</td>\n",
              "      <td>I</td>\n",
              "      <td>4.7</td>\n",
              "      <td>3.9</td>\n",
              "      <td>3.6</td>\n",
              "      <td>4.010</td>\n",
              "      <td>356321</td>\n",
              "      <td>77042</td>\n",
              "      <td>9630290</td>\n",
              "    </tr>\n",
              "    <tr>\n",
              "      <th>4</th>\n",
              "      <td>P06210</td>\n",
              "      <td>Karapakkam</td>\n",
              "      <td>1226</td>\n",
              "      <td>05-10-2009</td>\n",
              "      <td>84</td>\n",
              "      <td>1.0</td>\n",
              "      <td>1.0</td>\n",
              "      <td>3</td>\n",
              "      <td>AbNormal</td>\n",
              "      <td>Yes</td>\n",
              "      <td>...</td>\n",
              "      <td>AllPub</td>\n",
              "      <td>Gravel</td>\n",
              "      <td>C</td>\n",
              "      <td>3.0</td>\n",
              "      <td>2.5</td>\n",
              "      <td>4.1</td>\n",
              "      <td>3.290</td>\n",
              "      <td>237000</td>\n",
              "      <td>74063</td>\n",
              "      <td>7406250</td>\n",
              "    </tr>\n",
              "  </tbody>\n",
              "</table>\n",
              "<p>5 rows × 22 columns</p>\n",
              "</div>\n",
              "      <button class=\"colab-df-convert\" onclick=\"convertToInteractive('df-003e4b62-7f18-42f1-a331-81c2367144ee')\"\n",
              "              title=\"Convert this dataframe to an interactive table.\"\n",
              "              style=\"display:none;\">\n",
              "        \n",
              "  <svg xmlns=\"http://www.w3.org/2000/svg\" height=\"24px\"viewBox=\"0 0 24 24\"\n",
              "       width=\"24px\">\n",
              "    <path d=\"M0 0h24v24H0V0z\" fill=\"none\"/>\n",
              "    <path d=\"M18.56 5.44l.94 2.06.94-2.06 2.06-.94-2.06-.94-.94-2.06-.94 2.06-2.06.94zm-11 1L8.5 8.5l.94-2.06 2.06-.94-2.06-.94L8.5 2.5l-.94 2.06-2.06.94zm10 10l.94 2.06.94-2.06 2.06-.94-2.06-.94-.94-2.06-.94 2.06-2.06.94z\"/><path d=\"M17.41 7.96l-1.37-1.37c-.4-.4-.92-.59-1.43-.59-.52 0-1.04.2-1.43.59L10.3 9.45l-7.72 7.72c-.78.78-.78 2.05 0 2.83L4 21.41c.39.39.9.59 1.41.59.51 0 1.02-.2 1.41-.59l7.78-7.78 2.81-2.81c.8-.78.8-2.07 0-2.86zM5.41 20L4 18.59l7.72-7.72 1.47 1.35L5.41 20z\"/>\n",
              "  </svg>\n",
              "      </button>\n",
              "      \n",
              "  <style>\n",
              "    .colab-df-container {\n",
              "      display:flex;\n",
              "      flex-wrap:wrap;\n",
              "      gap: 12px;\n",
              "    }\n",
              "\n",
              "    .colab-df-convert {\n",
              "      background-color: #E8F0FE;\n",
              "      border: none;\n",
              "      border-radius: 50%;\n",
              "      cursor: pointer;\n",
              "      display: none;\n",
              "      fill: #1967D2;\n",
              "      height: 32px;\n",
              "      padding: 0 0 0 0;\n",
              "      width: 32px;\n",
              "    }\n",
              "\n",
              "    .colab-df-convert:hover {\n",
              "      background-color: #E2EBFA;\n",
              "      box-shadow: 0px 1px 2px rgba(60, 64, 67, 0.3), 0px 1px 3px 1px rgba(60, 64, 67, 0.15);\n",
              "      fill: #174EA6;\n",
              "    }\n",
              "\n",
              "    [theme=dark] .colab-df-convert {\n",
              "      background-color: #3B4455;\n",
              "      fill: #D2E3FC;\n",
              "    }\n",
              "\n",
              "    [theme=dark] .colab-df-convert:hover {\n",
              "      background-color: #434B5C;\n",
              "      box-shadow: 0px 1px 3px 1px rgba(0, 0, 0, 0.15);\n",
              "      filter: drop-shadow(0px 1px 2px rgba(0, 0, 0, 0.3));\n",
              "      fill: #FFFFFF;\n",
              "    }\n",
              "  </style>\n",
              "\n",
              "      <script>\n",
              "        const buttonEl =\n",
              "          document.querySelector('#df-003e4b62-7f18-42f1-a331-81c2367144ee button.colab-df-convert');\n",
              "        buttonEl.style.display =\n",
              "          google.colab.kernel.accessAllowed ? 'block' : 'none';\n",
              "\n",
              "        async function convertToInteractive(key) {\n",
              "          const element = document.querySelector('#df-003e4b62-7f18-42f1-a331-81c2367144ee');\n",
              "          const dataTable =\n",
              "            await google.colab.kernel.invokeFunction('convertToInteractive',\n",
              "                                                     [key], {});\n",
              "          if (!dataTable) return;\n",
              "\n",
              "          const docLinkHtml = 'Like what you see? Visit the ' +\n",
              "            '<a target=\"_blank\" href=https://colab.research.google.com/notebooks/data_table.ipynb>data table notebook</a>'\n",
              "            + ' to learn more about interactive tables.';\n",
              "          element.innerHTML = '';\n",
              "          dataTable['output_type'] = 'display_data';\n",
              "          await google.colab.output.renderOutput(dataTable, element);\n",
              "          const docLink = document.createElement('div');\n",
              "          docLink.innerHTML = docLinkHtml;\n",
              "          element.appendChild(docLink);\n",
              "        }\n",
              "      </script>\n",
              "    </div>\n",
              "  </div>\n",
              "  "
            ]
          },
          "metadata": {},
          "execution_count": 3
        }
      ],
      "source": [
        "df.head()"
      ]
    },
    {
      "cell_type": "code",
      "execution_count": 4,
      "metadata": {
        "colab": {
          "base_uri": "https://localhost:8080/"
        },
        "id": "jASxdIDDPNJq",
        "outputId": "af32ccb9-3d15-4158-dcf4-62f7f4514583"
      },
      "outputs": [
        {
          "output_type": "stream",
          "name": "stdout",
          "text": [
            "<class 'pandas.core.frame.DataFrame'>\n",
            "RangeIndex: 7109 entries, 0 to 7108\n",
            "Data columns (total 22 columns):\n",
            " #   Column         Non-Null Count  Dtype  \n",
            "---  ------         --------------  -----  \n",
            " 0   PRT_ID         7109 non-null   object \n",
            " 1   AREA           7109 non-null   object \n",
            " 2   INT_SQFT       7109 non-null   int64  \n",
            " 3   DATE_SALE      7109 non-null   object \n",
            " 4   DIST_MAINROAD  7109 non-null   int64  \n",
            " 5   N_BEDROOM      7108 non-null   float64\n",
            " 6   N_BATHROOM     7104 non-null   float64\n",
            " 7   N_ROOM         7109 non-null   int64  \n",
            " 8   SALE_COND      7109 non-null   object \n",
            " 9   PARK_FACIL     7109 non-null   object \n",
            " 10  DATE_BUILD     7109 non-null   object \n",
            " 11  BUILDTYPE      7109 non-null   object \n",
            " 12  UTILITY_AVAIL  7109 non-null   object \n",
            " 13  STREET         7109 non-null   object \n",
            " 14  MZZONE         7109 non-null   object \n",
            " 15  QS_ROOMS       7109 non-null   float64\n",
            " 16  QS_BATHROOM    7109 non-null   float64\n",
            " 17  QS_BEDROOM     7109 non-null   float64\n",
            " 18  QS_OVERALL     7061 non-null   float64\n",
            " 19  REG_FEE        7109 non-null   int64  \n",
            " 20  COMMIS         7109 non-null   int64  \n",
            " 21  SALES_PRICE    7109 non-null   int64  \n",
            "dtypes: float64(6), int64(6), object(10)\n",
            "memory usage: 1.2+ MB\n"
          ]
        }
      ],
      "source": [
        "df.info()"
      ]
    },
    {
      "cell_type": "markdown",
      "metadata": {
        "id": "07nESTzCAe3l"
      },
      "source": [
        "Checking For Outliers if present in the data"
      ]
    },
    {
      "cell_type": "code",
      "execution_count": 5,
      "metadata": {
        "colab": {
          "base_uri": "https://localhost:8080/",
          "height": 364
        },
        "id": "pR1jRz2xPNGJ",
        "outputId": "93080dd2-a9b6-480d-f520-d691b7974f09"
      },
      "outputs": [
        {
          "output_type": "execute_result",
          "data": {
            "text/plain": [
              "          INT_SQFT  DIST_MAINROAD    N_BEDROOM   N_BATHROOM       N_ROOM  \\\n",
              "count  7109.000000    7109.000000  7108.000000  7104.000000  7109.000000   \n",
              "mean   1382.073006      99.603179     1.637029     1.213260     3.688704   \n",
              "std     457.410902      57.403110     0.802902     0.409639     1.019099   \n",
              "min     500.000000       0.000000     1.000000     1.000000     2.000000   \n",
              "25%     993.000000      50.000000     1.000000     1.000000     3.000000   \n",
              "50%    1373.000000      99.000000     1.000000     1.000000     4.000000   \n",
              "75%    1744.000000     148.000000     2.000000     1.000000     4.000000   \n",
              "max    2500.000000     200.000000     4.000000     2.000000     6.000000   \n",
              "\n",
              "          QS_ROOMS  QS_BATHROOM   QS_BEDROOM   QS_OVERALL        REG_FEE  \\\n",
              "count  7109.000000  7109.000000  7109.000000  7061.000000    7109.000000   \n",
              "mean      3.517471     3.507244     3.485300     3.503254  376938.330708   \n",
              "std       0.891972     0.897834     0.887266     0.527223  143070.662010   \n",
              "min       2.000000     2.000000     2.000000     2.000000   71177.000000   \n",
              "25%       2.700000     2.700000     2.700000     3.130000  272406.000000   \n",
              "50%       3.500000     3.500000     3.500000     3.500000  349486.000000   \n",
              "75%       4.300000     4.300000     4.300000     3.890000  451562.000000   \n",
              "max       5.000000     5.000000     5.000000     4.970000  983922.000000   \n",
              "\n",
              "              COMMIS   SALES_PRICE  \n",
              "count    7109.000000  7.109000e+03  \n",
              "mean   141005.726544  1.089491e+07  \n",
              "std     78768.093718  3.768603e+06  \n",
              "min      5055.000000  2.156875e+06  \n",
              "25%     84219.000000  8.272100e+06  \n",
              "50%    127628.000000  1.033505e+07  \n",
              "75%    184506.000000  1.299390e+07  \n",
              "max    495405.000000  2.366734e+07  "
            ],
            "text/html": [
              "\n",
              "  <div id=\"df-b5cf5547-93e0-4215-b830-a1a71465a0fb\">\n",
              "    <div class=\"colab-df-container\">\n",
              "      <div>\n",
              "<style scoped>\n",
              "    .dataframe tbody tr th:only-of-type {\n",
              "        vertical-align: middle;\n",
              "    }\n",
              "\n",
              "    .dataframe tbody tr th {\n",
              "        vertical-align: top;\n",
              "    }\n",
              "\n",
              "    .dataframe thead th {\n",
              "        text-align: right;\n",
              "    }\n",
              "</style>\n",
              "<table border=\"1\" class=\"dataframe\">\n",
              "  <thead>\n",
              "    <tr style=\"text-align: right;\">\n",
              "      <th></th>\n",
              "      <th>INT_SQFT</th>\n",
              "      <th>DIST_MAINROAD</th>\n",
              "      <th>N_BEDROOM</th>\n",
              "      <th>N_BATHROOM</th>\n",
              "      <th>N_ROOM</th>\n",
              "      <th>QS_ROOMS</th>\n",
              "      <th>QS_BATHROOM</th>\n",
              "      <th>QS_BEDROOM</th>\n",
              "      <th>QS_OVERALL</th>\n",
              "      <th>REG_FEE</th>\n",
              "      <th>COMMIS</th>\n",
              "      <th>SALES_PRICE</th>\n",
              "    </tr>\n",
              "  </thead>\n",
              "  <tbody>\n",
              "    <tr>\n",
              "      <th>count</th>\n",
              "      <td>7109.000000</td>\n",
              "      <td>7109.000000</td>\n",
              "      <td>7108.000000</td>\n",
              "      <td>7104.000000</td>\n",
              "      <td>7109.000000</td>\n",
              "      <td>7109.000000</td>\n",
              "      <td>7109.000000</td>\n",
              "      <td>7109.000000</td>\n",
              "      <td>7061.000000</td>\n",
              "      <td>7109.000000</td>\n",
              "      <td>7109.000000</td>\n",
              "      <td>7.109000e+03</td>\n",
              "    </tr>\n",
              "    <tr>\n",
              "      <th>mean</th>\n",
              "      <td>1382.073006</td>\n",
              "      <td>99.603179</td>\n",
              "      <td>1.637029</td>\n",
              "      <td>1.213260</td>\n",
              "      <td>3.688704</td>\n",
              "      <td>3.517471</td>\n",
              "      <td>3.507244</td>\n",
              "      <td>3.485300</td>\n",
              "      <td>3.503254</td>\n",
              "      <td>376938.330708</td>\n",
              "      <td>141005.726544</td>\n",
              "      <td>1.089491e+07</td>\n",
              "    </tr>\n",
              "    <tr>\n",
              "      <th>std</th>\n",
              "      <td>457.410902</td>\n",
              "      <td>57.403110</td>\n",
              "      <td>0.802902</td>\n",
              "      <td>0.409639</td>\n",
              "      <td>1.019099</td>\n",
              "      <td>0.891972</td>\n",
              "      <td>0.897834</td>\n",
              "      <td>0.887266</td>\n",
              "      <td>0.527223</td>\n",
              "      <td>143070.662010</td>\n",
              "      <td>78768.093718</td>\n",
              "      <td>3.768603e+06</td>\n",
              "    </tr>\n",
              "    <tr>\n",
              "      <th>min</th>\n",
              "      <td>500.000000</td>\n",
              "      <td>0.000000</td>\n",
              "      <td>1.000000</td>\n",
              "      <td>1.000000</td>\n",
              "      <td>2.000000</td>\n",
              "      <td>2.000000</td>\n",
              "      <td>2.000000</td>\n",
              "      <td>2.000000</td>\n",
              "      <td>2.000000</td>\n",
              "      <td>71177.000000</td>\n",
              "      <td>5055.000000</td>\n",
              "      <td>2.156875e+06</td>\n",
              "    </tr>\n",
              "    <tr>\n",
              "      <th>25%</th>\n",
              "      <td>993.000000</td>\n",
              "      <td>50.000000</td>\n",
              "      <td>1.000000</td>\n",
              "      <td>1.000000</td>\n",
              "      <td>3.000000</td>\n",
              "      <td>2.700000</td>\n",
              "      <td>2.700000</td>\n",
              "      <td>2.700000</td>\n",
              "      <td>3.130000</td>\n",
              "      <td>272406.000000</td>\n",
              "      <td>84219.000000</td>\n",
              "      <td>8.272100e+06</td>\n",
              "    </tr>\n",
              "    <tr>\n",
              "      <th>50%</th>\n",
              "      <td>1373.000000</td>\n",
              "      <td>99.000000</td>\n",
              "      <td>1.000000</td>\n",
              "      <td>1.000000</td>\n",
              "      <td>4.000000</td>\n",
              "      <td>3.500000</td>\n",
              "      <td>3.500000</td>\n",
              "      <td>3.500000</td>\n",
              "      <td>3.500000</td>\n",
              "      <td>349486.000000</td>\n",
              "      <td>127628.000000</td>\n",
              "      <td>1.033505e+07</td>\n",
              "    </tr>\n",
              "    <tr>\n",
              "      <th>75%</th>\n",
              "      <td>1744.000000</td>\n",
              "      <td>148.000000</td>\n",
              "      <td>2.000000</td>\n",
              "      <td>1.000000</td>\n",
              "      <td>4.000000</td>\n",
              "      <td>4.300000</td>\n",
              "      <td>4.300000</td>\n",
              "      <td>4.300000</td>\n",
              "      <td>3.890000</td>\n",
              "      <td>451562.000000</td>\n",
              "      <td>184506.000000</td>\n",
              "      <td>1.299390e+07</td>\n",
              "    </tr>\n",
              "    <tr>\n",
              "      <th>max</th>\n",
              "      <td>2500.000000</td>\n",
              "      <td>200.000000</td>\n",
              "      <td>4.000000</td>\n",
              "      <td>2.000000</td>\n",
              "      <td>6.000000</td>\n",
              "      <td>5.000000</td>\n",
              "      <td>5.000000</td>\n",
              "      <td>5.000000</td>\n",
              "      <td>4.970000</td>\n",
              "      <td>983922.000000</td>\n",
              "      <td>495405.000000</td>\n",
              "      <td>2.366734e+07</td>\n",
              "    </tr>\n",
              "  </tbody>\n",
              "</table>\n",
              "</div>\n",
              "      <button class=\"colab-df-convert\" onclick=\"convertToInteractive('df-b5cf5547-93e0-4215-b830-a1a71465a0fb')\"\n",
              "              title=\"Convert this dataframe to an interactive table.\"\n",
              "              style=\"display:none;\">\n",
              "        \n",
              "  <svg xmlns=\"http://www.w3.org/2000/svg\" height=\"24px\"viewBox=\"0 0 24 24\"\n",
              "       width=\"24px\">\n",
              "    <path d=\"M0 0h24v24H0V0z\" fill=\"none\"/>\n",
              "    <path d=\"M18.56 5.44l.94 2.06.94-2.06 2.06-.94-2.06-.94-.94-2.06-.94 2.06-2.06.94zm-11 1L8.5 8.5l.94-2.06 2.06-.94-2.06-.94L8.5 2.5l-.94 2.06-2.06.94zm10 10l.94 2.06.94-2.06 2.06-.94-2.06-.94-.94-2.06-.94 2.06-2.06.94z\"/><path d=\"M17.41 7.96l-1.37-1.37c-.4-.4-.92-.59-1.43-.59-.52 0-1.04.2-1.43.59L10.3 9.45l-7.72 7.72c-.78.78-.78 2.05 0 2.83L4 21.41c.39.39.9.59 1.41.59.51 0 1.02-.2 1.41-.59l7.78-7.78 2.81-2.81c.8-.78.8-2.07 0-2.86zM5.41 20L4 18.59l7.72-7.72 1.47 1.35L5.41 20z\"/>\n",
              "  </svg>\n",
              "      </button>\n",
              "      \n",
              "  <style>\n",
              "    .colab-df-container {\n",
              "      display:flex;\n",
              "      flex-wrap:wrap;\n",
              "      gap: 12px;\n",
              "    }\n",
              "\n",
              "    .colab-df-convert {\n",
              "      background-color: #E8F0FE;\n",
              "      border: none;\n",
              "      border-radius: 50%;\n",
              "      cursor: pointer;\n",
              "      display: none;\n",
              "      fill: #1967D2;\n",
              "      height: 32px;\n",
              "      padding: 0 0 0 0;\n",
              "      width: 32px;\n",
              "    }\n",
              "\n",
              "    .colab-df-convert:hover {\n",
              "      background-color: #E2EBFA;\n",
              "      box-shadow: 0px 1px 2px rgba(60, 64, 67, 0.3), 0px 1px 3px 1px rgba(60, 64, 67, 0.15);\n",
              "      fill: #174EA6;\n",
              "    }\n",
              "\n",
              "    [theme=dark] .colab-df-convert {\n",
              "      background-color: #3B4455;\n",
              "      fill: #D2E3FC;\n",
              "    }\n",
              "\n",
              "    [theme=dark] .colab-df-convert:hover {\n",
              "      background-color: #434B5C;\n",
              "      box-shadow: 0px 1px 3px 1px rgba(0, 0, 0, 0.15);\n",
              "      filter: drop-shadow(0px 1px 2px rgba(0, 0, 0, 0.3));\n",
              "      fill: #FFFFFF;\n",
              "    }\n",
              "  </style>\n",
              "\n",
              "      <script>\n",
              "        const buttonEl =\n",
              "          document.querySelector('#df-b5cf5547-93e0-4215-b830-a1a71465a0fb button.colab-df-convert');\n",
              "        buttonEl.style.display =\n",
              "          google.colab.kernel.accessAllowed ? 'block' : 'none';\n",
              "\n",
              "        async function convertToInteractive(key) {\n",
              "          const element = document.querySelector('#df-b5cf5547-93e0-4215-b830-a1a71465a0fb');\n",
              "          const dataTable =\n",
              "            await google.colab.kernel.invokeFunction('convertToInteractive',\n",
              "                                                     [key], {});\n",
              "          if (!dataTable) return;\n",
              "\n",
              "          const docLinkHtml = 'Like what you see? Visit the ' +\n",
              "            '<a target=\"_blank\" href=https://colab.research.google.com/notebooks/data_table.ipynb>data table notebook</a>'\n",
              "            + ' to learn more about interactive tables.';\n",
              "          element.innerHTML = '';\n",
              "          dataTable['output_type'] = 'display_data';\n",
              "          await google.colab.output.renderOutput(dataTable, element);\n",
              "          const docLink = document.createElement('div');\n",
              "          docLink.innerHTML = docLinkHtml;\n",
              "          element.appendChild(docLink);\n",
              "        }\n",
              "      </script>\n",
              "    </div>\n",
              "  </div>\n",
              "  "
            ]
          },
          "metadata": {},
          "execution_count": 5
        }
      ],
      "source": [
        "df.describe()"
      ]
    },
    {
      "cell_type": "markdown",
      "metadata": {
        "id": "Z0-Mgjy6AkS2"
      },
      "source": [
        "From the Above, we can see that there are no outliers present in the data. So we check for Datatypes of the data"
      ]
    },
    {
      "cell_type": "code",
      "execution_count": 6,
      "metadata": {
        "colab": {
          "base_uri": "https://localhost:8080/"
        },
        "id": "U1VKIR6nx-pX",
        "outputId": "2414d604-9600-4588-a6df-189e51237240"
      },
      "outputs": [
        {
          "output_type": "execute_result",
          "data": {
            "text/plain": [
              "PRT_ID            object\n",
              "AREA              object\n",
              "INT_SQFT           int64\n",
              "DATE_SALE         object\n",
              "DIST_MAINROAD      int64\n",
              "N_BEDROOM        float64\n",
              "N_BATHROOM       float64\n",
              "N_ROOM             int64\n",
              "SALE_COND         object\n",
              "PARK_FACIL        object\n",
              "DATE_BUILD        object\n",
              "BUILDTYPE         object\n",
              "UTILITY_AVAIL     object\n",
              "STREET            object\n",
              "MZZONE            object\n",
              "QS_ROOMS         float64\n",
              "QS_BATHROOM      float64\n",
              "QS_BEDROOM       float64\n",
              "QS_OVERALL       float64\n",
              "REG_FEE            int64\n",
              "COMMIS             int64\n",
              "SALES_PRICE        int64\n",
              "dtype: object"
            ]
          },
          "metadata": {},
          "execution_count": 6
        }
      ],
      "source": [
        "df.dtypes"
      ]
    },
    {
      "cell_type": "markdown",
      "metadata": {
        "id": "TGqB0nNQ80YL"
      },
      "source": [
        "Checing for NULL Values in Data"
      ]
    },
    {
      "cell_type": "code",
      "execution_count": 7,
      "metadata": {
        "colab": {
          "base_uri": "https://localhost:8080/"
        },
        "id": "_LuHXB7-PNDa",
        "outputId": "12b8a547-d318-4620-e5e6-bc5d15429c12"
      },
      "outputs": [
        {
          "output_type": "execute_result",
          "data": {
            "text/plain": [
              "PRT_ID            0\n",
              "AREA              0\n",
              "INT_SQFT          0\n",
              "DATE_SALE         0\n",
              "DIST_MAINROAD     0\n",
              "N_BEDROOM         1\n",
              "N_BATHROOM        5\n",
              "N_ROOM            0\n",
              "SALE_COND         0\n",
              "PARK_FACIL        0\n",
              "DATE_BUILD        0\n",
              "BUILDTYPE         0\n",
              "UTILITY_AVAIL     0\n",
              "STREET            0\n",
              "MZZONE            0\n",
              "QS_ROOMS          0\n",
              "QS_BATHROOM       0\n",
              "QS_BEDROOM        0\n",
              "QS_OVERALL       48\n",
              "REG_FEE           0\n",
              "COMMIS            0\n",
              "SALES_PRICE       0\n",
              "dtype: int64"
            ]
          },
          "metadata": {},
          "execution_count": 7
        }
      ],
      "source": [
        "df.isnull().sum()"
      ]
    },
    {
      "cell_type": "markdown",
      "metadata": {
        "id": "Z1dc_9AYA1yN"
      },
      "source": [
        "As we can see there are some null values in the data, so we remove or impute them below. We also check if there are ambiguous data(spell mistakes) in the data."
      ]
    },
    {
      "cell_type": "markdown",
      "metadata": {
        "id": "QwwUMwd3yk22"
      },
      "source": [
        "# **DATA ANALYSIS**"
      ]
    },
    {
      "cell_type": "markdown",
      "metadata": {
        "id": "XR2B1DZHBPAG"
      },
      "source": [
        "AREA"
      ]
    },
    {
      "cell_type": "code",
      "execution_count": 8,
      "metadata": {
        "colab": {
          "base_uri": "https://localhost:8080/"
        },
        "id": "EeYdxCVLTzVq",
        "outputId": "c008ad50-1322-4dbe-c759-327a07dfb0a4"
      },
      "outputs": [
        {
          "output_type": "execute_result",
          "data": {
            "text/plain": [
              "Chrompet      1681\n",
              "Karapakkam    1363\n",
              "KK Nagar       996\n",
              "Velachery      979\n",
              "Anna Nagar     783\n",
              "Adyar          773\n",
              "T Nagar        496\n",
              "Chrompt          9\n",
              "Chrmpet          6\n",
              "Chormpet         6\n",
              "TNagar           5\n",
              "Karapakam        3\n",
              "Ana Nagar        3\n",
              "Velchery         2\n",
              "Ann Nagar        2\n",
              "Adyr             1\n",
              "KKNagar          1\n",
              "Name: AREA, dtype: int64"
            ]
          },
          "metadata": {},
          "execution_count": 8
        }
      ],
      "source": [
        "df['AREA'].value_counts()"
      ]
    },
    {
      "cell_type": "markdown",
      "metadata": {
        "id": "Ge84Y6lr9ZiK"
      },
      "source": [
        "As we can see there are spelling mistakes in the data. so we replace them."
      ]
    },
    {
      "cell_type": "code",
      "execution_count": 9,
      "metadata": {
        "id": "BlzCKCtnTzTd"
      },
      "outputs": [],
      "source": [
        "#Chrompet Replacing\n",
        "df['AREA']= df['AREA'].replace(['Chrompt'],'Chrompet')\n",
        "df['AREA']= df['AREA'].replace(['Chrmpet'],'Chrompet')\n",
        "df['AREA']= df['AREA'].replace(['Chormpet'],'Chrompet')\n",
        "#Karapakkam \n",
        "df['AREA']= df['AREA'].replace(['Karapakam'],'Karapakkam')\n",
        "#KK Nagar\n",
        "df['AREA']= df['AREA'].replace(['KKNagar'],'KK Nagar')\n",
        "#Velachery\n",
        "df['AREA']= df['AREA'].replace(['Velchery'],'Velachery')\n",
        "#Anna Nagar\n",
        "df['AREA']= df['AREA'].replace(['Ana Nagar','Ann Nagar'],'Anna Nagar')\n",
        "\n",
        "#Adyar\n",
        "df['AREA']= df['AREA'].replace(['Adyr'],'Adyar')\n",
        "#T Nagar\n",
        "df['AREA']= df['AREA'].replace(['TNagar'],'T Nagar')"
      ]
    },
    {
      "cell_type": "code",
      "execution_count": 10,
      "metadata": {
        "colab": {
          "base_uri": "https://localhost:8080/"
        },
        "id": "YXK8w4OJTzRE",
        "outputId": "f1e5d36e-a3c1-4b97-ec26-71f9929d9f81"
      },
      "outputs": [
        {
          "output_type": "execute_result",
          "data": {
            "text/plain": [
              "array(['Karapakkam', 'Anna Nagar', 'Adyar', 'Velachery', 'Chrompet',\n",
              "       'KK Nagar', 'T Nagar'], dtype=object)"
            ]
          },
          "metadata": {},
          "execution_count": 10
        }
      ],
      "source": [
        "df['AREA'].unique()"
      ]
    },
    {
      "cell_type": "code",
      "execution_count": 11,
      "metadata": {
        "id": "0UXUMB1_USk1"
      },
      "outputs": [],
      "source": [
        "ar = df['AREA'].unique()"
      ]
    },
    {
      "cell_type": "code",
      "execution_count": 12,
      "metadata": {
        "colab": {
          "base_uri": "https://localhost:8080/"
        },
        "id": "E7CAEStOYANf",
        "outputId": "568e4067-83e0-4528-f271-059847b07b02"
      },
      "outputs": [
        {
          "output_type": "execute_result",
          "data": {
            "text/plain": [
              "array(['Karapakkam', 'Anna Nagar', 'Adyar', 'Velachery', 'Chrompet',\n",
              "       'KK Nagar', 'T Nagar'], dtype=object)"
            ]
          },
          "metadata": {},
          "execution_count": 12
        }
      ],
      "source": [
        "ar"
      ]
    },
    {
      "cell_type": "markdown",
      "metadata": {
        "id": "ukEK0cTaBQmV"
      },
      "source": [
        "MZZONE"
      ]
    },
    {
      "cell_type": "code",
      "execution_count": 13,
      "metadata": {
        "colab": {
          "base_uri": "https://localhost:8080/"
        },
        "id": "6sd8Y4njTzOR",
        "outputId": "1e42db32-32e4-41b3-c593-56b4ab444796"
      },
      "outputs": [
        {
          "output_type": "execute_result",
          "data": {
            "text/plain": [
              "RL    1858\n",
              "RH    1822\n",
              "RM    1817\n",
              "C      550\n",
              "A      537\n",
              "I      525\n",
              "Name: MZZONE, dtype: int64"
            ]
          },
          "metadata": {},
          "execution_count": 13
        }
      ],
      "source": [
        "df['MZZONE'].value_counts()"
      ]
    },
    {
      "cell_type": "markdown",
      "metadata": {
        "id": "pdNktQ6iBSel"
      },
      "source": [
        "BUILDTYPE"
      ]
    },
    {
      "cell_type": "code",
      "execution_count": 14,
      "metadata": {
        "colab": {
          "base_uri": "https://localhost:8080/"
        },
        "id": "5FVmxsSvPM_x",
        "outputId": "2fab46fe-0678-40d3-8c29-cafcc6018a64"
      },
      "outputs": [
        {
          "output_type": "execute_result",
          "data": {
            "text/plain": [
              "House         2444\n",
              "Commercial    2325\n",
              "Others        2310\n",
              "Other           26\n",
              "Comercial        4\n",
              "Name: BUILDTYPE, dtype: int64"
            ]
          },
          "metadata": {},
          "execution_count": 14
        }
      ],
      "source": [
        "df['BUILDTYPE'].value_counts()"
      ]
    },
    {
      "cell_type": "code",
      "execution_count": 15,
      "metadata": {
        "id": "1O4tGfUOPM55"
      },
      "outputs": [],
      "source": [
        "df['BUILDTYPE']= df['BUILDTYPE'].replace(['Other'],'Others')\n",
        "df['BUILDTYPE']= df['BUILDTYPE'].replace(['Comercial'],'Commercial')"
      ]
    },
    {
      "cell_type": "code",
      "execution_count": 16,
      "metadata": {
        "colab": {
          "base_uri": "https://localhost:8080/"
        },
        "id": "d-PHm-2vTo5q",
        "outputId": "85168c46-d789-4813-ab2c-1e806f2f3749"
      },
      "outputs": [
        {
          "output_type": "execute_result",
          "data": {
            "text/plain": [
              "array(['Commercial', 'Others', 'House'], dtype=object)"
            ]
          },
          "metadata": {},
          "execution_count": 16
        }
      ],
      "source": [
        "df['BUILDTYPE'].unique()"
      ]
    },
    {
      "cell_type": "markdown",
      "metadata": {
        "id": "jtGoweI0BUVN"
      },
      "source": [
        "STREET"
      ]
    },
    {
      "cell_type": "code",
      "execution_count": 17,
      "metadata": {
        "colab": {
          "base_uri": "https://localhost:8080/"
        },
        "id": "IqkCIhnlTyxK",
        "outputId": "47f682e6-3d4c-4314-e2ff-4978f01f891f"
      },
      "outputs": [
        {
          "output_type": "execute_result",
          "data": {
            "text/plain": [
              "Paved        2560\n",
              "Gravel       2520\n",
              "No Access    2010\n",
              "Pavd           12\n",
              "NoAccess        7\n",
              "Name: STREET, dtype: int64"
            ]
          },
          "metadata": {},
          "execution_count": 17
        }
      ],
      "source": [
        "df['STREET'].value_counts()"
      ]
    },
    {
      "cell_type": "code",
      "execution_count": 18,
      "metadata": {
        "id": "1c697rVEbX2D"
      },
      "outputs": [],
      "source": [
        "df['STREET']= df['STREET'].replace(['Pavd'],'Paved')\n",
        "df['STREET']= df['STREET'].replace(['NoAccess'],'No Access')\n"
      ]
    },
    {
      "cell_type": "code",
      "execution_count": 19,
      "metadata": {
        "colab": {
          "base_uri": "https://localhost:8080/"
        },
        "id": "1xJIeDHEbXnL",
        "outputId": "776948a7-4ab4-42df-de29-c68a799b4d86"
      },
      "outputs": [
        {
          "output_type": "execute_result",
          "data": {
            "text/plain": [
              "array(['Paved', 'Gravel', 'No Access'], dtype=object)"
            ]
          },
          "metadata": {},
          "execution_count": 19
        }
      ],
      "source": [
        "df['STREET'].unique()"
      ]
    },
    {
      "cell_type": "markdown",
      "metadata": {
        "id": "GI6HQEQjBWRV"
      },
      "source": [
        "PARK_FACILITY"
      ]
    },
    {
      "cell_type": "code",
      "execution_count": 20,
      "metadata": {
        "colab": {
          "base_uri": "https://localhost:8080/"
        },
        "id": "2BA5jvN5Ba6d",
        "outputId": "6d8cd4cc-78a4-4f58-ba87-295fc8b95e00"
      },
      "outputs": [
        {
          "output_type": "execute_result",
          "data": {
            "text/plain": [
              "Yes    3587\n",
              "No     3520\n",
              "Noo       2\n",
              "Name: PARK_FACIL, dtype: int64"
            ]
          },
          "metadata": {},
          "execution_count": 20
        }
      ],
      "source": [
        "df['PARK_FACIL'].value_counts()"
      ]
    },
    {
      "cell_type": "code",
      "execution_count": 21,
      "metadata": {
        "id": "Xu-vN-MxcyLd"
      },
      "outputs": [],
      "source": [
        "df['PARK_FACIL']= df['PARK_FACIL'].replace(['Noo'],'No')"
      ]
    },
    {
      "cell_type": "code",
      "execution_count": 22,
      "metadata": {
        "colab": {
          "base_uri": "https://localhost:8080/"
        },
        "id": "tWKflJ40CAO1",
        "outputId": "6d8d17e2-1afb-4855-cfcf-024dd9edbf64"
      },
      "outputs": [
        {
          "output_type": "execute_result",
          "data": {
            "text/plain": [
              "array(['Yes', 'No'], dtype=object)"
            ]
          },
          "metadata": {},
          "execution_count": 22
        }
      ],
      "source": [
        "df['PARK_FACIL'].unique()"
      ]
    },
    {
      "cell_type": "markdown",
      "metadata": {
        "id": "jAQ_v3W7CFSd"
      },
      "source": [
        "N_ROOM"
      ]
    },
    {
      "cell_type": "code",
      "execution_count": 23,
      "metadata": {
        "colab": {
          "base_uri": "https://localhost:8080/"
        },
        "id": "P2xQbvPx_4QA",
        "outputId": "7d4400f5-731d-4fb2-e240-da67a8dba0f1"
      },
      "outputs": [
        {
          "output_type": "execute_result",
          "data": {
            "text/plain": [
              "4    2563\n",
              "3    2125\n",
              "5    1246\n",
              "2     921\n",
              "6     254\n",
              "Name: N_ROOM, dtype: int64"
            ]
          },
          "metadata": {},
          "execution_count": 23
        }
      ],
      "source": [
        "df['N_ROOM'].value_counts()"
      ]
    },
    {
      "cell_type": "markdown",
      "metadata": {
        "id": "uEHiXqiDCJK9"
      },
      "source": [
        "SALE_COND"
      ]
    },
    {
      "cell_type": "code",
      "execution_count": 24,
      "metadata": {
        "colab": {
          "base_uri": "https://localhost:8080/"
        },
        "id": "SU46otnfblte",
        "outputId": "79bc459e-db7a-453d-82fe-b203ae620fc3"
      },
      "outputs": [
        {
          "output_type": "execute_result",
          "data": {
            "text/plain": [
              "AdjLand        1433\n",
              "Partial        1429\n",
              "Normal Sale    1423\n",
              "AbNormal       1406\n",
              "Family         1403\n",
              "Adj Land          6\n",
              "Ab Normal         5\n",
              "Partiall          3\n",
              "PartiaLl          1\n",
              "Name: SALE_COND, dtype: int64"
            ]
          },
          "metadata": {},
          "execution_count": 24
        }
      ],
      "source": [
        "df['SALE_COND'].value_counts()"
      ]
    },
    {
      "cell_type": "code",
      "execution_count": 25,
      "metadata": {
        "id": "v8ez2rOQdO1e"
      },
      "outputs": [],
      "source": [
        "df['SALE_COND']= df['SALE_COND'].replace(['Adj Land'],'AdjLand')\n",
        "df['SALE_COND']= df['SALE_COND'].replace(['Ab Normal'],'AbNormal')\n",
        "df['SALE_COND']= df['SALE_COND'].replace(['Partiall'],'Partial')\n",
        "df['SALE_COND']= df['SALE_COND'].replace(['PartiaLl'],'Partial')"
      ]
    },
    {
      "cell_type": "code",
      "execution_count": 26,
      "metadata": {
        "colab": {
          "base_uri": "https://localhost:8080/"
        },
        "id": "-kOkuSGpCM29",
        "outputId": "ca2ae0fb-e4d1-4645-abde-ef7204bfad04"
      },
      "outputs": [
        {
          "output_type": "execute_result",
          "data": {
            "text/plain": [
              "array(['AbNormal', 'Family', 'Partial', 'AdjLand', 'Normal Sale'],\n",
              "      dtype=object)"
            ]
          },
          "metadata": {},
          "execution_count": 26
        }
      ],
      "source": [
        "df['SALE_COND'].unique()"
      ]
    },
    {
      "cell_type": "markdown",
      "metadata": {
        "id": "llZpbLowCSBF"
      },
      "source": [
        "UTILITY_AVAIL"
      ]
    },
    {
      "cell_type": "code",
      "execution_count": 27,
      "metadata": {
        "colab": {
          "base_uri": "https://localhost:8080/"
        },
        "id": "MoB6WQNKd7NG",
        "outputId": "c1361a3d-3fc1-422b-f0f4-1fe8103d80a6"
      },
      "outputs": [
        {
          "output_type": "execute_result",
          "data": {
            "text/plain": [
              "AllPub     1886\n",
              "NoSeWa     1871\n",
              "NoSewr     1829\n",
              "ELO        1522\n",
              "All Pub       1\n",
              "Name: UTILITY_AVAIL, dtype: int64"
            ]
          },
          "metadata": {},
          "execution_count": 27
        }
      ],
      "source": [
        "df['UTILITY_AVAIL'].value_counts()"
      ]
    },
    {
      "cell_type": "code",
      "execution_count": 28,
      "metadata": {
        "id": "uvr9vKkeeD5O"
      },
      "outputs": [],
      "source": [
        "df['UTILITY_AVAIL']= df['UTILITY_AVAIL'].replace(['All Pub'],'AllPub')\n",
        "df['UTILITY_AVAIL']= df['UTILITY_AVAIL'].replace(['NoSewr '],'NoSewr')"
      ]
    },
    {
      "cell_type": "code",
      "execution_count": 29,
      "metadata": {
        "colab": {
          "base_uri": "https://localhost:8080/"
        },
        "id": "KHkBmUh0CVq2",
        "outputId": "0997ee01-4b36-4455-f390-dc1f12530c5f"
      },
      "outputs": [
        {
          "output_type": "execute_result",
          "data": {
            "text/plain": [
              "array(['AllPub', 'ELO', 'NoSewr', 'NoSeWa'], dtype=object)"
            ]
          },
          "metadata": {},
          "execution_count": 29
        }
      ],
      "source": [
        "df['UTILITY_AVAIL'].unique()"
      ]
    },
    {
      "cell_type": "markdown",
      "metadata": {
        "id": "La0wCySqCczG"
      },
      "source": [
        "N_BEDROOM"
      ]
    },
    {
      "cell_type": "code",
      "execution_count": 30,
      "metadata": {
        "colab": {
          "base_uri": "https://localhost:8080/"
        },
        "id": "XxTjH4j9eNl3",
        "outputId": "366dd8d4-45f5-4136-a790-b909eaa1b2d0"
      },
      "outputs": [
        {
          "output_type": "execute_result",
          "data": {
            "text/plain": [
              "1.0    3795\n",
              "2.0    2352\n",
              "3.0     707\n",
              "4.0     254\n",
              "Name: N_BEDROOM, dtype: int64"
            ]
          },
          "metadata": {},
          "execution_count": 30
        }
      ],
      "source": [
        "df['N_BEDROOM'].value_counts()"
      ]
    },
    {
      "cell_type": "code",
      "execution_count": 31,
      "metadata": {
        "colab": {
          "base_uri": "https://localhost:8080/"
        },
        "id": "JXnK4FRmcK4S",
        "outputId": "1124809f-34b0-4b1d-8e41-17c48cf5ec6f"
      },
      "outputs": [
        {
          "output_type": "execute_result",
          "data": {
            "text/plain": [
              "1"
            ]
          },
          "metadata": {},
          "execution_count": 31
        }
      ],
      "source": [
        "df['N_BEDROOM'].isnull().sum()"
      ]
    },
    {
      "cell_type": "markdown",
      "metadata": {
        "id": "-XPM9jCbCi62"
      },
      "source": [
        "As we can see there is only one null value in the data so we impute it by calculating the mode of the data."
      ]
    },
    {
      "cell_type": "code",
      "execution_count": 32,
      "metadata": {
        "id": "V4ZZoqswcJWz"
      },
      "outputs": [],
      "source": [
        "nu = df['N_BEDROOM'].mode()\n",
        "df.N_BEDROOM.fillna(int(nu), inplace=True)"
      ]
    },
    {
      "cell_type": "code",
      "execution_count": 33,
      "metadata": {
        "colab": {
          "base_uri": "https://localhost:8080/"
        },
        "id": "-GIb7FEccJJT",
        "outputId": "af911f4e-8ca9-455a-a8c8-15947f24d2a1"
      },
      "outputs": [
        {
          "output_type": "execute_result",
          "data": {
            "text/plain": [
              "0"
            ]
          },
          "metadata": {},
          "execution_count": 33
        }
      ],
      "source": [
        "df['N_BEDROOM'].isnull().sum()"
      ]
    },
    {
      "cell_type": "code",
      "execution_count": 34,
      "metadata": {
        "colab": {
          "base_uri": "https://localhost:8080/"
        },
        "id": "tfDZg61qdqh7",
        "outputId": "bd7c1bd1-70ff-4455-e7cb-79dd9a85c4c9"
      },
      "outputs": [
        {
          "output_type": "execute_result",
          "data": {
            "text/plain": [
              "1.0    3796\n",
              "2.0    2352\n",
              "3.0     707\n",
              "4.0     254\n",
              "Name: N_BEDROOM, dtype: int64"
            ]
          },
          "metadata": {},
          "execution_count": 34
        }
      ],
      "source": [
        "df['N_BEDROOM'].value_counts()"
      ]
    },
    {
      "cell_type": "code",
      "execution_count": 35,
      "metadata": {
        "colab": {
          "base_uri": "https://localhost:8080/"
        },
        "id": "5bnCw2cXdwDj",
        "outputId": "438645fa-271c-4d06-f774-8e0d72227b1f"
      },
      "outputs": [
        {
          "output_type": "execute_result",
          "data": {
            "text/plain": [
              "dtype('float64')"
            ]
          },
          "metadata": {},
          "execution_count": 35
        }
      ],
      "source": [
        "df['N_BEDROOM'].dtypes"
      ]
    },
    {
      "cell_type": "markdown",
      "metadata": {
        "id": "zBkMhPY6C1R0"
      },
      "source": [
        "If we check for the DataType of the data we see that it is a Float. So we convert it to INT"
      ]
    },
    {
      "cell_type": "code",
      "execution_count": 36,
      "metadata": {
        "id": "icHYwL6JeYj7"
      },
      "outputs": [],
      "source": [
        "df['N_BEDROOM'] = df['N_BEDROOM'].astype('int')"
      ]
    },
    {
      "cell_type": "code",
      "execution_count": 37,
      "metadata": {
        "colab": {
          "base_uri": "https://localhost:8080/"
        },
        "id": "U6JEJfmnfOyt",
        "outputId": "f67104cb-48a2-4b12-b41e-59be6a51baba"
      },
      "outputs": [
        {
          "output_type": "execute_result",
          "data": {
            "text/plain": [
              "dtype('int64')"
            ]
          },
          "metadata": {},
          "execution_count": 37
        }
      ],
      "source": [
        "df['N_BEDROOM'].dtypes"
      ]
    },
    {
      "cell_type": "markdown",
      "metadata": {
        "id": "LkJyp2K2DDvN"
      },
      "source": [
        "N_BATHROOM"
      ]
    },
    {
      "cell_type": "code",
      "execution_count": 38,
      "metadata": {
        "colab": {
          "base_uri": "https://localhost:8080/"
        },
        "id": "bMR1xPD0b57c",
        "outputId": "ad470b48-c925-4de5-ec8f-f806a0d6134d"
      },
      "outputs": [
        {
          "output_type": "execute_result",
          "data": {
            "text/plain": [
              "1.0    5589\n",
              "2.0    1515\n",
              "Name: N_BATHROOM, dtype: int64"
            ]
          },
          "metadata": {},
          "execution_count": 38
        }
      ],
      "source": [
        "df['N_BATHROOM'].value_counts()"
      ]
    },
    {
      "cell_type": "code",
      "execution_count": 39,
      "metadata": {
        "colab": {
          "base_uri": "https://localhost:8080/"
        },
        "id": "hktlljeFdx-M",
        "outputId": "7318c808-aee7-4209-c424-4c46e68bda96"
      },
      "outputs": [
        {
          "output_type": "execute_result",
          "data": {
            "text/plain": [
              "5"
            ]
          },
          "metadata": {},
          "execution_count": 39
        }
      ],
      "source": [
        "df['N_BATHROOM'].isnull().sum()"
      ]
    },
    {
      "cell_type": "markdown",
      "metadata": {
        "id": "tQlXbI4tDIS1"
      },
      "source": [
        "As we can see there is only 5 null values in the data so we impute them by calculating the mode of the data."
      ]
    },
    {
      "cell_type": "code",
      "execution_count": 40,
      "metadata": {
        "id": "6yY-uGkHdxVs"
      },
      "outputs": [],
      "source": [
        "nb= df['N_BATHROOM'].mode()\n",
        "df.N_BATHROOM.fillna(int(nb), inplace=True)"
      ]
    },
    {
      "cell_type": "code",
      "execution_count": 41,
      "metadata": {
        "colab": {
          "base_uri": "https://localhost:8080/"
        },
        "id": "-JuDrpSLdxPd",
        "outputId": "63e53544-2ecc-4d24-f12f-06094ab52ad6"
      },
      "outputs": [
        {
          "output_type": "execute_result",
          "data": {
            "text/plain": [
              "0"
            ]
          },
          "metadata": {},
          "execution_count": 41
        }
      ],
      "source": [
        "df['N_BATHROOM'].isnull().sum()"
      ]
    },
    {
      "cell_type": "code",
      "execution_count": 42,
      "metadata": {
        "colab": {
          "base_uri": "https://localhost:8080/"
        },
        "id": "1emdBRNsdw7b",
        "outputId": "37520aa8-4556-4e3d-cf13-d5d599c17006"
      },
      "outputs": [
        {
          "output_type": "execute_result",
          "data": {
            "text/plain": [
              "dtype('float64')"
            ]
          },
          "metadata": {},
          "execution_count": 42
        }
      ],
      "source": [
        "df['N_BATHROOM'].dtypes"
      ]
    },
    {
      "cell_type": "markdown",
      "metadata": {
        "id": "_pttaRBVDUzV"
      },
      "source": [
        "If we check for the DataType of the data we see that it is a Float. So we convert it to INT"
      ]
    },
    {
      "cell_type": "code",
      "execution_count": 43,
      "metadata": {
        "id": "An-VLXQImRIT"
      },
      "outputs": [],
      "source": [
        "df['N_BATHROOM'] = df['N_BATHROOM'].astype('int')"
      ]
    },
    {
      "cell_type": "code",
      "execution_count": 44,
      "metadata": {
        "colab": {
          "base_uri": "https://localhost:8080/"
        },
        "id": "qH2i-boqmYmz",
        "outputId": "ae71a583-9d40-4e16-f8d8-85494bce756b"
      },
      "outputs": [
        {
          "output_type": "execute_result",
          "data": {
            "text/plain": [
              "dtype('int64')"
            ]
          },
          "metadata": {},
          "execution_count": 44
        }
      ],
      "source": [
        "df['N_BATHROOM'].dtypes"
      ]
    },
    {
      "cell_type": "code",
      "execution_count": 45,
      "metadata": {
        "colab": {
          "base_uri": "https://localhost:8080/"
        },
        "id": "psKVlCbEcAar",
        "outputId": "7f75a7af-f5f5-47df-e2f5-0aee8a45a6b5"
      },
      "outputs": [
        {
          "output_type": "execute_result",
          "data": {
            "text/plain": [
              "4    2563\n",
              "3    2125\n",
              "5    1246\n",
              "2     921\n",
              "6     254\n",
              "Name: N_ROOM, dtype: int64"
            ]
          },
          "metadata": {},
          "execution_count": 45
        }
      ],
      "source": [
        "df['N_ROOM'].value_counts()"
      ]
    },
    {
      "cell_type": "markdown",
      "metadata": {
        "id": "OgChPvohVSF6"
      },
      "source": [
        "Converting to DateTime format and extractng Year to calculate age of the house"
      ]
    },
    {
      "cell_type": "code",
      "execution_count": 46,
      "metadata": {
        "id": "71ZQ2afPVKXT"
      },
      "outputs": [],
      "source": [
        "df.DATE_SALE = pd.to_datetime(df.DATE_SALE)"
      ]
    },
    {
      "cell_type": "code",
      "execution_count": 47,
      "metadata": {
        "id": "HfZ8jourVJi0"
      },
      "outputs": [],
      "source": [
        "df[\"SALE_YEAR\"] = pd.DatetimeIndex(df[\"DATE_SALE\"]).year"
      ]
    },
    {
      "cell_type": "code",
      "execution_count": 48,
      "metadata": {
        "id": "yJd26mn-VJSC"
      },
      "outputs": [],
      "source": [
        "df.DATE_BUILD = pd.to_datetime(df.DATE_BUILD)"
      ]
    },
    {
      "cell_type": "code",
      "execution_count": 49,
      "metadata": {
        "id": "paPlERqeV-Lh"
      },
      "outputs": [],
      "source": [
        "df[\"BUILD_YEAR\"] = pd.DatetimeIndex(df[\"DATE_BUILD\"]).year"
      ]
    },
    {
      "cell_type": "code",
      "execution_count": 50,
      "metadata": {
        "id": "8kxOtEbpWJ1I"
      },
      "outputs": [],
      "source": [
        "df[\"HOUSE_AGE\"] = df[\"SALE_YEAR\"] - df[\"BUILD_YEAR\"]"
      ]
    },
    {
      "cell_type": "code",
      "execution_count": 51,
      "metadata": {
        "colab": {
          "base_uri": "https://localhost:8080/"
        },
        "id": "nvszJAMAWJyJ",
        "outputId": "98eab5c8-5336-448d-86d3-3afff5f96428"
      },
      "outputs": [
        {
          "output_type": "execute_result",
          "data": {
            "text/plain": [
              "0       44\n",
              "1       11\n",
              "2       20\n",
              "3       22\n",
              "4       30\n",
              "        ..\n",
              "7104    49\n",
              "7105     9\n",
              "7106    28\n",
              "7107    32\n",
              "7108    44\n",
              "Name: HOUSE_AGE, Length: 7109, dtype: int64"
            ]
          },
          "metadata": {},
          "execution_count": 51
        }
      ],
      "source": [
        "df[\"HOUSE_AGE\"]"
      ]
    },
    {
      "cell_type": "markdown",
      "metadata": {
        "id": "Jn-PVWTPUmth"
      },
      "source": [
        "As we know unique values cannot be used as a feature so we remove PRT_ID and we remove COMMIS and REG_fee because they cannot be used to predict SALES_PRICE as they are some percent of sales_price."
      ]
    },
    {
      "cell_type": "code",
      "execution_count": 52,
      "metadata": {
        "colab": {
          "base_uri": "https://localhost:8080/"
        },
        "id": "bkon3-pvKrdh",
        "outputId": "e41ce4e8-6b85-4354-d665-378fcaed6eff"
      },
      "outputs": [
        {
          "output_type": "execute_result",
          "data": {
            "text/plain": [
              "Index(['PRT_ID', 'AREA', 'INT_SQFT', 'DATE_SALE', 'DIST_MAINROAD', 'N_BEDROOM',\n",
              "       'N_BATHROOM', 'N_ROOM', 'SALE_COND', 'PARK_FACIL', 'DATE_BUILD',\n",
              "       'BUILDTYPE', 'UTILITY_AVAIL', 'STREET', 'MZZONE', 'QS_ROOMS',\n",
              "       'QS_BATHROOM', 'QS_BEDROOM', 'QS_OVERALL', 'REG_FEE', 'COMMIS',\n",
              "       'SALES_PRICE', 'SALE_YEAR', 'BUILD_YEAR', 'HOUSE_AGE'],\n",
              "      dtype='object')"
            ]
          },
          "metadata": {},
          "execution_count": 52
        }
      ],
      "source": [
        "df.columns"
      ]
    },
    {
      "cell_type": "code",
      "execution_count": 53,
      "metadata": {
        "id": "DCt-vNyNxBI1"
      },
      "outputs": [],
      "source": [
        "df.drop('PRT_ID', inplace=True, axis=1)\n",
        "df.drop('COMMIS', inplace=True, axis=1)\n",
        "df.drop('REG_FEE', inplace=True, axis=1)"
      ]
    },
    {
      "cell_type": "code",
      "execution_count": 54,
      "metadata": {
        "colab": {
          "base_uri": "https://localhost:8080/"
        },
        "id": "Z0pMV0q3xBBu",
        "outputId": "e65de80a-72ef-43b5-fd2b-52978f4a991a"
      },
      "outputs": [
        {
          "output_type": "execute_result",
          "data": {
            "text/plain": [
              "Index(['AREA', 'INT_SQFT', 'DATE_SALE', 'DIST_MAINROAD', 'N_BEDROOM',\n",
              "       'N_BATHROOM', 'N_ROOM', 'SALE_COND', 'PARK_FACIL', 'DATE_BUILD',\n",
              "       'BUILDTYPE', 'UTILITY_AVAIL', 'STREET', 'MZZONE', 'QS_ROOMS',\n",
              "       'QS_BATHROOM', 'QS_BEDROOM', 'QS_OVERALL', 'SALES_PRICE', 'SALE_YEAR',\n",
              "       'BUILD_YEAR', 'HOUSE_AGE'],\n",
              "      dtype='object')"
            ]
          },
          "metadata": {},
          "execution_count": 54
        }
      ],
      "source": [
        "df.columns"
      ]
    },
    {
      "cell_type": "markdown",
      "metadata": {
        "id": "CkkXIKCsUas5"
      },
      "source": [
        "# Feature Distribution Plots"
      ]
    },
    {
      "cell_type": "markdown",
      "metadata": {
        "id": "ltua6TcxDmmt"
      },
      "source": [
        "AREA"
      ]
    },
    {
      "cell_type": "code",
      "execution_count": 55,
      "metadata": {
        "colab": {
          "base_uri": "https://localhost:8080/",
          "height": 0
        },
        "id": "sR7d0tAJAwPM",
        "outputId": "01e550cd-2564-4fa6-c45c-d58346a55d64"
      },
      "outputs": [
        {
          "output_type": "execute_result",
          "data": {
            "text/plain": [
              "<matplotlib.axes._subplots.AxesSubplot at 0x7f7094084310>"
            ]
          },
          "metadata": {},
          "execution_count": 55
        },
        {
          "output_type": "display_data",
          "data": {
            "text/plain": [
              "<Figure size 432x288 with 1 Axes>"
            ],
            "image/png": "[encoded data removed]"
          },
          "metadata": {
            "needs_background": "light"
          }
        }
      ],
      "source": [
        "df['AREA'].value_counts().plot(kind='bar')"
      ]
    },
    {
      "cell_type": "markdown",
      "metadata": {
        "id": "yYVKV1C2Dn-M"
      },
      "source": [
        "INT_SQFT"
      ]
    },
    {
      "cell_type": "code",
      "execution_count": 56,
      "metadata": {
        "colab": {
          "base_uri": "https://localhost:8080/",
          "height": 0
        },
        "id": "IoAo2Hc795XQ",
        "outputId": "5a5435e2-3a3f-464f-f841-c97281026044"
      },
      "outputs": [
        {
          "output_type": "execute_result",
          "data": {
            "text/plain": [
              "<matplotlib.axes._subplots.AxesSubplot at 0x7f7094013ed0>"
            ]
          },
          "metadata": {},
          "execution_count": 56
        },
        {
          "output_type": "display_data",
          "data": {
            "text/plain": [
              "<Figure size 432x288 with 1 Axes>"
            ],
            "image/png": "[encoded data removed]"
          },
          "metadata": {
            "needs_background": "light"
          }
        }
      ],
      "source": [
        "df['INT_SQFT'].value_counts().plot(kind='hist')"
      ]
    },
    {
      "cell_type": "markdown",
      "metadata": {
        "id": "70Bb08PWDqB0"
      },
      "source": [
        "DIST_MAINROAD"
      ]
    },
    {
      "cell_type": "code",
      "execution_count": 57,
      "metadata": {
        "colab": {
          "base_uri": "https://localhost:8080/",
          "height": 0
        },
        "id": "EFRJaNgn_Yhb",
        "outputId": "4b4cdc52-4be6-40fb-92a1-1961fa9f0860"
      },
      "outputs": [
        {
          "output_type": "execute_result",
          "data": {
            "text/plain": [
              "<matplotlib.axes._subplots.AxesSubplot at 0x7f7093acc350>"
            ]
          },
          "metadata": {},
          "execution_count": 57
        },
        {
          "output_type": "display_data",
          "data": {
            "text/plain": [
              "<Figure size 432x288 with 1 Axes>"
            ],
            "image/png": "[encoded data removed]"
          },
          "metadata": {
            "needs_background": "light"
          }
        }
      ],
      "source": [
        "df['DIST_MAINROAD'].value_counts().plot(kind='hist')"
      ]
    },
    {
      "cell_type": "markdown",
      "metadata": {
        "id": "WbryUH2oDr6A"
      },
      "source": [
        "N_BEDROOM"
      ]
    },
    {
      "cell_type": "code",
      "execution_count": 58,
      "metadata": {
        "colab": {
          "base_uri": "https://localhost:8080/",
          "height": 0
        },
        "id": "7s7f0hJomhww",
        "outputId": "cfdc7bc3-e221-495d-cfea-8f5d2ad5512c"
      },
      "outputs": [
        {
          "output_type": "execute_result",
          "data": {
            "text/plain": [
              "<matplotlib.axes._subplots.AxesSubplot at 0x7f7093a44290>"
            ]
          },
          "metadata": {},
          "execution_count": 58
        },
        {
          "output_type": "display_data",
          "data": {
            "text/plain": [
              "<Figure size 432x288 with 1 Axes>"
            ],
            "image/png": "[encoded data removed]"
          },
          "metadata": {
            "needs_background": "light"
          }
        }
      ],
      "source": [
        "df['N_BEDROOM'].value_counts().plot(kind='bar')"
      ]
    },
    {
      "cell_type": "markdown",
      "metadata": {
        "id": "C40y5Jj2DyTt"
      },
      "source": [
        "N_BATHROOM"
      ]
    },
    {
      "cell_type": "code",
      "execution_count": 59,
      "metadata": {
        "colab": {
          "base_uri": "https://localhost:8080/",
          "height": 0
        },
        "id": "9lEQbwMbmhqM",
        "outputId": "f75f8e14-f37d-43d0-a452-41d44762223a"
      },
      "outputs": [
        {
          "output_type": "execute_result",
          "data": {
            "text/plain": [
              "<matplotlib.axes._subplots.AxesSubplot at 0x7f70939cd790>"
            ]
          },
          "metadata": {},
          "execution_count": 59
        },
        {
          "output_type": "display_data",
          "data": {
            "text/plain": [
              "<Figure size 432x288 with 1 Axes>"
            ],
            "image/png": "[encoded data removed]"
          },
          "metadata": {
            "needs_background": "light"
          }
        }
      ],
      "source": [
        "df['N_BATHROOM'].value_counts().plot(kind='bar')"
      ]
    },
    {
      "cell_type": "markdown",
      "metadata": {
        "id": "fl6eLJr6D0Hl"
      },
      "source": [
        "N_ROOM"
      ]
    },
    {
      "cell_type": "code",
      "execution_count": 60,
      "metadata": {
        "colab": {
          "base_uri": "https://localhost:8080/",
          "height": 0
        },
        "id": "KGrzdGIz_klJ",
        "outputId": "e5e1ac64-29c2-42e0-d058-379a50184ef5"
      },
      "outputs": [
        {
          "output_type": "execute_result",
          "data": {
            "text/plain": [
              "<matplotlib.axes._subplots.AxesSubplot at 0x7f7093931890>"
            ]
          },
          "metadata": {},
          "execution_count": 60
        },
        {
          "output_type": "display_data",
          "data": {
            "text/plain": [
              "<Figure size 432x288 with 1 Axes>"
            ],
            "image/png": "[encoded data removed]"
          },
          "metadata": {
            "needs_background": "light"
          }
        }
      ],
      "source": [
        "df['N_ROOM'].value_counts().plot(kind='bar')"
      ]
    },
    {
      "cell_type": "markdown",
      "metadata": {
        "id": "XI13729ND1du"
      },
      "source": [
        "BUILDTYPE"
      ]
    },
    {
      "cell_type": "code",
      "execution_count": 61,
      "metadata": {
        "colab": {
          "base_uri": "https://localhost:8080/",
          "height": 0
        },
        "id": "827oTQ6NOacV",
        "outputId": "c9e8cf6b-1d33-4a0f-e9ea-a8c59a0e5161"
      },
      "outputs": [
        {
          "output_type": "execute_result",
          "data": {
            "text/plain": [
              "<matplotlib.axes._subplots.AxesSubplot at 0x7f70938fe7d0>"
            ]
          },
          "metadata": {},
          "execution_count": 61
        },
        {
          "output_type": "display_data",
          "data": {
            "text/plain": [
              "<Figure size 432x288 with 1 Axes>"
            ],
            "image/png": "[encoded data removed]"
          },
          "metadata": {
            "needs_background": "light"
          }
        }
      ],
      "source": [
        "df['BUILDTYPE'].value_counts().plot(kind='bar')"
      ]
    },
    {
      "cell_type": "markdown",
      "metadata": {
        "id": "JtZ5yn38D4s_"
      },
      "source": [
        "MZZONE"
      ]
    },
    {
      "cell_type": "code",
      "execution_count": 62,
      "metadata": {
        "colab": {
          "base_uri": "https://localhost:8080/",
          "height": 0
        },
        "id": "1EMkRBzcbU-u",
        "outputId": "d69bf744-debf-42fd-bf9c-675cd61be9b3"
      },
      "outputs": [
        {
          "output_type": "execute_result",
          "data": {
            "text/plain": [
              "<matplotlib.axes._subplots.AxesSubplot at 0x7f709381a390>"
            ]
          },
          "metadata": {},
          "execution_count": 62
        },
        {
          "output_type": "display_data",
          "data": {
            "text/plain": [
              "<Figure size 432x288 with 1 Axes>"
            ],
            "image/png": "[encoded data removed]"
          },
          "metadata": {
            "needs_background": "light"
          }
        }
      ],
      "source": [
        "df['MZZONE'].value_counts().plot(kind='bar')"
      ]
    },
    {
      "cell_type": "markdown",
      "metadata": {
        "id": "oj9mXKgCD6_8"
      },
      "source": [
        "PARK_FACIL"
      ]
    },
    {
      "cell_type": "code",
      "execution_count": 63,
      "metadata": {
        "colab": {
          "base_uri": "https://localhost:8080/",
          "height": 0
        },
        "id": "R4IxyasSbcNO",
        "outputId": "62432a63-6023-4594-9d88-753c853bc506"
      },
      "outputs": [
        {
          "output_type": "execute_result",
          "data": {
            "text/plain": [
              "<matplotlib.axes._subplots.AxesSubplot at 0x7f7093797b10>"
            ]
          },
          "metadata": {},
          "execution_count": 63
        },
        {
          "output_type": "display_data",
          "data": {
            "text/plain": [
              "<Figure size 432x288 with 1 Axes>"
            ],
            "image/png": "[encoded data removed]"
          },
          "metadata": {
            "needs_background": "light"
          }
        }
      ],
      "source": [
        "df['PARK_FACIL'].value_counts().plot(kind='bar')"
      ]
    },
    {
      "cell_type": "markdown",
      "metadata": {
        "id": "q2o8s1ofD9Ne"
      },
      "source": [
        "SALE_COND"
      ]
    },
    {
      "cell_type": "code",
      "execution_count": 64,
      "metadata": {
        "colab": {
          "base_uri": "https://localhost:8080/",
          "height": 0
        },
        "id": "Pkna-uHqejAe",
        "outputId": "1805b547-6fd8-4d85-eb24-10f09bc3aebe"
      },
      "outputs": [
        {
          "output_type": "execute_result",
          "data": {
            "text/plain": [
              "<matplotlib.axes._subplots.AxesSubplot at 0x7f70939c7950>"
            ]
          },
          "metadata": {},
          "execution_count": 64
        },
        {
          "output_type": "display_data",
          "data": {
            "text/plain": [
              "<Figure size 432x288 with 1 Axes>"
            ],
            "image/png": "[encoded data removed]"
          },
          "metadata": {
            "needs_background": "light"
          }
        }
      ],
      "source": [
        "df['SALE_COND'].value_counts().plot(kind='bar')"
      ]
    },
    {
      "cell_type": "markdown",
      "metadata": {
        "id": "iivSpzpDD_IX"
      },
      "source": [
        "STREET"
      ]
    },
    {
      "cell_type": "code",
      "execution_count": 65,
      "metadata": {
        "colab": {
          "base_uri": "https://localhost:8080/",
          "height": 0
        },
        "id": "dnkaKB_afF0p",
        "outputId": "aaa4a461-4096-4243-90e2-207664729685"
      },
      "outputs": [
        {
          "output_type": "execute_result",
          "data": {
            "text/plain": [
              "<matplotlib.axes._subplots.AxesSubplot at 0x7f70936d5a90>"
            ]
          },
          "metadata": {},
          "execution_count": 65
        },
        {
          "output_type": "display_data",
          "data": {
            "text/plain": [
              "<Figure size 432x288 with 1 Axes>"
            ],
            "image/png": "[encoded data removed]"
          },
          "metadata": {
            "needs_background": "light"
          }
        }
      ],
      "source": [
        "df['STREET'].value_counts().plot(kind='bar')"
      ]
    },
    {
      "cell_type": "markdown",
      "metadata": {
        "id": "uNT9_T0lEA5f"
      },
      "source": [
        "UTILITY_AVAIL"
      ]
    },
    {
      "cell_type": "code",
      "execution_count": 66,
      "metadata": {
        "colab": {
          "base_uri": "https://localhost:8080/",
          "height": 0
        },
        "id": "CSjIBrgOfPbV",
        "outputId": "dcb45488-69a4-4fb8-9730-8f5fdf105c9f"
      },
      "outputs": [
        {
          "output_type": "execute_result",
          "data": {
            "text/plain": [
              "<matplotlib.axes._subplots.AxesSubplot at 0x7f70936c6110>"
            ]
          },
          "metadata": {},
          "execution_count": 66
        },
        {
          "output_type": "display_data",
          "data": {
            "text/plain": [
              "<Figure size 432x288 with 1 Axes>"
            ],
            "image/png": "[encoded data removed]"
          },
          "metadata": {
            "needs_background": "light"
          }
        }
      ],
      "source": [
        "df['UTILITY_AVAIL'].value_counts().plot(kind='bar')"
      ]
    },
    {
      "cell_type": "markdown",
      "metadata": {
        "id": "MOXL40YgEDim"
      },
      "source": [
        "HOUSE_AGE"
      ]
    },
    {
      "cell_type": "code",
      "execution_count": 67,
      "metadata": {
        "colab": {
          "base_uri": "https://localhost:8080/",
          "height": 0
        },
        "id": "7SzWzqg8iHvK",
        "outputId": "5ea68fcb-9b09-4b97-b442-aeee44d8320d"
      },
      "outputs": [
        {
          "output_type": "execute_result",
          "data": {
            "text/plain": [
              "<matplotlib.axes._subplots.AxesSubplot at 0x7f709363cf50>"
            ]
          },
          "metadata": {},
          "execution_count": 67
        },
        {
          "output_type": "display_data",
          "data": {
            "text/plain": [
              "<Figure size 432x288 with 1 Axes>"
            ],
            "image/png": "[encoded data removed]"
          },
          "metadata": {
            "needs_background": "light"
          }
        }
      ],
      "source": [
        "df['HOUSE_AGE'].value_counts().plot(kind='hist')"
      ]
    },
    {
      "cell_type": "markdown",
      "metadata": {
        "id": "BPUt1Y08fWY9"
      },
      "source": [
        "# Feature Vs Target Plots"
      ]
    },
    {
      "cell_type": "markdown",
      "metadata": {
        "id": "HGqImh8tEGeF"
      },
      "source": [
        "AREA vs SALES_PRICE"
      ]
    },
    {
      "cell_type": "code",
      "execution_count": 68,
      "metadata": {
        "colab": {
          "base_uri": "https://localhost:8080/",
          "height": 0
        },
        "id": "Ea2x6xsXfael",
        "outputId": "f8717320-b07e-41ee-9fc3-e79b830df107"
      },
      "outputs": [
        {
          "output_type": "execute_result",
          "data": {
            "text/plain": [
              "<matplotlib.axes._subplots.AxesSubplot at 0x7f70935588d0>"
            ]
          },
          "metadata": {},
          "execution_count": 68
        },
        {
          "output_type": "display_data",
          "data": {
            "text/plain": [
              "<Figure size 432x288 with 1 Axes>"
            ],
            "image/png": "[encoded data removed]"
          },
          "metadata": {
            "needs_background": "light"
          }
        }
      ],
      "source": [
        "df.groupby(\"AREA\")[\"SALES_PRICE\"].mean().sort_values(ascending=True).plot.bar()"
      ]
    },
    {
      "cell_type": "markdown",
      "metadata": {
        "id": "VcJTqV6UZ0aL"
      },
      "source": [
        "AS we can see from the above figure, there is a linear relationship between the feature and target"
      ]
    },
    {
      "cell_type": "markdown",
      "metadata": {
        "id": "U6Vc-UuTEK0m"
      },
      "source": [
        "SALE_COND vs SALES_PRICE"
      ]
    },
    {
      "cell_type": "code",
      "execution_count": 69,
      "metadata": {
        "colab": {
          "base_uri": "https://localhost:8080/",
          "height": 0
        },
        "id": "dku9XyWZfv_o",
        "outputId": "b4a2196d-c72b-4a99-ed90-023ad46280a3"
      },
      "outputs": [
        {
          "output_type": "execute_result",
          "data": {
            "text/plain": [
              "<matplotlib.axes._subplots.AxesSubplot at 0x7f7093565250>"
            ]
          },
          "metadata": {},
          "execution_count": 69
        },
        {
          "output_type": "display_data",
          "data": {
            "text/plain": [
              "<Figure size 432x288 with 1 Axes>"
            ],
            "image/png": "[encoded data removed]"
          },
          "metadata": {
            "needs_background": "light"
          }
        }
      ],
      "source": [
        "df.groupby(\"SALE_COND\")[\"SALES_PRICE\"].mean().sort_values(ascending=True).plot.bar()"
      ]
    },
    {
      "cell_type": "markdown",
      "metadata": {
        "id": "6bURq0jmZ_8W"
      },
      "source": [
        "AS we can see from the above figure, there is a linear relationship between the feature and target"
      ]
    },
    {
      "cell_type": "markdown",
      "metadata": {
        "id": "c8i2FVKWES1f"
      },
      "source": [
        "N_BEDROOM vs SALES_PRICE"
      ]
    },
    {
      "cell_type": "code",
      "execution_count": 70,
      "metadata": {
        "colab": {
          "base_uri": "https://localhost:8080/",
          "height": 0
        },
        "id": "o3_-k_asrEkz",
        "outputId": "f8f0242d-132f-45be-eb16-054d5373ce3f"
      },
      "outputs": [
        {
          "output_type": "execute_result",
          "data": {
            "text/plain": [
              "<matplotlib.axes._subplots.AxesSubplot at 0x7f709345d490>"
            ]
          },
          "metadata": {},
          "execution_count": 70
        },
        {
          "output_type": "display_data",
          "data": {
            "text/plain": [
              "<Figure size 432x288 with 1 Axes>"
            ],
            "image/png": "[encoded data removed]"
          },
          "metadata": {
            "needs_background": "light"
          }
        }
      ],
      "source": [
        "df.groupby(\"N_BEDROOM\")[\"SALES_PRICE\"].mean().sort_values(ascending=True).plot.bar()"
      ]
    },
    {
      "cell_type": "markdown",
      "metadata": {
        "id": "cj4upDLgaBSU"
      },
      "source": [
        "AS we can see from the above figure, there is a linear relationship between the feature and target"
      ]
    },
    {
      "cell_type": "markdown",
      "metadata": {
        "id": "2o9djHHrEWtV"
      },
      "source": [
        "N_BATHROOM vs SALES_PRICE"
      ]
    },
    {
      "cell_type": "code",
      "execution_count": 71,
      "metadata": {
        "colab": {
          "base_uri": "https://localhost:8080/",
          "height": 0
        },
        "id": "sQ8oAqBKrEbZ",
        "outputId": "47ba0037-c190-4d0f-fdc9-aa57ea6770d9"
      },
      "outputs": [
        {
          "output_type": "execute_result",
          "data": {
            "text/plain": [
              "<matplotlib.axes._subplots.AxesSubplot at 0x7f70933d5050>"
            ]
          },
          "metadata": {},
          "execution_count": 71
        },
        {
          "output_type": "display_data",
          "data": {
            "text/plain": [
              "<Figure size 432x288 with 1 Axes>"
            ],
            "image/png": "[encoded data removed]"
          },
          "metadata": {
            "needs_background": "light"
          }
        }
      ],
      "source": [
        "df.groupby(\"N_BATHROOM\")[\"SALES_PRICE\"].mean().sort_values(ascending=True).plot.bar()"
      ]
    },
    {
      "cell_type": "markdown",
      "metadata": {
        "id": "glu3IuVLaCdv"
      },
      "source": [
        "AS we can see from the above figure, there is a linear relationship between the feature and target"
      ]
    },
    {
      "cell_type": "markdown",
      "metadata": {
        "id": "hhGkGQSFEaBN"
      },
      "source": [
        "N_ROOM vs SALES_PRICE"
      ]
    },
    {
      "cell_type": "code",
      "execution_count": 72,
      "metadata": {
        "colab": {
          "base_uri": "https://localhost:8080/",
          "height": 0
        },
        "id": "-wXb0dyErEYd",
        "outputId": "99695b92-fe9f-4b47-bf70-19faef24bf78"
      },
      "outputs": [
        {
          "output_type": "execute_result",
          "data": {
            "text/plain": [
              "<matplotlib.axes._subplots.AxesSubplot at 0x7f70933c2f90>"
            ]
          },
          "metadata": {},
          "execution_count": 72
        },
        {
          "output_type": "display_data",
          "data": {
            "text/plain": [
              "<Figure size 432x288 with 1 Axes>"
            ],
            "image/png": "[encoded data removed]"
          },
          "metadata": {
            "needs_background": "light"
          }
        }
      ],
      "source": [
        "df.groupby(\"N_ROOM\")[\"SALES_PRICE\"].mean().sort_values(ascending=True).plot.bar()"
      ]
    },
    {
      "cell_type": "markdown",
      "metadata": {
        "id": "4OvXoRwPaEXY"
      },
      "source": [
        "AS we can see from the above figure, there is a linear relationship between the feature and target"
      ]
    },
    {
      "cell_type": "markdown",
      "metadata": {
        "id": "PXegxwJLEdO2"
      },
      "source": [
        "PARK_FACIL vs SALES_PRICE"
      ]
    },
    {
      "cell_type": "code",
      "execution_count": 73,
      "metadata": {
        "colab": {
          "base_uri": "https://localhost:8080/",
          "height": 0
        },
        "id": "-8NI0LUcgzQu",
        "outputId": "4e5889bc-e583-4f0d-a629-1d7ad1a831c8"
      },
      "outputs": [
        {
          "output_type": "execute_result",
          "data": {
            "text/plain": [
              "<matplotlib.axes._subplots.AxesSubplot at 0x7f709333c0d0>"
            ]
          },
          "metadata": {},
          "execution_count": 73
        },
        {
          "output_type": "display_data",
          "data": {
            "text/plain": [
              "<Figure size 432x288 with 1 Axes>"
            ],
            "image/png": "[encoded data removed]"
          },
          "metadata": {
            "needs_background": "light"
          }
        }
      ],
      "source": [
        "df.groupby(\"PARK_FACIL\")[\"SALES_PRICE\"].mean().sort_values(ascending=True).plot.bar()"
      ]
    },
    {
      "cell_type": "markdown",
      "metadata": {
        "id": "TJOoKqMjaFTX"
      },
      "source": [
        "AS we can see from the above figure, there is a linear relationship between the feature and target"
      ]
    },
    {
      "cell_type": "markdown",
      "metadata": {
        "id": "WW3pAWzQEgf1"
      },
      "source": [
        "BUILDTYPE vs SALES_PRICE"
      ]
    },
    {
      "cell_type": "code",
      "execution_count": 74,
      "metadata": {
        "colab": {
          "base_uri": "https://localhost:8080/",
          "height": 0
        },
        "id": "qhQBkwQSgzK2",
        "outputId": "8c77ecab-65a4-4d52-91f8-c8f681e0b75f"
      },
      "outputs": [
        {
          "output_type": "execute_result",
          "data": {
            "text/plain": [
              "<matplotlib.axes._subplots.AxesSubplot at 0x7f70932b4a90>"
            ]
          },
          "metadata": {},
          "execution_count": 74
        },
        {
          "output_type": "display_data",
          "data": {
            "text/plain": [
              "<Figure size 432x288 with 1 Axes>"
            ],
            "image/png": "[encoded data removed]"
          },
          "metadata": {
            "needs_background": "light"
          }
        }
      ],
      "source": [
        "df.groupby(\"BUILDTYPE\")[\"SALES_PRICE\"].mean().sort_values(ascending=True).plot.bar()"
      ]
    },
    {
      "cell_type": "markdown",
      "metadata": {
        "id": "IDd66_41aGbc"
      },
      "source": [
        "As we can see there is a relationship between the feature and target but it is not a perfect linear relationship"
      ]
    },
    {
      "cell_type": "markdown",
      "metadata": {
        "id": "kQybsB6gEkAt"
      },
      "source": [
        "UTILITY_AVAIL vs SALES_PRICE"
      ]
    },
    {
      "cell_type": "code",
      "execution_count": 75,
      "metadata": {
        "colab": {
          "base_uri": "https://localhost:8080/",
          "height": 0
        },
        "id": "jzMaSsQhgyCm",
        "outputId": "6dee2e1c-3ee1-4e54-c866-c41c861a7ed0"
      },
      "outputs": [
        {
          "output_type": "execute_result",
          "data": {
            "text/plain": [
              "<matplotlib.axes._subplots.AxesSubplot at 0x7f7093220ad0>"
            ]
          },
          "metadata": {},
          "execution_count": 75
        },
        {
          "output_type": "display_data",
          "data": {
            "text/plain": [
              "<Figure size 432x288 with 1 Axes>"
            ],
            "image/png": "[encoded data removed]"
          },
          "metadata": {
            "needs_background": "light"
          }
        }
      ],
      "source": [
        "df.groupby(\"UTILITY_AVAIL\")[\"SALES_PRICE\"].mean().sort_values(ascending=True).plot.bar()"
      ]
    },
    {
      "cell_type": "markdown",
      "metadata": {
        "id": "oCiz8ho7aaVY"
      },
      "source": [
        "AS we can see from the above figure, there is no linear relationship"
      ]
    },
    {
      "cell_type": "markdown",
      "metadata": {
        "id": "ye61xEb4FUR2"
      },
      "source": [
        "STREET vs SALES_PRICE"
      ]
    },
    {
      "cell_type": "code",
      "execution_count": 76,
      "metadata": {
        "colab": {
          "base_uri": "https://localhost:8080/",
          "height": 0
        },
        "id": "o6KCGQKfgx6V",
        "outputId": "395b6758-9d37-44be-c088-adb7ab9a078d"
      },
      "outputs": [
        {
          "output_type": "execute_result",
          "data": {
            "text/plain": [
              "<matplotlib.axes._subplots.AxesSubplot at 0x7f7093210350>"
            ]
          },
          "metadata": {},
          "execution_count": 76
        },
        {
          "output_type": "display_data",
          "data": {
            "text/plain": [
              "<Figure size 432x288 with 1 Axes>"
            ],
            "image/png": "[encoded data removed]"
          },
          "metadata": {
            "needs_background": "light"
          }
        }
      ],
      "source": [
        "df.groupby(\"STREET\")[\"SALES_PRICE\"].mean().sort_values(ascending=True).plot.bar()"
      ]
    },
    {
      "cell_type": "markdown",
      "metadata": {
        "id": "J3R-CDSxacdZ"
      },
      "source": [
        "AS we can see from the above figure, there is a linear relationship between the feature and target"
      ]
    },
    {
      "cell_type": "markdown",
      "metadata": {
        "id": "wJYn6ndSFXFH"
      },
      "source": [
        "MZZONE vs SALES_PRICE"
      ]
    },
    {
      "cell_type": "code",
      "execution_count": 77,
      "metadata": {
        "colab": {
          "base_uri": "https://localhost:8080/",
          "height": 0
        },
        "id": "W56350O4gxyt",
        "outputId": "853e9cfe-a89e-4698-bec3-aca897755abf"
      },
      "outputs": [
        {
          "output_type": "execute_result",
          "data": {
            "text/plain": [
              "<matplotlib.axes._subplots.AxesSubplot at 0x7f709316bd50>"
            ]
          },
          "metadata": {},
          "execution_count": 77
        },
        {
          "output_type": "display_data",
          "data": {
            "text/plain": [
              "<Figure size 432x288 with 1 Axes>"
            ],
            "image/png": "[encoded data removed]"
          },
          "metadata": {
            "needs_background": "light"
          }
        }
      ],
      "source": [
        "df.groupby(\"MZZONE\")[\"SALES_PRICE\"].mean().sort_values(ascending=True).plot.bar()"
      ]
    },
    {
      "cell_type": "markdown",
      "metadata": {
        "id": "Pcxu8Pkuad_g"
      },
      "source": [
        "AS we can see from the above figure, there is a linear relationship between the feature and target"
      ]
    },
    {
      "cell_type": "markdown",
      "metadata": {
        "id": "jfETAoHXFaKH"
      },
      "source": [
        "INT_SQFT vs SALES_PRICE"
      ]
    },
    {
      "cell_type": "code",
      "execution_count": 78,
      "metadata": {
        "colab": {
          "base_uri": "https://localhost:8080/",
          "height": 0
        },
        "id": "Mb8TZSoyhqfa",
        "outputId": "333f50c9-f6e2-472a-c696-0665fcaa972e"
      },
      "outputs": [
        {
          "output_type": "execute_result",
          "data": {
            "text/plain": [
              "Text(0.5, 1.0, 'INT_SQFT vs SALES_PRICE')"
            ]
          },
          "metadata": {},
          "execution_count": 78
        },
        {
          "output_type": "display_data",
          "data": {
            "text/plain": [
              "<Figure size 432x288 with 1 Axes>"
            ],
            "image/png": "[encoded data removed]"
          },
          "metadata": {
            "needs_background": "light"
          }
        }
      ],
      "source": [
        "sns.set_palette(\"colorblind\")\n",
        "sns.regplot(x = df[\"INT_SQFT\"], y =df[\"SALES_PRICE\"], line_kws={\"color\":\"red\"})\n",
        "plt.title(\"INT_SQFT vs SALES_PRICE\")"
      ]
    },
    {
      "cell_type": "markdown",
      "metadata": {
        "id": "BzU_Uob0aifY"
      },
      "source": [
        "From the above figure we can clearly see that if INT_SQFT increases, SALES_PRICE also increases."
      ]
    },
    {
      "cell_type": "markdown",
      "metadata": {
        "id": "SaEF3XV2FeJP"
      },
      "source": [
        "DIST_MAINROAD vs SALES_PRICE"
      ]
    },
    {
      "cell_type": "code",
      "execution_count": 79,
      "metadata": {
        "colab": {
          "base_uri": "https://localhost:8080/",
          "height": 0
        },
        "id": "qbwwXIu6MpJS",
        "outputId": "d65f0a0c-0a6d-410c-dc43-48ee37865772"
      },
      "outputs": [
        {
          "output_type": "execute_result",
          "data": {
            "text/plain": [
              "Text(0.5, 1.0, 'DIST_MAINROAD vs SALES_PRICE')"
            ]
          },
          "metadata": {},
          "execution_count": 79
        },
        {
          "output_type": "display_data",
          "data": {
            "text/plain": [
              "<Figure size 432x288 with 1 Axes>"
            ],
            "image/png": "[encoded data removed]"
          },
          "metadata": {
            "needs_background": "light"
          }
        }
      ],
      "source": [
        "sns.set_palette(\"pastel\")\n",
        "sns.regplot(x = df[\"DIST_MAINROAD\"], y =df[\"SALES_PRICE\"], line_kws={\"color\":\"red\"})\n",
        "plt.title(\"DIST_MAINROAD vs SALES_PRICE\")"
      ]
    },
    {
      "cell_type": "markdown",
      "metadata": {
        "id": "3qgaZw2PatSm"
      },
      "source": [
        "From the above figure, we can see that DIST_MAINROAD has no impact on SALES_PRICE"
      ]
    },
    {
      "cell_type": "markdown",
      "metadata": {
        "id": "o0IMiT7OFiIo"
      },
      "source": [
        "HOUSE_AGE vs SALES_PRICE"
      ]
    },
    {
      "cell_type": "code",
      "execution_count": 80,
      "metadata": {
        "colab": {
          "base_uri": "https://localhost:8080/",
          "height": 0
        },
        "id": "UvsrxvzsiiHF",
        "outputId": "4fff215b-a92d-4333-ac76-e35984f0b677"
      },
      "outputs": [
        {
          "output_type": "execute_result",
          "data": {
            "text/plain": [
              "Text(0.5, 1.0, 'AGE_OF_BUILDING vs SALES_PRICE')"
            ]
          },
          "metadata": {},
          "execution_count": 80
        },
        {
          "output_type": "display_data",
          "data": {
            "text/plain": [
              "<Figure size 432x288 with 1 Axes>"
            ],
            "image/png": "[encoded data removed]"
          },
          "metadata": {
            "needs_background": "light"
          }
        }
      ],
      "source": [
        "sns.set_palette(\"muted\")\n",
        "sns.regplot(x = df[\"HOUSE_AGE\"], y =df[\"SALES_PRICE\"], line_kws={\"color\":\"red\"})\n",
        "plt.title(\"AGE_OF_BUILDING vs SALES_PRICE\")"
      ]
    },
    {
      "cell_type": "markdown",
      "metadata": {
        "id": "bEVISt9Ja8Zw"
      },
      "source": [
        "From the above figure, we can see that there is a relationship but not a positive relationship. As BUILDING_AGE increases SALES_PRICE decreases"
      ]
    },
    {
      "cell_type": "code",
      "execution_count": 81,
      "metadata": {
        "colab": {
          "base_uri": "https://localhost:8080/"
        },
        "id": "YahX7CVtrZKL",
        "outputId": "0a135990-a862-4aea-c3bb-bbdac594d94e"
      },
      "outputs": [
        {
          "output_type": "execute_result",
          "data": {
            "text/plain": [
              "(7109, 22)"
            ]
          },
          "metadata": {},
          "execution_count": 81
        }
      ],
      "source": [
        "df.shape"
      ]
    },
    {
      "cell_type": "markdown",
      "metadata": {
        "id": "hObkvdPrivmn"
      },
      "source": [
        "# **ENCODING**"
      ]
    },
    {
      "cell_type": "markdown",
      "metadata": {
        "id": "sYC3YEEfvS5t"
      },
      "source": [
        "1. From the above plots there are mixed data. So we use different encoding techniques\n",
        "2. For AREA, SALE_COND, PARK_FACIL, STREET, MZZONE has ordinal linear relationship with target so we use ONEHOT ENCODING.\n",
        "3. For BUILD_TYPE there is a ordinal relationship with target but not perfectly linear so we use LABEL ENCODING.\n",
        "4. For UTILITY_AVAIL there is no linear relationship so we use LABEL ENCODING."
      ]
    },
    {
      "cell_type": "markdown",
      "metadata": {
        "id": "0UTTrogjyOWq"
      },
      "source": [
        "# LABEL ENCODING"
      ]
    },
    {
      "cell_type": "markdown",
      "metadata": {
        "id": "Xyq0CztppnVb"
      },
      "source": [
        "BUILD_TYPE"
      ]
    },
    {
      "cell_type": "code",
      "execution_count": 82,
      "metadata": {
        "id": "aQicdXBQq7rj"
      },
      "outputs": [],
      "source": [
        "df = pd.get_dummies(df, columns=[\"BUILDTYPE\"])"
      ]
    },
    {
      "cell_type": "markdown",
      "metadata": {
        "id": "CCxNpauosP_7"
      },
      "source": [
        "UTILITY_AVAIL"
      ]
    },
    {
      "cell_type": "code",
      "execution_count": 83,
      "metadata": {
        "id": "bfEVdQvDr8_8"
      },
      "outputs": [],
      "source": [
        "df = pd.get_dummies(df, columns=[\"UTILITY_AVAIL\"])\n"
      ]
    },
    {
      "cell_type": "code",
      "execution_count": 84,
      "metadata": {
        "id": "HqHgbhmogxs5"
      },
      "outputs": [],
      "source": [
        "df1=df"
      ]
    },
    {
      "cell_type": "code",
      "execution_count": 85,
      "metadata": {
        "id": "_p9brMLj7OY7"
      },
      "outputs": [],
      "source": [
        "df1.to_csv(\"final_cleaned_data1\")"
      ]
    },
    {
      "cell_type": "markdown",
      "metadata": {
        "id": "87PTINjJyKpO"
      },
      "source": [
        "# ONE-HOT ENCODING"
      ]
    },
    {
      "cell_type": "markdown",
      "metadata": {
        "id": "cKuaqo09kHSh"
      },
      "source": [
        "AREA"
      ]
    },
    {
      "cell_type": "code",
      "execution_count": 86,
      "metadata": {
        "colab": {
          "base_uri": "https://localhost:8080/"
        },
        "id": "oXbcUKEvix17",
        "outputId": "efcf5056-33ae-4f01-e769-0c308a31d35c"
      },
      "outputs": [
        {
          "output_type": "execute_result",
          "data": {
            "text/plain": [
              "array([0, 5, 1, 3, 2, 4, 6])"
            ]
          },
          "metadata": {},
          "execution_count": 86
        }
      ],
      "source": [
        "area = {\"Karapakkam\":0, \"Adyar\":1, \"Chrompet\":2, \"Velachery\":3, \"KK Nagar\":4, \"Anna Nagar\":5, \"T Nagar\":6}\n",
        "\n",
        "df[\"AREA\"] = df[\"AREA\"].replace(area)\n",
        "\n",
        "df[\"AREA\"].unique()"
      ]
    },
    {
      "cell_type": "markdown",
      "metadata": {
        "id": "xoeTPOOXlcGi"
      },
      "source": [
        "SALE_COND"
      ]
    },
    {
      "cell_type": "code",
      "execution_count": 87,
      "metadata": {
        "colab": {
          "base_uri": "https://localhost:8080/"
        },
        "id": "6GDHc1_8lN2i",
        "outputId": "44c64555-5df7-4178-eb6f-15d20478f977"
      },
      "outputs": [
        {
          "output_type": "execute_result",
          "data": {
            "text/plain": [
              "array([2, 1, 0, 4, 3])"
            ]
          },
          "metadata": {},
          "execution_count": 87
        }
      ],
      "source": [
        "salecond = {\"Partial\":0, \"Family\":1, \"AbNormal\":2, \"Normal Sale\":3, \"AdjLand\":4}\n",
        "\n",
        "df[\"SALE_COND\"] = df[\"SALE_COND\"].replace(salecond)\n",
        "\n",
        "df[\"SALE_COND\"].unique()"
      ]
    },
    {
      "cell_type": "markdown",
      "metadata": {
        "id": "mh95FDTdn0zc"
      },
      "source": [
        "PARK_FACIL"
      ]
    },
    {
      "cell_type": "code",
      "execution_count": 88,
      "metadata": {
        "colab": {
          "base_uri": "https://localhost:8080/"
        },
        "id": "rzYuk-PFmbHV",
        "outputId": "2504191b-4176-48b6-a844-ceb4738eb195"
      },
      "outputs": [
        {
          "output_type": "execute_result",
          "data": {
            "text/plain": [
              "array([1, 0])"
            ]
          },
          "metadata": {},
          "execution_count": 88
        }
      ],
      "source": [
        "park = {\"Yes\":1, \"No\":0}\n",
        "\n",
        "df[\"PARK_FACIL\"] = df[\"PARK_FACIL\"].replace(park)\n",
        "\n",
        "df[\"PARK_FACIL\"].unique()"
      ]
    },
    {
      "cell_type": "markdown",
      "metadata": {
        "id": "Gb3YRGvMn3Yr"
      },
      "source": [
        "STREET"
      ]
    },
    {
      "cell_type": "code",
      "execution_count": 89,
      "metadata": {
        "colab": {
          "base_uri": "https://localhost:8080/"
        },
        "id": "lzSAcKYfnz_V",
        "outputId": "d630c13a-96e4-46fc-cebd-d4df81802fb2"
      },
      "outputs": [
        {
          "output_type": "execute_result",
          "data": {
            "text/plain": [
              "array([1, 2, 0])"
            ]
          },
          "metadata": {},
          "execution_count": 89
        }
      ],
      "source": [
        "street = {\"No Access\":0, \"Paved\":1, \"Gravel\":2}\n",
        "\n",
        "df[\"STREET\"] = df['STREET'].replace(street)\n",
        "\n",
        "df['STREET'].unique()"
      ]
    },
    {
      "cell_type": "markdown",
      "metadata": {
        "id": "HvW7feO2oucN"
      },
      "source": [
        "MZZONE"
      ]
    },
    {
      "cell_type": "code",
      "execution_count": 90,
      "metadata": {
        "colab": {
          "base_uri": "https://localhost:8080/"
        },
        "id": "LLaxhFuZov2U",
        "outputId": "cef1c3a5-ea21-4122-a9ad-6c9f85e91063"
      },
      "outputs": [
        {
          "output_type": "execute_result",
          "data": {
            "text/plain": [
              "array([0, 3, 4, 2, 1, 5])"
            ]
          },
          "metadata": {},
          "execution_count": 90
        }
      ],
      "source": [
        "zone = {\"A\":0, \"C\":1, \"I\":2, \"RH\":3, \"RL\":4, \"RM\":5}\n",
        "\n",
        "df[\"MZZONE\"] = df[\"MZZONE\"].replace(zone)\n",
        "\n",
        "df[\"MZZONE\"].unique()"
      ]
    },
    {
      "cell_type": "markdown",
      "metadata": {
        "id": "nQL178bMxOV1"
      },
      "source": [
        "REMOVING UNWANTED DATA:\n",
        "1. As there is no need of SALE_YEAR and BUILD_YEAR we drop it.\n",
        "2. As we dont know how QS_ROOMS, QS_BATHROOM, QS_BEDROOM, QS_OVERALL are calculated so we consider them as unwanted data and hence we remove them.\n",
        "3. DATE_SALE and DATE_BUILD cannot be used as a feature because they are timestamp data, so we remove them."
      ]
    },
    {
      "cell_type": "code",
      "execution_count": 91,
      "metadata": {
        "id": "LmbsqKGPuTfI"
      },
      "outputs": [],
      "source": [
        "df.drop('DATE_SALE', inplace=True, axis=1)\n",
        "df.drop('DATE_BUILD', inplace=True, axis=1)\n",
        "df.drop('QS_ROOMS', inplace=True, axis=1)\n",
        "df.drop('QS_BATHROOM', inplace=True, axis=1)\n",
        "df.drop('QS_BEDROOM', inplace=True, axis=1)\n",
        "df.drop('QS_OVERALL', inplace=True, axis=1)\n",
        "df.drop('SALE_YEAR', inplace=True, axis=1)\n",
        "df.drop('BUILD_YEAR', inplace=True, axis=1)"
      ]
    },
    {
      "cell_type": "code",
      "execution_count": 92,
      "metadata": {
        "colab": {
          "base_uri": "https://localhost:8080/"
        },
        "id": "ElWM5xZ6uTSH",
        "outputId": "8ef4aa53-fce1-4f18-b432-f71f3da536f7"
      },
      "outputs": [
        {
          "output_type": "stream",
          "name": "stdout",
          "text": [
            "<class 'pandas.core.frame.DataFrame'>\n",
            "RangeIndex: 7109 entries, 0 to 7108\n",
            "Data columns (total 19 columns):\n",
            " #   Column                Non-Null Count  Dtype\n",
            "---  ------                --------------  -----\n",
            " 0   AREA                  7109 non-null   int64\n",
            " 1   INT_SQFT              7109 non-null   int64\n",
            " 2   DIST_MAINROAD         7109 non-null   int64\n",
            " 3   N_BEDROOM             7109 non-null   int64\n",
            " 4   N_BATHROOM            7109 non-null   int64\n",
            " 5   N_ROOM                7109 non-null   int64\n",
            " 6   SALE_COND             7109 non-null   int64\n",
            " 7   PARK_FACIL            7109 non-null   int64\n",
            " 8   STREET                7109 non-null   int64\n",
            " 9   MZZONE                7109 non-null   int64\n",
            " 10  SALES_PRICE           7109 non-null   int64\n",
            " 11  HOUSE_AGE             7109 non-null   int64\n",
            " 12  BUILDTYPE_Commercial  7109 non-null   uint8\n",
            " 13  BUILDTYPE_House       7109 non-null   uint8\n",
            " 14  BUILDTYPE_Others      7109 non-null   uint8\n",
            " 15  UTILITY_AVAIL_AllPub  7109 non-null   uint8\n",
            " 16  UTILITY_AVAIL_ELO     7109 non-null   uint8\n",
            " 17  UTILITY_AVAIL_NoSeWa  7109 non-null   uint8\n",
            " 18  UTILITY_AVAIL_NoSewr  7109 non-null   uint8\n",
            "dtypes: int64(12), uint8(7)\n",
            "memory usage: 715.2 KB\n"
          ]
        }
      ],
      "source": [
        "df.info()"
      ]
    },
    {
      "cell_type": "markdown",
      "metadata": {
        "id": "BAYLkpoFx0tB"
      },
      "source": [
        "# **SPLITTING THE DATA**"
      ]
    },
    {
      "cell_type": "code",
      "execution_count": 93,
      "metadata": {
        "id": "GeFXbiPggspP"
      },
      "outputs": [],
      "source": [
        "from sklearn.model_selection import train_test_split\n",
        "X=df1.drop(['SALES_PRICE'],axis=1)\n",
        "Y=df1['SALES_PRICE']"
      ]
    },
    {
      "cell_type": "code",
      "execution_count": 94,
      "metadata": {
        "id": "LzEitaCxg0ZK"
      },
      "outputs": [],
      "source": [
        "x_train,x_test,y_train,y_test=train_test_split(X,Y,test_size=0.2, random_state=5)"
      ]
    },
    {
      "cell_type": "markdown",
      "metadata": {
        "id": "696p5Z9DyDC6"
      },
      "source": [
        "# **MACHINE LEARNING MODELS**"
      ]
    },
    {
      "cell_type": "markdown",
      "metadata": {
        "id": "gMT1L8bRMcti"
      },
      "source": [
        "**1. LINEAR REGRESSION**"
      ]
    },
    {
      "cell_type": "code",
      "execution_count": 95,
      "metadata": {
        "id": "GRAGvT4eg7EW"
      },
      "outputs": [],
      "source": [
        "#importing all the required functions\n",
        "from sklearn.linear_model import LinearRegression"
      ]
    },
    {
      "cell_type": "code",
      "execution_count": 96,
      "metadata": {
        "colab": {
          "base_uri": "https://localhost:8080/"
        },
        "id": "2bdmMZEmg9qG",
        "outputId": "cd82ca66-ce23-4b16-a46d-d050808cf2fc"
      },
      "outputs": [
        {
          "output_type": "execute_result",
          "data": {
            "text/plain": [
              "LinearRegression()"
            ]
          },
          "metadata": {},
          "execution_count": 96
        }
      ],
      "source": [
        "#Building the Model\n",
        "linReg=LinearRegression()\n",
        "linReg.fit(x_train,y_train)"
      ]
    },
    {
      "cell_type": "code",
      "execution_count": 97,
      "metadata": {
        "colab": {
          "base_uri": "https://localhost:8080/"
        },
        "id": "PCENMaQ6hAWH",
        "outputId": "e81702c6-d514-4275-b6c4-867810157610"
      },
      "outputs": [
        {
          "output_type": "execute_result",
          "data": {
            "text/plain": [
              "array([11004355.34306848, 14436661.74120433, 14703112.95527572, ...,\n",
              "        6612893.87279093,  8732360.06495974, 15691866.46404587])"
            ]
          },
          "metadata": {},
          "execution_count": 97
        }
      ],
      "source": [
        "#FINAL PREDICTIONS:\n",
        "y_pred = linReg.predict(x_test)\n",
        "y_pred"
      ]
    },
    {
      "cell_type": "code",
      "execution_count": 98,
      "metadata": {
        "colab": {
          "base_uri": "https://localhost:8080/",
          "height": 424
        },
        "id": "PChgI9TOhD7n",
        "outputId": "052d3db3-b1ca-4342-aca9-857f71abd275"
      },
      "outputs": [
        {
          "output_type": "execute_result",
          "data": {
            "text/plain": [
              "        Actual     Predicted\n",
              "6107   9866820  1.100436e+07\n",
              "6964  14238410  1.443666e+07\n",
              "6580  13547020  1.470311e+07\n",
              "1036  14048900  1.431157e+07\n",
              "1469   7439700  6.200253e+06\n",
              "...        ...           ...\n",
              "6279  12181500  1.197445e+07\n",
              "6190  13491940  1.379635e+07\n",
              "1828   6408750  6.612894e+06\n",
              "5125   9387600  8.732360e+06\n",
              "4277  14844980  1.569187e+07\n",
              "\n",
              "[1422 rows x 2 columns]"
            ],
            "text/html": [
              "\n",
              "  <div id=\"df-4d27a24c-265d-4fcd-8ddc-dd99da820c74\">\n",
              "    <div class=\"colab-df-container\">\n",
              "      <div>\n",
              "<style scoped>\n",
              "    .dataframe tbody tr th:only-of-type {\n",
              "        vertical-align: middle;\n",
              "    }\n",
              "\n",
              "    .dataframe tbody tr th {\n",
              "        vertical-align: top;\n",
              "    }\n",
              "\n",
              "    .dataframe thead th {\n",
              "        text-align: right;\n",
              "    }\n",
              "</style>\n",
              "<table border=\"1\" class=\"dataframe\">\n",
              "  <thead>\n",
              "    <tr style=\"text-align: right;\">\n",
              "      <th></th>\n",
              "      <th>Actual</th>\n",
              "      <th>Predicted</th>\n",
              "    </tr>\n",
              "  </thead>\n",
              "  <tbody>\n",
              "    <tr>\n",
              "      <th>6107</th>\n",
              "      <td>9866820</td>\n",
              "      <td>1.100436e+07</td>\n",
              "    </tr>\n",
              "    <tr>\n",
              "      <th>6964</th>\n",
              "      <td>14238410</td>\n",
              "      <td>1.443666e+07</td>\n",
              "    </tr>\n",
              "    <tr>\n",
              "      <th>6580</th>\n",
              "      <td>13547020</td>\n",
              "      <td>1.470311e+07</td>\n",
              "    </tr>\n",
              "    <tr>\n",
              "      <th>1036</th>\n",
              "      <td>14048900</td>\n",
              "      <td>1.431157e+07</td>\n",
              "    </tr>\n",
              "    <tr>\n",
              "      <th>1469</th>\n",
              "      <td>7439700</td>\n",
              "      <td>6.200253e+06</td>\n",
              "    </tr>\n",
              "    <tr>\n",
              "      <th>...</th>\n",
              "      <td>...</td>\n",
              "      <td>...</td>\n",
              "    </tr>\n",
              "    <tr>\n",
              "      <th>6279</th>\n",
              "      <td>12181500</td>\n",
              "      <td>1.197445e+07</td>\n",
              "    </tr>\n",
              "    <tr>\n",
              "      <th>6190</th>\n",
              "      <td>13491940</td>\n",
              "      <td>1.379635e+07</td>\n",
              "    </tr>\n",
              "    <tr>\n",
              "      <th>1828</th>\n",
              "      <td>6408750</td>\n",
              "      <td>6.612894e+06</td>\n",
              "    </tr>\n",
              "    <tr>\n",
              "      <th>5125</th>\n",
              "      <td>9387600</td>\n",
              "      <td>8.732360e+06</td>\n",
              "    </tr>\n",
              "    <tr>\n",
              "      <th>4277</th>\n",
              "      <td>14844980</td>\n",
              "      <td>1.569187e+07</td>\n",
              "    </tr>\n",
              "  </tbody>\n",
              "</table>\n",
              "<p>1422 rows × 2 columns</p>\n",
              "</div>\n",
              "      <button class=\"colab-df-convert\" onclick=\"convertToInteractive('df-4d27a24c-265d-4fcd-8ddc-dd99da820c74')\"\n",
              "              title=\"Convert this dataframe to an interactive table.\"\n",
              "              style=\"display:none;\">\n",
              "        \n",
              "  <svg xmlns=\"http://www.w3.org/2000/svg\" height=\"24px\"viewBox=\"0 0 24 24\"\n",
              "       width=\"24px\">\n",
              "    <path d=\"M0 0h24v24H0V0z\" fill=\"none\"/>\n",
              "    <path d=\"M18.56 5.44l.94 2.06.94-2.06 2.06-.94-2.06-.94-.94-2.06-.94 2.06-2.06.94zm-11 1L8.5 8.5l.94-2.06 2.06-.94-2.06-.94L8.5 2.5l-.94 2.06-2.06.94zm10 10l.94 2.06.94-2.06 2.06-.94-2.06-.94-.94-2.06-.94 2.06-2.06.94z\"/><path d=\"M17.41 7.96l-1.37-1.37c-.4-.4-.92-.59-1.43-.59-.52 0-1.04.2-1.43.59L10.3 9.45l-7.72 7.72c-.78.78-.78 2.05 0 2.83L4 21.41c.39.39.9.59 1.41.59.51 0 1.02-.2 1.41-.59l7.78-7.78 2.81-2.81c.8-.78.8-2.07 0-2.86zM5.41 20L4 18.59l7.72-7.72 1.47 1.35L5.41 20z\"/>\n",
              "  </svg>\n",
              "      </button>\n",
              "      \n",
              "  <style>\n",
              "    .colab-df-container {\n",
              "      display:flex;\n",
              "      flex-wrap:wrap;\n",
              "      gap: 12px;\n",
              "    }\n",
              "\n",
              "    .colab-df-convert {\n",
              "      background-color: #E8F0FE;\n",
              "      border: none;\n",
              "      border-radius: 50%;\n",
              "      cursor: pointer;\n",
              "      display: none;\n",
              "      fill: #1967D2;\n",
              "      height: 32px;\n",
              "      padding: 0 0 0 0;\n",
              "      width: 32px;\n",
              "    }\n",
              "\n",
              "    .colab-df-convert:hover {\n",
              "      background-color: #E2EBFA;\n",
              "      box-shadow: 0px 1px 2px rgba(60, 64, 67, 0.3), 0px 1px 3px 1px rgba(60, 64, 67, 0.15);\n",
              "      fill: #174EA6;\n",
              "    }\n",
              "\n",
              "    [theme=dark] .colab-df-convert {\n",
              "      background-color: #3B4455;\n",
              "      fill: #D2E3FC;\n",
              "    }\n",
              "\n",
              "    [theme=dark] .colab-df-convert:hover {\n",
              "      background-color: #434B5C;\n",
              "      box-shadow: 0px 1px 3px 1px rgba(0, 0, 0, 0.15);\n",
              "      filter: drop-shadow(0px 1px 2px rgba(0, 0, 0, 0.3));\n",
              "      fill: #FFFFFF;\n",
              "    }\n",
              "  </style>\n",
              "\n",
              "      <script>\n",
              "        const buttonEl =\n",
              "          document.querySelector('#df-4d27a24c-265d-4fcd-8ddc-dd99da820c74 button.colab-df-convert');\n",
              "        buttonEl.style.display =\n",
              "          google.colab.kernel.accessAllowed ? 'block' : 'none';\n",
              "\n",
              "        async function convertToInteractive(key) {\n",
              "          const element = document.querySelector('#df-4d27a24c-265d-4fcd-8ddc-dd99da820c74');\n",
              "          const dataTable =\n",
              "            await google.colab.kernel.invokeFunction('convertToInteractive',\n",
              "                                                     [key], {});\n",
              "          if (!dataTable) return;\n",
              "\n",
              "          const docLinkHtml = 'Like what you see? Visit the ' +\n",
              "            '<a target=\"_blank\" href=https://colab.research.google.com/notebooks/data_table.ipynb>data table notebook</a>'\n",
              "            + ' to learn more about interactive tables.';\n",
              "          element.innerHTML = '';\n",
              "          dataTable['output_type'] = 'display_data';\n",
              "          await google.colab.output.renderOutput(dataTable, element);\n",
              "          const docLink = document.createElement('div');\n",
              "          docLink.innerHTML = docLinkHtml;\n",
              "          element.appendChild(docLink);\n",
              "        }\n",
              "      </script>\n",
              "    </div>\n",
              "  </div>\n",
              "  "
            ]
          },
          "metadata": {},
          "execution_count": 98
        }
      ],
      "source": [
        "result = pd.DataFrame({'Actual': y_test, 'Predicted': y_pred})\n",
        "result"
      ]
    },
    {
      "cell_type": "code",
      "execution_count": 99,
      "metadata": {
        "colab": {
          "base_uri": "https://localhost:8080/"
        },
        "id": "OA_-0BLyhHlB",
        "outputId": "5a3a2494-2e66-4c1b-f9d7-d079c18fb77b"
      },
      "outputs": [
        {
          "output_type": "stream",
          "name": "stdout",
          "text": [
            "R2- SCORE FOR LINEAR REGRESSION: 92.94 %\n"
          ]
        }
      ],
      "source": [
        "from sklearn import metrics\n",
        "linreg1 = metrics.r2_score(y_test,y_pred)\n",
        "print('R2- SCORE FOR LINEAR REGRESSION:', round((linreg1*100),2),\"%\")"
      ]
    },
    {
      "cell_type": "markdown",
      "metadata": {
        "id": "9CaipXpqMYU5"
      },
      "source": [
        "**2. KNN REGRESSION**"
      ]
    },
    {
      "cell_type": "markdown",
      "metadata": {
        "id": "529zvqYHzPu1"
      },
      "source": [
        "As scaling is mandatory for this model so we scale the data."
      ]
    },
    {
      "cell_type": "code",
      "execution_count": 100,
      "metadata": {
        "id": "j43cPP3tI0BH"
      },
      "outputs": [],
      "source": [
        "from sklearn.preprocessing import StandardScaler # importing the required function\n",
        "scaler = StandardScaler() #initialis\n",
        "scaler.fit(x_train) # find the values of mu and sigma\n",
        "X_train = scaler.transform(x_train)\n",
        "X_test = scaler.transform(x_test)"
      ]
    },
    {
      "cell_type": "code",
      "execution_count": 101,
      "metadata": {
        "colab": {
          "base_uri": "https://localhost:8080/"
        },
        "id": "ph8SCpTpJCY8",
        "outputId": "0fdddf34-77a5-42cc-fe50-f390c5e5dd14"
      },
      "outputs": [
        {
          "output_type": "stream",
          "name": "stdout",
          "text": [
            "K value  :  1  score :  0.9293577072580912\n",
            "K value  :  2  score :  0.9293577072580912\n",
            "K value  :  3  score :  0.9293577072580912\n",
            "K value  :  4  score :  0.9293577072580912\n",
            "K value  :  5  score :  0.9293577072580912\n",
            "K value  :  6  score :  0.9293577072580912\n",
            "K value  :  7  score :  0.9293577072580912\n",
            "K value  :  8  score :  0.9293577072580912\n",
            "K value  :  9  score :  0.9293577072580912\n",
            "K value  :  10  score :  0.9293577072580912\n",
            "K value  :  20  score :  0.9293577072580912\n",
            "K value  :  40  score :  0.9293577072580912\n",
            "K value  :  50  score :  0.9293577072580912\n",
            "K value  :  80  score :  0.9293577072580912\n",
            "K value  :  100  score :  0.9293577072580912\n"
          ]
        }
      ],
      "source": [
        "from sklearn.neighbors import KNeighborsRegressor\n",
        "from sklearn import metrics\n",
        "\n",
        "for i in [1,2,3,4,5,6,7,8,9,10,20,40,50,80,100]:\n",
        "  knn = KNeighborsRegressor(i) #initialising the model\n",
        "  knn.fit(X_train,y_train) # training the model\n",
        "  print(\"K value  : \" , i, \" score : \", metrics.r2_score(y_test,y_pred))"
      ]
    },
    {
      "cell_type": "code",
      "execution_count": 102,
      "metadata": {
        "colab": {
          "base_uri": "https://localhost:8080/"
        },
        "id": "cJRL2tIxJFBA",
        "outputId": "fae64985-766f-4d51-9b1c-04a29d13a3df"
      },
      "outputs": [
        {
          "output_type": "execute_result",
          "data": {
            "text/plain": [
              "KNeighborsRegressor()"
            ]
          },
          "metadata": {},
          "execution_count": 102
        }
      ],
      "source": [
        "from sklearn.neighbors import KNeighborsRegressor\n",
        "KNNR=KNeighborsRegressor()\n",
        "KNNR.fit(X_train,y_train)"
      ]
    },
    {
      "cell_type": "code",
      "execution_count": 103,
      "metadata": {
        "colab": {
          "base_uri": "https://localhost:8080/"
        },
        "id": "I_GzAF-qJRk8",
        "outputId": "5e00a5bc-41b5-44d2-a2f1-3a2e0024f206"
      },
      "outputs": [
        {
          "output_type": "execute_result",
          "data": {
            "text/plain": [
              "array([10887058., 12641928., 13475416., ...,  7370519.,  9760746.,\n",
              "       14058416.])"
            ]
          },
          "metadata": {},
          "execution_count": 103
        }
      ],
      "source": [
        "y_pred_KNNR = KNNR.predict(X_test)\n",
        "y_pred_KNNR"
      ]
    },
    {
      "cell_type": "code",
      "execution_count": 104,
      "metadata": {
        "colab": {
          "base_uri": "https://localhost:8080/",
          "height": 424
        },
        "id": "LtIo34a2JVAy",
        "outputId": "b76d91f5-a741-445f-d9b8-94b8aaf2cc63"
      },
      "outputs": [
        {
          "output_type": "execute_result",
          "data": {
            "text/plain": [
              "        Actual   Predicted\n",
              "6107   9866820  10887058.0\n",
              "6964  14238410  12641928.0\n",
              "6580  13547020  13475416.0\n",
              "1036  14048900  12592028.0\n",
              "1469   7439700   7897869.0\n",
              "...        ...         ...\n",
              "6279  12181500  11277723.0\n",
              "6190  13491940  12341484.0\n",
              "1828   6408750   7370519.0\n",
              "5125   9387600   9760746.0\n",
              "4277  14844980  14058416.0\n",
              "\n",
              "[1422 rows x 2 columns]"
            ],
            "text/html": [
              "\n",
              "  <div id=\"df-3951a957-2bf5-4db5-8d34-40c9de6cae44\">\n",
              "    <div class=\"colab-df-container\">\n",
              "      <div>\n",
              "<style scoped>\n",
              "    .dataframe tbody tr th:only-of-type {\n",
              "        vertical-align: middle;\n",
              "    }\n",
              "\n",
              "    .dataframe tbody tr th {\n",
              "        vertical-align: top;\n",
              "    }\n",
              "\n",
              "    .dataframe thead th {\n",
              "        text-align: right;\n",
              "    }\n",
              "</style>\n",
              "<table border=\"1\" class=\"dataframe\">\n",
              "  <thead>\n",
              "    <tr style=\"text-align: right;\">\n",
              "      <th></th>\n",
              "      <th>Actual</th>\n",
              "      <th>Predicted</th>\n",
              "    </tr>\n",
              "  </thead>\n",
              "  <tbody>\n",
              "    <tr>\n",
              "      <th>6107</th>\n",
              "      <td>9866820</td>\n",
              "      <td>10887058.0</td>\n",
              "    </tr>\n",
              "    <tr>\n",
              "      <th>6964</th>\n",
              "      <td>14238410</td>\n",
              "      <td>12641928.0</td>\n",
              "    </tr>\n",
              "    <tr>\n",
              "      <th>6580</th>\n",
              "      <td>13547020</td>\n",
              "      <td>13475416.0</td>\n",
              "    </tr>\n",
              "    <tr>\n",
              "      <th>1036</th>\n",
              "      <td>14048900</td>\n",
              "      <td>12592028.0</td>\n",
              "    </tr>\n",
              "    <tr>\n",
              "      <th>1469</th>\n",
              "      <td>7439700</td>\n",
              "      <td>7897869.0</td>\n",
              "    </tr>\n",
              "    <tr>\n",
              "      <th>...</th>\n",
              "      <td>...</td>\n",
              "      <td>...</td>\n",
              "    </tr>\n",
              "    <tr>\n",
              "      <th>6279</th>\n",
              "      <td>12181500</td>\n",
              "      <td>11277723.0</td>\n",
              "    </tr>\n",
              "    <tr>\n",
              "      <th>6190</th>\n",
              "      <td>13491940</td>\n",
              "      <td>12341484.0</td>\n",
              "    </tr>\n",
              "    <tr>\n",
              "      <th>1828</th>\n",
              "      <td>6408750</td>\n",
              "      <td>7370519.0</td>\n",
              "    </tr>\n",
              "    <tr>\n",
              "      <th>5125</th>\n",
              "      <td>9387600</td>\n",
              "      <td>9760746.0</td>\n",
              "    </tr>\n",
              "    <tr>\n",
              "      <th>4277</th>\n",
              "      <td>14844980</td>\n",
              "      <td>14058416.0</td>\n",
              "    </tr>\n",
              "  </tbody>\n",
              "</table>\n",
              "<p>1422 rows × 2 columns</p>\n",
              "</div>\n",
              "      <button class=\"colab-df-convert\" onclick=\"convertToInteractive('df-3951a957-2bf5-4db5-8d34-40c9de6cae44')\"\n",
              "              title=\"Convert this dataframe to an interactive table.\"\n",
              "              style=\"display:none;\">\n",
              "        \n",
              "  <svg xmlns=\"http://www.w3.org/2000/svg\" height=\"24px\"viewBox=\"0 0 24 24\"\n",
              "       width=\"24px\">\n",
              "    <path d=\"M0 0h24v24H0V0z\" fill=\"none\"/>\n",
              "    <path d=\"M18.56 5.44l.94 2.06.94-2.06 2.06-.94-2.06-.94-.94-2.06-.94 2.06-2.06.94zm-11 1L8.5 8.5l.94-2.06 2.06-.94-2.06-.94L8.5 2.5l-.94 2.06-2.06.94zm10 10l.94 2.06.94-2.06 2.06-.94-2.06-.94-.94-2.06-.94 2.06-2.06.94z\"/><path d=\"M17.41 7.96l-1.37-1.37c-.4-.4-.92-.59-1.43-.59-.52 0-1.04.2-1.43.59L10.3 9.45l-7.72 7.72c-.78.78-.78 2.05 0 2.83L4 21.41c.39.39.9.59 1.41.59.51 0 1.02-.2 1.41-.59l7.78-7.78 2.81-2.81c.8-.78.8-2.07 0-2.86zM5.41 20L4 18.59l7.72-7.72 1.47 1.35L5.41 20z\"/>\n",
              "  </svg>\n",
              "      </button>\n",
              "      \n",
              "  <style>\n",
              "    .colab-df-container {\n",
              "      display:flex;\n",
              "      flex-wrap:wrap;\n",
              "      gap: 12px;\n",
              "    }\n",
              "\n",
              "    .colab-df-convert {\n",
              "      background-color: #E8F0FE;\n",
              "      border: none;\n",
              "      border-radius: 50%;\n",
              "      cursor: pointer;\n",
              "      display: none;\n",
              "      fill: #1967D2;\n",
              "      height: 32px;\n",
              "      padding: 0 0 0 0;\n",
              "      width: 32px;\n",
              "    }\n",
              "\n",
              "    .colab-df-convert:hover {\n",
              "      background-color: #E2EBFA;\n",
              "      box-shadow: 0px 1px 2px rgba(60, 64, 67, 0.3), 0px 1px 3px 1px rgba(60, 64, 67, 0.15);\n",
              "      fill: #174EA6;\n",
              "    }\n",
              "\n",
              "    [theme=dark] .colab-df-convert {\n",
              "      background-color: #3B4455;\n",
              "      fill: #D2E3FC;\n",
              "    }\n",
              "\n",
              "    [theme=dark] .colab-df-convert:hover {\n",
              "      background-color: #434B5C;\n",
              "      box-shadow: 0px 1px 3px 1px rgba(0, 0, 0, 0.15);\n",
              "      filter: drop-shadow(0px 1px 2px rgba(0, 0, 0, 0.3));\n",
              "      fill: #FFFFFF;\n",
              "    }\n",
              "  </style>\n",
              "\n",
              "      <script>\n",
              "        const buttonEl =\n",
              "          document.querySelector('#df-3951a957-2bf5-4db5-8d34-40c9de6cae44 button.colab-df-convert');\n",
              "        buttonEl.style.display =\n",
              "          google.colab.kernel.accessAllowed ? 'block' : 'none';\n",
              "\n",
              "        async function convertToInteractive(key) {\n",
              "          const element = document.querySelector('#df-3951a957-2bf5-4db5-8d34-40c9de6cae44');\n",
              "          const dataTable =\n",
              "            await google.colab.kernel.invokeFunction('convertToInteractive',\n",
              "                                                     [key], {});\n",
              "          if (!dataTable) return;\n",
              "\n",
              "          const docLinkHtml = 'Like what you see? Visit the ' +\n",
              "            '<a target=\"_blank\" href=https://colab.research.google.com/notebooks/data_table.ipynb>data table notebook</a>'\n",
              "            + ' to learn more about interactive tables.';\n",
              "          element.innerHTML = '';\n",
              "          dataTable['output_type'] = 'display_data';\n",
              "          await google.colab.output.renderOutput(dataTable, element);\n",
              "          const docLink = document.createElement('div');\n",
              "          docLink.innerHTML = docLinkHtml;\n",
              "          element.appendChild(docLink);\n",
              "        }\n",
              "      </script>\n",
              "    </div>\n",
              "  </div>\n",
              "  "
            ]
          },
          "metadata": {},
          "execution_count": 104
        }
      ],
      "source": [
        "result_KNNR = pd.DataFrame({'Actual': y_test, 'Predicted': y_pred_KNNR})\n",
        "result_KNNR"
      ]
    },
    {
      "cell_type": "code",
      "execution_count": 105,
      "metadata": {
        "colab": {
          "base_uri": "https://localhost:8080/"
        },
        "id": "yoo9CWwrJXPh",
        "outputId": "00994bbe-01de-4cf6-b087-deba0627679c"
      },
      "outputs": [
        {
          "output_type": "stream",
          "name": "stdout",
          "text": [
            "R2- SCORE FOR KNN MODEL: 91.77 %\n"
          ]
        }
      ],
      "source": [
        "from sklearn import metrics\n",
        "KNN1 = metrics.r2_score(y_test,y_pred_KNNR)\n",
        "print('R2- SCORE FOR KNN MODEL:', round((KNN1*100),2),\"%\")"
      ]
    },
    {
      "cell_type": "markdown",
      "metadata": {
        "id": "Oc3-qteoMVIg"
      },
      "source": [
        "**3. DECISION TREE**"
      ]
    },
    {
      "cell_type": "markdown",
      "metadata": {
        "id": "40ZJEjIAzegI"
      },
      "source": [
        "As scaling is mandatory for this model so we scale the data."
      ]
    },
    {
      "cell_type": "code",
      "execution_count": 106,
      "metadata": {
        "id": "8iwWtcifKBkX"
      },
      "outputs": [],
      "source": [
        "x_train,x_test,y_train,y_test=train_test_split(X,Y,test_size=0.2, random_state=5)\n"
      ]
    },
    {
      "cell_type": "code",
      "execution_count": 107,
      "metadata": {
        "id": "Sor27KcCKGMW"
      },
      "outputs": [],
      "source": [
        "from sklearn.preprocessing import StandardScaler\n",
        "scaler = StandardScaler()\n",
        "scaler.fit(x_train)\n",
        "x_train = scaler.transform(x_train)\n",
        "x_test=scaler.transform(x_test)"
      ]
    },
    {
      "cell_type": "code",
      "execution_count": 108,
      "metadata": {
        "colab": {
          "base_uri": "https://localhost:8080/"
        },
        "id": "V978OilTJcAu",
        "outputId": "01eae1d9-9fda-489f-97c2-9762bd8926f1"
      },
      "outputs": [
        {
          "output_type": "stream",
          "name": "stdout",
          "text": [
            "DEPTH:  1 R2-Score:  0.3591784817466277\n",
            "DEPTH:  2 R2-Score:  0.6780398901388676\n",
            "DEPTH:  3 R2-Score:  0.8015433917088064\n",
            "DEPTH:  4 R2-Score:  0.8812866006848982\n",
            "DEPTH:  5 R2-Score:  0.9146476729739312\n",
            "DEPTH:  6 R2-Score:  0.9349215555560713\n",
            "DEPTH:  7 R2-Score:  0.9490330989443143\n",
            "DEPTH:  8 R2-Score:  0.959000211278809\n",
            "DEPTH:  9 R2-Score:  0.9649492615735269\n",
            "DEPTH:  10 R2-Score:  0.9678932384169269\n",
            "DEPTH:  20 R2-Score:  0.9679491317749394\n",
            "DEPTH:  30 R2-Score:  0.9687453289117831\n",
            "DEPTH:  40 R2-Score:  0.9684633172574394\n",
            "DEPTH:  50 R2-Score:  0.9686182754945722\n",
            "DEPTH:  60 R2-Score:  0.9679674179047261\n",
            "DEPTH:  100 R2-Score:  0.9682653029590451\n"
          ]
        }
      ],
      "source": [
        "from sklearn.tree import DecisionTreeRegressor\n",
        "from sklearn import metrics\n",
        "from sklearn.model_selection import cross_val_score\n",
        "from sklearn.metrics import make_scorer\n",
        "import numpy as np\n",
        "\n",
        "for depth in [1,2,3,4,5,6,7,8,9,10,20,30,40,50,60,100]:\n",
        "  Dtree = DecisionTreeRegressor(max_depth=depth)\n",
        "  Dtree.fit(x_train, y_train) # the model is trained\n",
        "  valAccuracy = cross_val_score(Dtree, x_train, y_train, cv=10, scoring = make_scorer(metrics.r2_score))\n",
        "  print(\"DEPTH: \",depth,\"R2-Score: \",np.mean(valAccuracy))"
      ]
    },
    {
      "cell_type": "code",
      "execution_count": 109,
      "metadata": {
        "colab": {
          "base_uri": "https://localhost:8080/"
        },
        "id": "AajghtCQKOhK",
        "outputId": "bd7021e7-eaf7-409f-f3c5-f3c24544ed78"
      },
      "outputs": [
        {
          "output_type": "execute_result",
          "data": {
            "text/plain": [
              "DecisionTreeRegressor(max_depth=30)"
            ]
          },
          "metadata": {},
          "execution_count": 109
        }
      ],
      "source": [
        "dtree = DecisionTreeRegressor(max_depth=30)\n",
        "dtree.fit(x_train, y_train)"
      ]
    },
    {
      "cell_type": "code",
      "execution_count": 110,
      "metadata": {
        "colab": {
          "base_uri": "https://localhost:8080/"
        },
        "id": "lzODqKf6KRlF",
        "outputId": "8ca4f193-f91f-435d-d528-cc9cd744b21e"
      },
      "outputs": [
        {
          "output_type": "execute_result",
          "data": {
            "text/plain": [
              "array([ 9980320., 14054970., 13457270., ...,  6996125.,  9637220.,\n",
              "       14702890.])"
            ]
          },
          "metadata": {},
          "execution_count": 110
        }
      ],
      "source": [
        "y_pred_dt = dtree.predict(x_test)\n",
        "y_pred_dt"
      ]
    },
    {
      "cell_type": "code",
      "execution_count": 111,
      "metadata": {
        "colab": {
          "base_uri": "https://localhost:8080/",
          "height": 424
        },
        "id": "XJb1MlJ4KUCa",
        "outputId": "616faedd-a006-48e3-b1c6-f8d9d080504a"
      },
      "outputs": [
        {
          "output_type": "execute_result",
          "data": {
            "text/plain": [
              "        Actual   Predicted\n",
              "6107   9866820   9980320.0\n",
              "6964  14238410  14054970.0\n",
              "6580  13547020  13457270.0\n",
              "1036  14048900  14246650.0\n",
              "1469   7439700   7375050.0\n",
              "...        ...         ...\n",
              "6279  12181500  13308950.0\n",
              "6190  13491940  13584980.0\n",
              "1828   6408750   6996125.0\n",
              "5125   9387600   9637220.0\n",
              "4277  14844980  14702890.0\n",
              "\n",
              "[1422 rows x 2 columns]"
            ],
            "text/html": [
              "\n",
              "  <div id=\"df-e456a7ca-0d9b-4232-a648-6159ac12c23f\">\n",
              "    <div class=\"colab-df-container\">\n",
              "      <div>\n",
              "<style scoped>\n",
              "    .dataframe tbody tr th:only-of-type {\n",
              "        vertical-align: middle;\n",
              "    }\n",
              "\n",
              "    .dataframe tbody tr th {\n",
              "        vertical-align: top;\n",
              "    }\n",
              "\n",
              "    .dataframe thead th {\n",
              "        text-align: right;\n",
              "    }\n",
              "</style>\n",
              "<table border=\"1\" class=\"dataframe\">\n",
              "  <thead>\n",
              "    <tr style=\"text-align: right;\">\n",
              "      <th></th>\n",
              "      <th>Actual</th>\n",
              "      <th>Predicted</th>\n",
              "    </tr>\n",
              "  </thead>\n",
              "  <tbody>\n",
              "    <tr>\n",
              "      <th>6107</th>\n",
              "      <td>9866820</td>\n",
              "      <td>9980320.0</td>\n",
              "    </tr>\n",
              "    <tr>\n",
              "      <th>6964</th>\n",
              "      <td>14238410</td>\n",
              "      <td>14054970.0</td>\n",
              "    </tr>\n",
              "    <tr>\n",
              "      <th>6580</th>\n",
              "      <td>13547020</td>\n",
              "      <td>13457270.0</td>\n",
              "    </tr>\n",
              "    <tr>\n",
              "      <th>1036</th>\n",
              "      <td>14048900</td>\n",
              "      <td>14246650.0</td>\n",
              "    </tr>\n",
              "    <tr>\n",
              "      <th>1469</th>\n",
              "      <td>7439700</td>\n",
              "      <td>7375050.0</td>\n",
              "    </tr>\n",
              "    <tr>\n",
              "      <th>...</th>\n",
              "      <td>...</td>\n",
              "      <td>...</td>\n",
              "    </tr>\n",
              "    <tr>\n",
              "      <th>6279</th>\n",
              "      <td>12181500</td>\n",
              "      <td>13308950.0</td>\n",
              "    </tr>\n",
              "    <tr>\n",
              "      <th>6190</th>\n",
              "      <td>13491940</td>\n",
              "      <td>13584980.0</td>\n",
              "    </tr>\n",
              "    <tr>\n",
              "      <th>1828</th>\n",
              "      <td>6408750</td>\n",
              "      <td>6996125.0</td>\n",
              "    </tr>\n",
              "    <tr>\n",
              "      <th>5125</th>\n",
              "      <td>9387600</td>\n",
              "      <td>9637220.0</td>\n",
              "    </tr>\n",
              "    <tr>\n",
              "      <th>4277</th>\n",
              "      <td>14844980</td>\n",
              "      <td>14702890.0</td>\n",
              "    </tr>\n",
              "  </tbody>\n",
              "</table>\n",
              "<p>1422 rows × 2 columns</p>\n",
              "</div>\n",
              "      <button class=\"colab-df-convert\" onclick=\"convertToInteractive('df-e456a7ca-0d9b-4232-a648-6159ac12c23f')\"\n",
              "              title=\"Convert this dataframe to an interactive table.\"\n",
              "              style=\"display:none;\">\n",
              "        \n",
              "  <svg xmlns=\"http://www.w3.org/2000/svg\" height=\"24px\"viewBox=\"0 0 24 24\"\n",
              "       width=\"24px\">\n",
              "    <path d=\"M0 0h24v24H0V0z\" fill=\"none\"/>\n",
              "    <path d=\"M18.56 5.44l.94 2.06.94-2.06 2.06-.94-2.06-.94-.94-2.06-.94 2.06-2.06.94zm-11 1L8.5 8.5l.94-2.06 2.06-.94-2.06-.94L8.5 2.5l-.94 2.06-2.06.94zm10 10l.94 2.06.94-2.06 2.06-.94-2.06-.94-.94-2.06-.94 2.06-2.06.94z\"/><path d=\"M17.41 7.96l-1.37-1.37c-.4-.4-.92-.59-1.43-.59-.52 0-1.04.2-1.43.59L10.3 9.45l-7.72 7.72c-.78.78-.78 2.05 0 2.83L4 21.41c.39.39.9.59 1.41.59.51 0 1.02-.2 1.41-.59l7.78-7.78 2.81-2.81c.8-.78.8-2.07 0-2.86zM5.41 20L4 18.59l7.72-7.72 1.47 1.35L5.41 20z\"/>\n",
              "  </svg>\n",
              "      </button>\n",
              "      \n",
              "  <style>\n",
              "    .colab-df-container {\n",
              "      display:flex;\n",
              "      flex-wrap:wrap;\n",
              "      gap: 12px;\n",
              "    }\n",
              "\n",
              "    .colab-df-convert {\n",
              "      background-color: #E8F0FE;\n",
              "      border: none;\n",
              "      border-radius: 50%;\n",
              "      cursor: pointer;\n",
              "      display: none;\n",
              "      fill: #1967D2;\n",
              "      height: 32px;\n",
              "      padding: 0 0 0 0;\n",
              "      width: 32px;\n",
              "    }\n",
              "\n",
              "    .colab-df-convert:hover {\n",
              "      background-color: #E2EBFA;\n",
              "      box-shadow: 0px 1px 2px rgba(60, 64, 67, 0.3), 0px 1px 3px 1px rgba(60, 64, 67, 0.15);\n",
              "      fill: #174EA6;\n",
              "    }\n",
              "\n",
              "    [theme=dark] .colab-df-convert {\n",
              "      background-color: #3B4455;\n",
              "      fill: #D2E3FC;\n",
              "    }\n",
              "\n",
              "    [theme=dark] .colab-df-convert:hover {\n",
              "      background-color: #434B5C;\n",
              "      box-shadow: 0px 1px 3px 1px rgba(0, 0, 0, 0.15);\n",
              "      filter: drop-shadow(0px 1px 2px rgba(0, 0, 0, 0.3));\n",
              "      fill: #FFFFFF;\n",
              "    }\n",
              "  </style>\n",
              "\n",
              "      <script>\n",
              "        const buttonEl =\n",
              "          document.querySelector('#df-e456a7ca-0d9b-4232-a648-6159ac12c23f button.colab-df-convert');\n",
              "        buttonEl.style.display =\n",
              "          google.colab.kernel.accessAllowed ? 'block' : 'none';\n",
              "\n",
              "        async function convertToInteractive(key) {\n",
              "          const element = document.querySelector('#df-e456a7ca-0d9b-4232-a648-6159ac12c23f');\n",
              "          const dataTable =\n",
              "            await google.colab.kernel.invokeFunction('convertToInteractive',\n",
              "                                                     [key], {});\n",
              "          if (!dataTable) return;\n",
              "\n",
              "          const docLinkHtml = 'Like what you see? Visit the ' +\n",
              "            '<a target=\"_blank\" href=https://colab.research.google.com/notebooks/data_table.ipynb>data table notebook</a>'\n",
              "            + ' to learn more about interactive tables.';\n",
              "          element.innerHTML = '';\n",
              "          dataTable['output_type'] = 'display_data';\n",
              "          await google.colab.output.renderOutput(dataTable, element);\n",
              "          const docLink = document.createElement('div');\n",
              "          docLink.innerHTML = docLinkHtml;\n",
              "          element.appendChild(docLink);\n",
              "        }\n",
              "      </script>\n",
              "    </div>\n",
              "  </div>\n",
              "  "
            ]
          },
          "metadata": {},
          "execution_count": 111
        }
      ],
      "source": [
        "result_DT=pd.DataFrame({'Actual':y_test, 'Predicted':y_pred_dt})\n",
        "result_DT"
      ]
    },
    {
      "cell_type": "code",
      "execution_count": 112,
      "metadata": {
        "colab": {
          "base_uri": "https://localhost:8080/"
        },
        "id": "woe9hUeyKVly",
        "outputId": "66618c20-11a1-49b2-db72-5998271b77e5"
      },
      "outputs": [
        {
          "output_type": "stream",
          "name": "stdout",
          "text": [
            "R2- SCORE FOR DECISION TREE MODEL: 97.32 %\n"
          ]
        }
      ],
      "source": [
        "from sklearn import metrics\n",
        "dtree1 = metrics.r2_score(y_test,y_pred_dt)\n",
        "print('R2- SCORE FOR DECISION TREE MODEL:', round((dtree1*100),2),\"%\")"
      ]
    },
    {
      "cell_type": "markdown",
      "metadata": {
        "id": "mzeoUryeMhDp"
      },
      "source": [
        "**4. RANDOM FOREST MODEL**"
      ]
    },
    {
      "cell_type": "markdown",
      "metadata": {
        "id": "o4lyBM5Uzqi2"
      },
      "source": [
        "Scaling is not required for this model."
      ]
    },
    {
      "cell_type": "code",
      "execution_count": 113,
      "metadata": {
        "id": "I_UCjnnJMkF-"
      },
      "outputs": [],
      "source": [
        "x_train,x_test,y_train,y_test=train_test_split(X,Y,test_size=0.2, random_state=5)"
      ]
    },
    {
      "cell_type": "code",
      "execution_count": 114,
      "metadata": {
        "colab": {
          "base_uri": "https://localhost:8080/"
        },
        "id": "C-LtUMfqMn6R",
        "outputId": "2c4e84e2-5341-4980-ff74-c07bf56f7f1c"
      },
      "outputs": [
        {
          "output_type": "execute_result",
          "data": {
            "text/plain": [
              "RandomForestRegressor(max_depth=10, max_features='sqrt', n_estimators=150)"
            ]
          },
          "metadata": {},
          "execution_count": 114
        }
      ],
      "source": [
        "from sklearn.ensemble import RandomForestRegressor\n",
        "from sklearn.metrics import r2_score\n",
        "\n",
        "Randomforest = RandomForestRegressor(n_estimators= 150, max_depth = 10, max_features='sqrt')\n",
        "Randomforest.fit(x_train, y_train)"
      ]
    },
    {
      "cell_type": "code",
      "execution_count": 115,
      "metadata": {
        "id": "ZyCCpWgtMsgo"
      },
      "outputs": [],
      "source": [
        "y_pred_rf = Randomforest.predict(x_test)"
      ]
    },
    {
      "cell_type": "code",
      "execution_count": 116,
      "metadata": {
        "colab": {
          "base_uri": "https://localhost:8080/",
          "height": 424
        },
        "id": "XQhKJxKCMuwn",
        "outputId": "15182b8e-934b-4bc8-ac8f-7cb4dade35a6"
      },
      "outputs": [
        {
          "output_type": "execute_result",
          "data": {
            "text/plain": [
              "        Actual     Predicted\n",
              "6107   9866820  9.968295e+06\n",
              "6964  14238410  1.355000e+07\n",
              "6580  13547020  1.286825e+07\n",
              "1036  14048900  1.307950e+07\n",
              "1469   7439700  7.519896e+06\n",
              "...        ...           ...\n",
              "6279  12181500  1.230758e+07\n",
              "6190  13491940  1.275135e+07\n",
              "1828   6408750  7.047111e+06\n",
              "5125   9387600  9.630694e+06\n",
              "4277  14844980  1.400432e+07\n",
              "\n",
              "[1422 rows x 2 columns]"
            ],
            "text/html": [
              "\n",
              "  <div id=\"df-c712ab88-7f06-4095-bbdf-af46a197158a\">\n",
              "    <div class=\"colab-df-container\">\n",
              "      <div>\n",
              "<style scoped>\n",
              "    .dataframe tbody tr th:only-of-type {\n",
              "        vertical-align: middle;\n",
              "    }\n",
              "\n",
              "    .dataframe tbody tr th {\n",
              "        vertical-align: top;\n",
              "    }\n",
              "\n",
              "    .dataframe thead th {\n",
              "        text-align: right;\n",
              "    }\n",
              "</style>\n",
              "<table border=\"1\" class=\"dataframe\">\n",
              "  <thead>\n",
              "    <tr style=\"text-align: right;\">\n",
              "      <th></th>\n",
              "      <th>Actual</th>\n",
              "      <th>Predicted</th>\n",
              "    </tr>\n",
              "  </thead>\n",
              "  <tbody>\n",
              "    <tr>\n",
              "      <th>6107</th>\n",
              "      <td>9866820</td>\n",
              "      <td>9.968295e+06</td>\n",
              "    </tr>\n",
              "    <tr>\n",
              "      <th>6964</th>\n",
              "      <td>14238410</td>\n",
              "      <td>1.355000e+07</td>\n",
              "    </tr>\n",
              "    <tr>\n",
              "      <th>6580</th>\n",
              "      <td>13547020</td>\n",
              "      <td>1.286825e+07</td>\n",
              "    </tr>\n",
              "    <tr>\n",
              "      <th>1036</th>\n",
              "      <td>14048900</td>\n",
              "      <td>1.307950e+07</td>\n",
              "    </tr>\n",
              "    <tr>\n",
              "      <th>1469</th>\n",
              "      <td>7439700</td>\n",
              "      <td>7.519896e+06</td>\n",
              "    </tr>\n",
              "    <tr>\n",
              "      <th>...</th>\n",
              "      <td>...</td>\n",
              "      <td>...</td>\n",
              "    </tr>\n",
              "    <tr>\n",
              "      <th>6279</th>\n",
              "      <td>12181500</td>\n",
              "      <td>1.230758e+07</td>\n",
              "    </tr>\n",
              "    <tr>\n",
              "      <th>6190</th>\n",
              "      <td>13491940</td>\n",
              "      <td>1.275135e+07</td>\n",
              "    </tr>\n",
              "    <tr>\n",
              "      <th>1828</th>\n",
              "      <td>6408750</td>\n",
              "      <td>7.047111e+06</td>\n",
              "    </tr>\n",
              "    <tr>\n",
              "      <th>5125</th>\n",
              "      <td>9387600</td>\n",
              "      <td>9.630694e+06</td>\n",
              "    </tr>\n",
              "    <tr>\n",
              "      <th>4277</th>\n",
              "      <td>14844980</td>\n",
              "      <td>1.400432e+07</td>\n",
              "    </tr>\n",
              "  </tbody>\n",
              "</table>\n",
              "<p>1422 rows × 2 columns</p>\n",
              "</div>\n",
              "      <button class=\"colab-df-convert\" onclick=\"convertToInteractive('df-c712ab88-7f06-4095-bbdf-af46a197158a')\"\n",
              "              title=\"Convert this dataframe to an interactive table.\"\n",
              "              style=\"display:none;\">\n",
              "        \n",
              "  <svg xmlns=\"http://www.w3.org/2000/svg\" height=\"24px\"viewBox=\"0 0 24 24\"\n",
              "       width=\"24px\">\n",
              "    <path d=\"M0 0h24v24H0V0z\" fill=\"none\"/>\n",
              "    <path d=\"M18.56 5.44l.94 2.06.94-2.06 2.06-.94-2.06-.94-.94-2.06-.94 2.06-2.06.94zm-11 1L8.5 8.5l.94-2.06 2.06-.94-2.06-.94L8.5 2.5l-.94 2.06-2.06.94zm10 10l.94 2.06.94-2.06 2.06-.94-2.06-.94-.94-2.06-.94 2.06-2.06.94z\"/><path d=\"M17.41 7.96l-1.37-1.37c-.4-.4-.92-.59-1.43-.59-.52 0-1.04.2-1.43.59L10.3 9.45l-7.72 7.72c-.78.78-.78 2.05 0 2.83L4 21.41c.39.39.9.59 1.41.59.51 0 1.02-.2 1.41-.59l7.78-7.78 2.81-2.81c.8-.78.8-2.07 0-2.86zM5.41 20L4 18.59l7.72-7.72 1.47 1.35L5.41 20z\"/>\n",
              "  </svg>\n",
              "      </button>\n",
              "      \n",
              "  <style>\n",
              "    .colab-df-container {\n",
              "      display:flex;\n",
              "      flex-wrap:wrap;\n",
              "      gap: 12px;\n",
              "    }\n",
              "\n",
              "    .colab-df-convert {\n",
              "      background-color: #E8F0FE;\n",
              "      border: none;\n",
              "      border-radius: 50%;\n",
              "      cursor: pointer;\n",
              "      display: none;\n",
              "      fill: #1967D2;\n",
              "      height: 32px;\n",
              "      padding: 0 0 0 0;\n",
              "      width: 32px;\n",
              "    }\n",
              "\n",
              "    .colab-df-convert:hover {\n",
              "      background-color: #E2EBFA;\n",
              "      box-shadow: 0px 1px 2px rgba(60, 64, 67, 0.3), 0px 1px 3px 1px rgba(60, 64, 67, 0.15);\n",
              "      fill: #174EA6;\n",
              "    }\n",
              "\n",
              "    [theme=dark] .colab-df-convert {\n",
              "      background-color: #3B4455;\n",
              "      fill: #D2E3FC;\n",
              "    }\n",
              "\n",
              "    [theme=dark] .colab-df-convert:hover {\n",
              "      background-color: #434B5C;\n",
              "      box-shadow: 0px 1px 3px 1px rgba(0, 0, 0, 0.15);\n",
              "      filter: drop-shadow(0px 1px 2px rgba(0, 0, 0, 0.3));\n",
              "      fill: #FFFFFF;\n",
              "    }\n",
              "  </style>\n",
              "\n",
              "      <script>\n",
              "        const buttonEl =\n",
              "          document.querySelector('#df-c712ab88-7f06-4095-bbdf-af46a197158a button.colab-df-convert');\n",
              "        buttonEl.style.display =\n",
              "          google.colab.kernel.accessAllowed ? 'block' : 'none';\n",
              "\n",
              "        async function convertToInteractive(key) {\n",
              "          const element = document.querySelector('#df-c712ab88-7f06-4095-bbdf-af46a197158a');\n",
              "          const dataTable =\n",
              "            await google.colab.kernel.invokeFunction('convertToInteractive',\n",
              "                                                     [key], {});\n",
              "          if (!dataTable) return;\n",
              "\n",
              "          const docLinkHtml = 'Like what you see? Visit the ' +\n",
              "            '<a target=\"_blank\" href=https://colab.research.google.com/notebooks/data_table.ipynb>data table notebook</a>'\n",
              "            + ' to learn more about interactive tables.';\n",
              "          element.innerHTML = '';\n",
              "          dataTable['output_type'] = 'display_data';\n",
              "          await google.colab.output.renderOutput(dataTable, element);\n",
              "          const docLink = document.createElement('div');\n",
              "          docLink.innerHTML = docLinkHtml;\n",
              "          element.appendChild(docLink);\n",
              "        }\n",
              "      </script>\n",
              "    </div>\n",
              "  </div>\n",
              "  "
            ]
          },
          "metadata": {},
          "execution_count": 116
        }
      ],
      "source": [
        "result_RF = pd.DataFrame({'Actual': y_test, 'Predicted': y_pred_rf})\n",
        "result_RF"
      ]
    },
    {
      "cell_type": "code",
      "execution_count": 117,
      "metadata": {
        "colab": {
          "base_uri": "https://localhost:8080/"
        },
        "id": "qqZIcD4ZMyig",
        "outputId": "5f68de8b-03b9-45d9-f102-124b3516e9c2"
      },
      "outputs": [
        {
          "output_type": "stream",
          "name": "stdout",
          "text": [
            "R2- SCORE FOR RANDOM FOREST MODEL : 97.56 %\n"
          ]
        }
      ],
      "source": [
        "from sklearn import metrics\n",
        "RF1 = metrics.r2_score(y_test,y_pred_rf)\n",
        "print('R2- SCORE FOR RANDOM FOREST MODEL :', round((RF1*100),2),\"%\")"
      ]
    },
    {
      "cell_type": "markdown",
      "metadata": {
        "id": "2EFQKrrlM3cz"
      },
      "source": [
        "**5. XGBOOST MODEL**"
      ]
    },
    {
      "cell_type": "code",
      "execution_count": 118,
      "metadata": {
        "id": "4jBxXJprM5uc"
      },
      "outputs": [],
      "source": [
        "x_train,x_test,y_train,y_test=train_test_split(X,Y,test_size=0.2, random_state=5)"
      ]
    },
    {
      "cell_type": "code",
      "execution_count": 119,
      "metadata": {
        "colab": {
          "base_uri": "https://localhost:8080/"
        },
        "id": "oHxx9bmgNA_I",
        "outputId": "a9c200f1-f726-4170-8202-6fe74da85a1b"
      },
      "outputs": [
        {
          "output_type": "stream",
          "name": "stdout",
          "text": [
            "Learning rate :  0.01  Train score :  -0.38724545587620995  Cross-Val score :  -0.39214690138142516\n",
            "Learning rate :  0.02  Train score :  0.7448468440110441  Cross-Val score :  0.7409867309758899\n",
            "Learning rate :  0.03  Train score :  0.9239519083764871  Cross-Val score :  0.9212042466605807\n",
            "Learning rate :  0.04  Train score :  0.9618996668836912  Cross-Val score :  0.959251879701063\n",
            "Learning rate :  0.05  Train score :  0.9744879704487971  Cross-Val score :  0.9720436513063107\n",
            "Learning rate :  0.1  Train score :  0.9919188459559566  Cross-Val score :  0.990310200161854\n",
            "Learning rate :  0.11  Train score :  0.9935516368981286  Cross-Val score :  0.9918605543946197\n",
            "Learning rate :  0.12  Train score :  0.9943343212880316  Cross-Val score :  0.9924311752016239\n",
            "Learning rate :  0.13  Train score :  0.9947697039846144  Cross-Val score :  0.9932395357555672\n",
            "Learning rate :  0.14  Train score :  0.9954611817328165  Cross-Val score :  0.9938125968853612\n",
            "Learning rate :  0.15  Train score :  0.9955793350896336  Cross-Val score :  0.9940658128172333\n",
            "Learning rate :  0.2  Train score :  0.9963582038513994  Cross-Val score :  0.9953929986776846\n",
            "Learning rate :  0.5  Train score :  0.9973422487781436  Cross-Val score :  0.9962729965649318\n",
            "Learning rate :  0.7  Train score :  0.997823174178733  Cross-Val score :  0.9964137442631437\n",
            "Learning rate :  1  Train score :  0.9981177525678919  Cross-Val score :  0.9957739346467477\n"
          ]
        }
      ],
      "source": [
        "import xgboost as xgb\n",
        "from sklearn.model_selection import cross_val_score\n",
        "import numpy as np\n",
        "for lr in [0.01,0.02,0.03,0.04,0.05,0.1,0.11,0.12,0.13,0.14,0.15,0.2,0.5,0.7,1]:\n",
        "  xg = xgb.XGBRegressor(learning_rate = lr, n_estimators=100, verbosity = 0) # initialise the model\n",
        "  xg.fit(x_train,y_train) #train the model\n",
        "  xg.score(x_test, y_test) # scoring the model - r2 squared\n",
        "  print(\"Learning rate : \", lr, \" Train score : \", xg.score(x_train,y_train), \" Cross-Val score : \", np.mean(cross_val_score(xg, x_train, y_train)))"
      ]
    },
    {
      "cell_type": "code",
      "execution_count": 120,
      "metadata": {
        "id": "DalD9NF0NRLj",
        "colab": {
          "base_uri": "https://localhost:8080/"
        },
        "outputId": "2958c655-8be7-4d4a-9e02-4c39dc65e7e4"
      },
      "outputs": [
        {
          "output_type": "execute_result",
          "data": {
            "text/plain": [
              "0.9969233388827347"
            ]
          },
          "metadata": {},
          "execution_count": 120
        }
      ],
      "source": [
        "xg_model = xgb.XGBRegressor(learning_rate = 0.7, n_estimators=100, verbosity = 0)\n",
        "xg_model.fit(x_train,y_train) #train the model\n",
        "xg_model.score(x_test, y_test) # scoring the model - r2 squared"
      ]
    },
    {
      "cell_type": "code",
      "execution_count": 121,
      "metadata": {
        "id": "sfYy76JXNTy3"
      },
      "outputs": [],
      "source": [
        "XG_pred= xg.predict(x_test)"
      ]
    },
    {
      "cell_type": "code",
      "execution_count": 122,
      "metadata": {
        "id": "w5RcTQNkNWMi",
        "colab": {
          "base_uri": "https://localhost:8080/",
          "height": 424
        },
        "outputId": "ebf6f0a5-6bbb-40d7-b280-ed7ad7981081"
      },
      "outputs": [
        {
          "output_type": "execute_result",
          "data": {
            "text/plain": [
              "        Actual   Predicted\n",
              "6107   9866820   9548610.0\n",
              "6964  14238410  14365836.0\n",
              "6580  13547020  13466778.0\n",
              "1036  14048900  14201730.0\n",
              "1469   7439700   7328083.5\n",
              "...        ...         ...\n",
              "6279  12181500  12146346.0\n",
              "6190  13491940  13708898.0\n",
              "1828   6408750   6425138.5\n",
              "5125   9387600   9759426.0\n",
              "4277  14844980  14882630.0\n",
              "\n",
              "[1422 rows x 2 columns]"
            ],
            "text/html": [
              "\n",
              "  <div id=\"df-5326658b-e8de-450b-810a-c9374f93168c\">\n",
              "    <div class=\"colab-df-container\">\n",
              "      <div>\n",
              "<style scoped>\n",
              "    .dataframe tbody tr th:only-of-type {\n",
              "        vertical-align: middle;\n",
              "    }\n",
              "\n",
              "    .dataframe tbody tr th {\n",
              "        vertical-align: top;\n",
              "    }\n",
              "\n",
              "    .dataframe thead th {\n",
              "        text-align: right;\n",
              "    }\n",
              "</style>\n",
              "<table border=\"1\" class=\"dataframe\">\n",
              "  <thead>\n",
              "    <tr style=\"text-align: right;\">\n",
              "      <th></th>\n",
              "      <th>Actual</th>\n",
              "      <th>Predicted</th>\n",
              "    </tr>\n",
              "  </thead>\n",
              "  <tbody>\n",
              "    <tr>\n",
              "      <th>6107</th>\n",
              "      <td>9866820</td>\n",
              "      <td>9548610.0</td>\n",
              "    </tr>\n",
              "    <tr>\n",
              "      <th>6964</th>\n",
              "      <td>14238410</td>\n",
              "      <td>14365836.0</td>\n",
              "    </tr>\n",
              "    <tr>\n",
              "      <th>6580</th>\n",
              "      <td>13547020</td>\n",
              "      <td>13466778.0</td>\n",
              "    </tr>\n",
              "    <tr>\n",
              "      <th>1036</th>\n",
              "      <td>14048900</td>\n",
              "      <td>14201730.0</td>\n",
              "    </tr>\n",
              "    <tr>\n",
              "      <th>1469</th>\n",
              "      <td>7439700</td>\n",
              "      <td>7328083.5</td>\n",
              "    </tr>\n",
              "    <tr>\n",
              "      <th>...</th>\n",
              "      <td>...</td>\n",
              "      <td>...</td>\n",
              "    </tr>\n",
              "    <tr>\n",
              "      <th>6279</th>\n",
              "      <td>12181500</td>\n",
              "      <td>12146346.0</td>\n",
              "    </tr>\n",
              "    <tr>\n",
              "      <th>6190</th>\n",
              "      <td>13491940</td>\n",
              "      <td>13708898.0</td>\n",
              "    </tr>\n",
              "    <tr>\n",
              "      <th>1828</th>\n",
              "      <td>6408750</td>\n",
              "      <td>6425138.5</td>\n",
              "    </tr>\n",
              "    <tr>\n",
              "      <th>5125</th>\n",
              "      <td>9387600</td>\n",
              "      <td>9759426.0</td>\n",
              "    </tr>\n",
              "    <tr>\n",
              "      <th>4277</th>\n",
              "      <td>14844980</td>\n",
              "      <td>14882630.0</td>\n",
              "    </tr>\n",
              "  </tbody>\n",
              "</table>\n",
              "<p>1422 rows × 2 columns</p>\n",
              "</div>\n",
              "      <button class=\"colab-df-convert\" onclick=\"convertToInteractive('df-5326658b-e8de-450b-810a-c9374f93168c')\"\n",
              "              title=\"Convert this dataframe to an interactive table.\"\n",
              "              style=\"display:none;\">\n",
              "        \n",
              "  <svg xmlns=\"http://www.w3.org/2000/svg\" height=\"24px\"viewBox=\"0 0 24 24\"\n",
              "       width=\"24px\">\n",
              "    <path d=\"M0 0h24v24H0V0z\" fill=\"none\"/>\n",
              "    <path d=\"M18.56 5.44l.94 2.06.94-2.06 2.06-.94-2.06-.94-.94-2.06-.94 2.06-2.06.94zm-11 1L8.5 8.5l.94-2.06 2.06-.94-2.06-.94L8.5 2.5l-.94 2.06-2.06.94zm10 10l.94 2.06.94-2.06 2.06-.94-2.06-.94-.94-2.06-.94 2.06-2.06.94z\"/><path d=\"M17.41 7.96l-1.37-1.37c-.4-.4-.92-.59-1.43-.59-.52 0-1.04.2-1.43.59L10.3 9.45l-7.72 7.72c-.78.78-.78 2.05 0 2.83L4 21.41c.39.39.9.59 1.41.59.51 0 1.02-.2 1.41-.59l7.78-7.78 2.81-2.81c.8-.78.8-2.07 0-2.86zM5.41 20L4 18.59l7.72-7.72 1.47 1.35L5.41 20z\"/>\n",
              "  </svg>\n",
              "      </button>\n",
              "      \n",
              "  <style>\n",
              "    .colab-df-container {\n",
              "      display:flex;\n",
              "      flex-wrap:wrap;\n",
              "      gap: 12px;\n",
              "    }\n",
              "\n",
              "    .colab-df-convert {\n",
              "      background-color: #E8F0FE;\n",
              "      border: none;\n",
              "      border-radius: 50%;\n",
              "      cursor: pointer;\n",
              "      display: none;\n",
              "      fill: #1967D2;\n",
              "      height: 32px;\n",
              "      padding: 0 0 0 0;\n",
              "      width: 32px;\n",
              "    }\n",
              "\n",
              "    .colab-df-convert:hover {\n",
              "      background-color: #E2EBFA;\n",
              "      box-shadow: 0px 1px 2px rgba(60, 64, 67, 0.3), 0px 1px 3px 1px rgba(60, 64, 67, 0.15);\n",
              "      fill: #174EA6;\n",
              "    }\n",
              "\n",
              "    [theme=dark] .colab-df-convert {\n",
              "      background-color: #3B4455;\n",
              "      fill: #D2E3FC;\n",
              "    }\n",
              "\n",
              "    [theme=dark] .colab-df-convert:hover {\n",
              "      background-color: #434B5C;\n",
              "      box-shadow: 0px 1px 3px 1px rgba(0, 0, 0, 0.15);\n",
              "      filter: drop-shadow(0px 1px 2px rgba(0, 0, 0, 0.3));\n",
              "      fill: #FFFFFF;\n",
              "    }\n",
              "  </style>\n",
              "\n",
              "      <script>\n",
              "        const buttonEl =\n",
              "          document.querySelector('#df-5326658b-e8de-450b-810a-c9374f93168c button.colab-df-convert');\n",
              "        buttonEl.style.display =\n",
              "          google.colab.kernel.accessAllowed ? 'block' : 'none';\n",
              "\n",
              "        async function convertToInteractive(key) {\n",
              "          const element = document.querySelector('#df-5326658b-e8de-450b-810a-c9374f93168c');\n",
              "          const dataTable =\n",
              "            await google.colab.kernel.invokeFunction('convertToInteractive',\n",
              "                                                     [key], {});\n",
              "          if (!dataTable) return;\n",
              "\n",
              "          const docLinkHtml = 'Like what you see? Visit the ' +\n",
              "            '<a target=\"_blank\" href=https://colab.research.google.com/notebooks/data_table.ipynb>data table notebook</a>'\n",
              "            + ' to learn more about interactive tables.';\n",
              "          element.innerHTML = '';\n",
              "          dataTable['output_type'] = 'display_data';\n",
              "          await google.colab.output.renderOutput(dataTable, element);\n",
              "          const docLink = document.createElement('div');\n",
              "          docLink.innerHTML = docLinkHtml;\n",
              "          element.appendChild(docLink);\n",
              "        }\n",
              "      </script>\n",
              "    </div>\n",
              "  </div>\n",
              "  "
            ]
          },
          "metadata": {},
          "execution_count": 122
        }
      ],
      "source": [
        "result_XG= pd.DataFrame({\"Actual\": y_test, \"Predicted\": XG_pred})\n",
        "result_XG"
      ]
    },
    {
      "cell_type": "code",
      "execution_count": 123,
      "metadata": {
        "id": "xhxT_lI1NZJE",
        "colab": {
          "base_uri": "https://localhost:8080/",
          "height": 296
        },
        "outputId": "ecfb0a54-e75b-47aa-91ae-f2664b524d3b"
      },
      "outputs": [
        {
          "output_type": "display_data",
          "data": {
            "text/plain": [
              "<Figure size 432x288 with 1 Axes>"
            ],
            "image/png": "[encoded data removed]"
          },
          "metadata": {
            "needs_background": "light"
          }
        }
      ],
      "source": [
        "sns.scatterplot(x= y_test, y=XG_pred, color=[\"blue\"])\n",
        "plt.title(\"prediction result vs actual result\")\n",
        "plt.show()"
      ]
    },
    {
      "cell_type": "code",
      "execution_count": 124,
      "metadata": {
        "id": "y6cgLUTwNnmc",
        "colab": {
          "base_uri": "https://localhost:8080/"
        },
        "outputId": "85290fcf-5461-4a24-c6b1-c44175e8d219"
      },
      "outputs": [
        {
          "output_type": "stream",
          "name": "stdout",
          "text": [
            "R2- SCORE FOR XG-BOOST MODEL: 99.72 %\n"
          ]
        }
      ],
      "source": [
        "from sklearn import metrics\n",
        "XG1 = metrics.r2_score(y_test,XG_pred)\n",
        "print('R2- SCORE FOR XG-BOOST MODEL:', round((XG1*100),2),\"%\")"
      ]
    },
    {
      "cell_type": "code",
      "execution_count": 125,
      "metadata": {
        "id": "x2TemllNNqFx",
        "colab": {
          "base_uri": "https://localhost:8080/",
          "height": 150
        },
        "outputId": "d51844f6-9728-4b8f-9564-0f11d0981619"
      },
      "outputs": [
        {
          "output_type": "execute_result",
          "data": {
            "text/plain": [
              "<matplotlib.axes._subplots.AxesSubplot at 0x7f7086579090>"
            ]
          },
          "metadata": {},
          "execution_count": 125
        },
        {
          "output_type": "display_data",
          "data": {
            "text/plain": [
              "<Figure size 720x720 with 0 Axes>"
            ]
          },
          "metadata": {}
        },
        {
          "output_type": "display_data",
          "data": {
            "text/plain": [
              "<Figure size 432x288 with 1 Axes>"
            ],
            "image/png": "[encoded data removed]"
          },
          "metadata": {
            "needs_background": "light"
          }
        }
      ],
      "source": [
        "from xgboost import plot_tree\n",
        "plt.figure(figsize=(10,10))\n",
        "plot_tree(xg_model)"
      ]
    },
    {
      "cell_type": "code",
      "execution_count": 126,
      "metadata": {
        "id": "VgeL5WIFOBCK",
        "colab": {
          "base_uri": "https://localhost:8080/",
          "height": 265
        },
        "outputId": "e702134c-071d-4344-cb28-9118f32eacf0"
      },
      "outputs": [
        {
          "output_type": "display_data",
          "data": {
            "text/plain": [
              "<Figure size 432x288 with 1 Axes>"
            ],
            "image/png": "[encoded data removed]"
          },
          "metadata": {
            "needs_background": "light"
          }
        }
      ],
      "source": [
        "plt.bar(range(len(xg.feature_importances_)), xg.feature_importances_)\n",
        "plt.show()\n"
      ]
    },
    {
      "cell_type": "markdown",
      "metadata": {
        "id": "H_LVuH0d0SiA"
      },
      "source": [
        "**FINDING BEST MODEL**"
      ]
    },
    {
      "cell_type": "code",
      "execution_count": 127,
      "metadata": {
        "id": "hB6Xg_PSOIKE",
        "colab": {
          "base_uri": "https://localhost:8080/"
        },
        "outputId": "7f6c9b82-8c1e-4d90-9bd5-4f37ec409bbd"
      },
      "outputs": [
        {
          "output_type": "stream",
          "name": "stdout",
          "text": [
            "R2 SCORE FOR ALL MODELS:\n",
            "\n",
            "R2- SCORE FOR LINEAR REGRESSION: 92.94 %\n",
            "R2- SCORE FOR KNN MODEL: 91.77 %\n",
            "R2- SCORE FOR DECISION TREE MODEL: 97.32 %\n",
            "R2- SCORE FOR RANDOM FOREST MODEL : 97.56 %\n",
            "R2- SCORE FOR XG-BOOST MODEL: 99.72 %\n"
          ]
        }
      ],
      "source": [
        "print(\"R2 SCORE FOR ALL MODELS:\")\n",
        "print()\n",
        "print('R2- SCORE FOR LINEAR REGRESSION:', round((linreg1*100),2),\"%\")\n",
        "print('R2- SCORE FOR KNN MODEL:', round((KNN1*100),2),\"%\")\n",
        "print('R2- SCORE FOR DECISION TREE MODEL:', round((dtree1*100),2),\"%\")\n",
        "print('R2- SCORE FOR RANDOM FOREST MODEL :', round((RF1*100),2),\"%\")\n",
        "print('R2- SCORE FOR XG-BOOST MODEL:', round((XG1*100),2),\"%\")"
      ]
    },
    {
      "cell_type": "code",
      "execution_count": 142,
      "metadata": {
        "id": "JSWaIMszOLFe",
        "colab": {
          "base_uri": "https://localhost:8080/",
          "height": 206
        },
        "outputId": "c43c8f0b-42ea-4b59-cc1d-8a879f23b819"
      },
      "outputs": [
        {
          "output_type": "execute_result",
          "data": {
            "text/plain": [
              "  R2_score  score\n",
              "0       LR  92.94\n",
              "1      KNN  91.77\n",
              "2       DT  97.32\n",
              "3       RF  97.56\n",
              "4       XG  99.72"
            ],
            "text/html": [
              "\n",
              "  <div id=\"df-d2623e84-cf0f-4011-ba9e-f10620dd46a9\">\n",
              "    <div class=\"colab-df-container\">\n",
              "      <div>\n",
              "<style scoped>\n",
              "    .dataframe tbody tr th:only-of-type {\n",
              "        vertical-align: middle;\n",
              "    }\n",
              "\n",
              "    .dataframe tbody tr th {\n",
              "        vertical-align: top;\n",
              "    }\n",
              "\n",
              "    .dataframe thead th {\n",
              "        text-align: right;\n",
              "    }\n",
              "</style>\n",
              "<table border=\"1\" class=\"dataframe\">\n",
              "  <thead>\n",
              "    <tr style=\"text-align: right;\">\n",
              "      <th></th>\n",
              "      <th>R2_score</th>\n",
              "      <th>score</th>\n",
              "    </tr>\n",
              "  </thead>\n",
              "  <tbody>\n",
              "    <tr>\n",
              "      <th>0</th>\n",
              "      <td>LR</td>\n",
              "      <td>92.94</td>\n",
              "    </tr>\n",
              "    <tr>\n",
              "      <th>1</th>\n",
              "      <td>KNN</td>\n",
              "      <td>91.77</td>\n",
              "    </tr>\n",
              "    <tr>\n",
              "      <th>2</th>\n",
              "      <td>DT</td>\n",
              "      <td>97.32</td>\n",
              "    </tr>\n",
              "    <tr>\n",
              "      <th>3</th>\n",
              "      <td>RF</td>\n",
              "      <td>97.56</td>\n",
              "    </tr>\n",
              "    <tr>\n",
              "      <th>4</th>\n",
              "      <td>XG</td>\n",
              "      <td>99.72</td>\n",
              "    </tr>\n",
              "  </tbody>\n",
              "</table>\n",
              "</div>\n",
              "      <button class=\"colab-df-convert\" onclick=\"convertToInteractive('df-d2623e84-cf0f-4011-ba9e-f10620dd46a9')\"\n",
              "              title=\"Convert this dataframe to an interactive table.\"\n",
              "              style=\"display:none;\">\n",
              "        \n",
              "  <svg xmlns=\"http://www.w3.org/2000/svg\" height=\"24px\"viewBox=\"0 0 24 24\"\n",
              "       width=\"24px\">\n",
              "    <path d=\"M0 0h24v24H0V0z\" fill=\"none\"/>\n",
              "    <path d=\"M18.56 5.44l.94 2.06.94-2.06 2.06-.94-2.06-.94-.94-2.06-.94 2.06-2.06.94zm-11 1L8.5 8.5l.94-2.06 2.06-.94-2.06-.94L8.5 2.5l-.94 2.06-2.06.94zm10 10l.94 2.06.94-2.06 2.06-.94-2.06-.94-.94-2.06-.94 2.06-2.06.94z\"/><path d=\"M17.41 7.96l-1.37-1.37c-.4-.4-.92-.59-1.43-.59-.52 0-1.04.2-1.43.59L10.3 9.45l-7.72 7.72c-.78.78-.78 2.05 0 2.83L4 21.41c.39.39.9.59 1.41.59.51 0 1.02-.2 1.41-.59l7.78-7.78 2.81-2.81c.8-.78.8-2.07 0-2.86zM5.41 20L4 18.59l7.72-7.72 1.47 1.35L5.41 20z\"/>\n",
              "  </svg>\n",
              "      </button>\n",
              "      \n",
              "  <style>\n",
              "    .colab-df-container {\n",
              "      display:flex;\n",
              "      flex-wrap:wrap;\n",
              "      gap: 12px;\n",
              "    }\n",
              "\n",
              "    .colab-df-convert {\n",
              "      background-color: #E8F0FE;\n",
              "      border: none;\n",
              "      border-radius: 50%;\n",
              "      cursor: pointer;\n",
              "      display: none;\n",
              "      fill: #1967D2;\n",
              "      height: 32px;\n",
              "      padding: 0 0 0 0;\n",
              "      width: 32px;\n",
              "    }\n",
              "\n",
              "    .colab-df-convert:hover {\n",
              "      background-color: #E2EBFA;\n",
              "      box-shadow: 0px 1px 2px rgba(60, 64, 67, 0.3), 0px 1px 3px 1px rgba(60, 64, 67, 0.15);\n",
              "      fill: #174EA6;\n",
              "    }\n",
              "\n",
              "    [theme=dark] .colab-df-convert {\n",
              "      background-color: #3B4455;\n",
              "      fill: #D2E3FC;\n",
              "    }\n",
              "\n",
              "    [theme=dark] .colab-df-convert:hover {\n",
              "      background-color: #434B5C;\n",
              "      box-shadow: 0px 1px 3px 1px rgba(0, 0, 0, 0.15);\n",
              "      filter: drop-shadow(0px 1px 2px rgba(0, 0, 0, 0.3));\n",
              "      fill: #FFFFFF;\n",
              "    }\n",
              "  </style>\n",
              "\n",
              "      <script>\n",
              "        const buttonEl =\n",
              "          document.querySelector('#df-d2623e84-cf0f-4011-ba9e-f10620dd46a9 button.colab-df-convert');\n",
              "        buttonEl.style.display =\n",
              "          google.colab.kernel.accessAllowed ? 'block' : 'none';\n",
              "\n",
              "        async function convertToInteractive(key) {\n",
              "          const element = document.querySelector('#df-d2623e84-cf0f-4011-ba9e-f10620dd46a9');\n",
              "          const dataTable =\n",
              "            await google.colab.kernel.invokeFunction('convertToInteractive',\n",
              "                                                     [key], {});\n",
              "          if (!dataTable) return;\n",
              "\n",
              "          const docLinkHtml = 'Like what you see? Visit the ' +\n",
              "            '<a target=\"_blank\" href=https://colab.research.google.com/notebooks/data_table.ipynb>data table notebook</a>'\n",
              "            + ' to learn more about interactive tables.';\n",
              "          element.innerHTML = '';\n",
              "          dataTable['output_type'] = 'display_data';\n",
              "          await google.colab.output.renderOutput(dataTable, element);\n",
              "          const docLink = document.createElement('div');\n",
              "          docLink.innerHTML = docLinkHtml;\n",
              "          element.appendChild(docLink);\n",
              "        }\n",
              "      </script>\n",
              "    </div>\n",
              "  </div>\n",
              "  "
            ]
          },
          "metadata": {},
          "execution_count": 142
        }
      ],
      "source": [
        "r2={'R2_score':['LR', 'KNN', 'DT', 'RF',\"XG\"],\n",
        "        'score':[92.94, 91.77, 97.32, 97.56,99.72]}\n",
        "R2_df=pd.DataFrame(r2)\n",
        "R2_df"
      ]
    },
    {
      "cell_type": "code",
      "execution_count": 143,
      "metadata": {
        "id": "ARl7LeYzPeL8",
        "colab": {
          "base_uri": "https://localhost:8080/",
          "height": 623
        },
        "outputId": "c86f64ad-e36f-43ef-efca-ca7b4ff8cc8c"
      },
      "outputs": [
        {
          "output_type": "execute_result",
          "data": {
            "text/plain": [
              "<matplotlib.axes._subplots.AxesSubplot at 0x7f70931de410>"
            ]
          },
          "metadata": {},
          "execution_count": 143
        },
        {
          "output_type": "display_data",
          "data": {
            "text/plain": [
              "<Figure size 1080x720 with 1 Axes>"
            ],
            "image/png": "[encoded data removed]"
          },
          "metadata": {
            "needs_background": "light"
          }
        }
      ],
      "source": [
        "plt.figure(figsize=(15,10))\n",
        "sns.barplot(x=R2_df.R2_score,y=R2_df.score)"
      ]
    },
    {
      "cell_type": "markdown",
      "metadata": {
        "id": "bxGw8lZXPg7I"
      },
      "source": [
        "**FEATURE IMPORTANCE**"
      ]
    },
    {
      "cell_type": "code",
      "execution_count": 130,
      "metadata": {
        "id": "I6GAUj5jPjWc",
        "colab": {
          "base_uri": "https://localhost:8080/",
          "height": 295
        },
        "outputId": "033c6c86-0f51-4eee-b211-8865855a98d0"
      },
      "outputs": [
        {
          "output_type": "display_data",
          "data": {
            "text/plain": [
              "<Figure size 432x288 with 1 Axes>"
            ],
            "image/png": "[encoded data removed]"
          },
          "metadata": {
            "needs_background": "light"
          }
        }
      ],
      "source": [
        "from xgboost import plot_importance\n",
        "\n",
        "# plot feature importance\n",
        "plot_importance(xg)\n",
        "plt.show()"
      ]
    },
    {
      "cell_type": "code",
      "execution_count": 131,
      "metadata": {
        "id": "8YX8HYmUPnRN",
        "colab": {
          "base_uri": "https://localhost:8080/"
        },
        "outputId": "7bee8290-6158-429d-d284-f2041b8004aa"
      },
      "outputs": [
        {
          "output_type": "stream",
          "name": "stdout",
          "text": [
            "[3.45353752e-01 1.58660840e-02 1.17117284e-04 2.17026360e-02\n",
            " 7.38707259e-02 5.47269941e-04 5.28035639e-03 4.96986732e-02\n",
            " 1.98160764e-02 2.38950811e-02 2.27486854e-03 4.15296048e-01\n",
            " 1.10704843e-02 5.20112505e-03 5.17301075e-03 5.46233437e-04\n",
            " 8.84828696e-05 4.20201337e-03]\n"
          ]
        }
      ],
      "source": [
        "print(xg.feature_importances_)"
      ]
    },
    {
      "cell_type": "code",
      "execution_count": 132,
      "metadata": {
        "id": "sYvZvuXYPr4T",
        "colab": {
          "base_uri": "https://localhost:8080/"
        },
        "outputId": "e86c08d9-4e60-4fed-b431-51756bbfa5dc"
      },
      "outputs": [
        {
          "output_type": "execute_result",
          "data": {
            "text/plain": [
              "BUILDTYPE_Commercial    41.529606\n",
              "AREA                    34.535374\n",
              "N_BATHROOM               7.387073\n",
              "PARK_FACIL               4.969867\n",
              "MZZONE                   2.389508\n",
              "N_BEDROOM                2.170264\n",
              "STREET                   1.981608\n",
              "INT_SQFT                 1.586608\n",
              "BUILDTYPE_House          1.107048\n",
              "SALE_COND                0.528036\n",
              "BUILDTYPE_Others         0.520113\n",
              "UTILITY_AVAIL_AllPub     0.517301\n",
              "UTILITY_AVAIL_NoSewr     0.420201\n",
              "HOUSE_AGE                0.227487\n",
              "N_ROOM                   0.054727\n",
              "UTILITY_AVAIL_ELO        0.054623\n",
              "DIST_MAINROAD            0.011712\n",
              "UTILITY_AVAIL_NoSeWa     0.008848\n",
              "dtype: float32"
            ]
          },
          "metadata": {},
          "execution_count": 132
        }
      ],
      "source": [
        "feature_scores = pd.Series(xg.feature_importances_,index=x_train.columns).sort_values(ascending=False)\n",
        "feature_scores = feature_scores*100\n",
        "feature_scores"
      ]
    },
    {
      "cell_type": "code",
      "execution_count": 133,
      "metadata": {
        "id": "ATGQ3KXvPucT",
        "colab": {
          "base_uri": "https://localhost:8080/",
          "height": 337
        },
        "outputId": "57140705-e53e-4bef-b111-b705c5dc0110"
      },
      "outputs": [
        {
          "output_type": "execute_result",
          "data": {
            "text/plain": [
              "<matplotlib.axes._subplots.AxesSubplot at 0x7f7086361610>"
            ]
          },
          "metadata": {},
          "execution_count": 133
        },
        {
          "output_type": "display_data",
          "data": {
            "text/plain": [
              "<Figure size 360x360 with 1 Axes>"
            ],
            "image/png": "[encoded data removed]"
          },
          "metadata": {
            "needs_background": "light"
          }
        }
      ],
      "source": [
        "plt.figure(figsize=(5,5))\n",
        "sns.barplot(x=feature_scores,y=feature_scores.index)"
      ]
    },
    {
      "cell_type": "code",
      "execution_count": 134,
      "metadata": {
        "id": "N7IdTBSPPx6m",
        "colab": {
          "base_uri": "https://localhost:8080/"
        },
        "outputId": "2a58b497-8156-4e7f-ea47-36a651dca951"
      },
      "outputs": [
        {
          "output_type": "execute_result",
          "data": {
            "text/plain": [
              "BUILDTYPE_Commercial    41.529606\n",
              "AREA                    34.535374\n",
              "N_BATHROOM               7.387073\n",
              "PARK_FACIL               4.969867\n",
              "MZZONE                   2.389508\n",
              "N_BEDROOM                2.170264\n",
              "STREET                   1.981608\n",
              "INT_SQFT                 1.586608\n",
              "BUILDTYPE_House          1.107048\n",
              "dtype: float32"
            ]
          },
          "metadata": {},
          "execution_count": 134
        }
      ],
      "source": [
        "main_features=feature_scores.loc[feature_scores >1]\n",
        "main_features"
      ]
    },
    {
      "cell_type": "markdown",
      "metadata": {
        "id": "89MDXK4B0frK"
      },
      "source": [
        "From the above we can observe that these are the features that are impacting on XGBoost Model:\n",
        "\n",
        "1. BUILDTYPE_Commercial         41.529606\n",
        "2. AREA                         34.535374\n",
        "3. N_BATHROOM               7.387073\n",
        "4. PARK_FACIL               4.969867\n",
        "5. MZZONE                   2.389508\n",
        "6. N_BEDROOM                2.170264\n",
        "7. STREET                   1.981608\n",
        "8. INT_SQFT                 1.586608\n",
        "9. BUILDTYPE_House          1.107048"
      ]
    },
    {
      "cell_type": "code",
      "execution_count": 135,
      "metadata": {
        "id": "ihJ_sruwQxnP"
      },
      "outputs": [],
      "source": [
        "score=[40.700150, 37.157658, 4.126828, 3.865907,3.694559,3.031277,2.770039,1.643945]\n",
        "features=['BUILDTYPE_Commercial', 'AREA', 'INT_SQFT', 'MZZONE',\"STREET\",\"PARK_FACIL\",\"BUILDTYPE_House\",\"N_BEDROOM\"]\n"
      ]
    },
    {
      "cell_type": "markdown",
      "metadata": {
        "id": "9JHHpQUV1PK5"
      },
      "source": [
        "A PIE plot that showing the feature importances"
      ]
    },
    {
      "cell_type": "code",
      "execution_count": 136,
      "metadata": {
        "id": "OHlD-Z2AQzwa",
        "colab": {
          "base_uri": "https://localhost:8080/",
          "height": 575
        },
        "outputId": "98a5bf9f-dcd3-42f6-c43e-478525c5a2ac"
      },
      "outputs": [
        {
          "output_type": "display_data",
          "data": {
            "text/plain": [
              "<Figure size 720x720 with 1 Axes>"
            ],
            "image/png": "[encoded data removed]"
          },
          "metadata": {}
        }
      ],
      "source": [
        "plt.figure(figsize=(10,10))\n",
        "colors = sns.color_palette('pastel')\n",
        "plt.pie(score, labels=features,colors = colors, autopct = '%0.0f%%')\n",
        "plt.show()"
      ]
    },
    {
      "cell_type": "code",
      "execution_count": 137,
      "metadata": {
        "id": "idio-pUw6odh"
      },
      "outputs": [],
      "source": [
        "#pickling the best model\n",
        "import pickle\n",
        "with open('xg_model_pkl','wb') as model:\n",
        "  pickle.dump(xg_model,model)"
      ]
    },
    {
      "cell_type": "code",
      "execution_count": 138,
      "metadata": {
        "id": "FIpEp_eq-Gjk"
      },
      "outputs": [],
      "source": [
        "! pip install streamlit -q"
      ]
    },
    {
      "cell_type": "code",
      "execution_count": 139,
      "metadata": {
        "id": "oKl7x45vUdF7"
      },
      "outputs": [],
      "source": [
        "# %%writefile app.py\n",
        "# import pickle\n",
        "# import pandas as pd\n",
        "# import streamlit as st\n",
        "# from babel.numbers import format_currency\n",
        "# data=pd.read_csv(\"final_cleaned_data\")\n",
        "# model = pickle.load(open('xg_model_pkl','rb'))"
      ]
    },
    {
      "cell_type": "code",
      "execution_count": 147,
      "metadata": {
        "id": "OpU7cz-m6FA0",
        "colab": {
          "base_uri": "https://localhost:8080/"
        },
        "outputId": "6674cd07-0540-4f11-c184-73b7ebcecf09"
      },
      "outputs": [
        {
          "output_type": "stream",
          "name": "stdout",
          "text": [
            "Overwriting app.py\n"
          ]
        }
      ],
      "source": [
        "%%writefile app.py\n",
        "import pickle\n",
        "import pandas as pd\n",
        "import streamlit as st\n",
        "from babel.numbers import format_currency\n",
        "#from PIL import Image\n",
        "data=pd.read_csv(\"final_cleaned_data1\")\n",
        "model = pickle.load(open('xg_model_pkl','rb'))\n",
        "def main():\n",
        "    # Create a page dropdown\n",
        "    \n",
        "    st.sidebar.title(\"Homes\")\n",
        "    col1, col2 = st.columns( [0.5, 0.5])\n",
        "    with col1:\n",
        "        st.title(\"Homes\")   \n",
        "    \n",
        "    page = st.sidebar.selectbox(\"Select One\", ['ABOUT',\"PRICE PREDICTION\"])\n",
        "    if page == \"ABOUT\":\n",
        "        st.title('Welcome to Homes')\n",
        "        st.subheader('Homes is a website where you can look at sales data for Chennai and project the price range of your dream house.')\n",
        "        st.write('Creator:')\n",
        "        st.write('**Name:** V Jaswanth Venkata Sai')\n",
        "        st.write('**Mailid:** jaswanth.vudduru@gmail.com')\n",
        "\n",
        "    if page == \"PRICE PREDICTION\":\n",
        "        st.title('PRICE PREDICTION')\n",
        "        AREA = st.selectbox(\"Select an Area \",data.AREA.unique())\n",
        "        if AREA == 'Chrompet':\n",
        "            grouped=data[data['AREA']=='Chrompet']\n",
        "            AREA = 2\n",
        "        elif AREA == 'Karapakkam':\n",
        "            grouped=data[data['AREA']=='Karapakkam']\n",
        "            AREA  = 4\n",
        "        elif AREA == 'KK Nagar':\n",
        "            grouped=data[data['AREA']=='KK Nagar']\n",
        "            AREA = 3\n",
        "        elif AREA == 'Anna Nagar':\n",
        "            grouped=data[data['AREA']=='Anna Nagar']\n",
        "            AREA = 1\n",
        "        elif AREA == 'Adyar':\n",
        "            grouped=data[data['AREA']=='Adyar']\n",
        "            AREA = 0\n",
        "        elif AREA == 'T Nagar':\n",
        "            grouped=data[data['AREA']=='T Nagar']\n",
        "            AREA = 5\n",
        "        elif AREA == 'Velachery':\n",
        "            grouped=data[data['AREA']=='Velachery']\n",
        "            AREA = 6\n",
        "\n",
        "        INT_SQFT = st.slider(\"SQFT Required\",int(data.INT_SQFT.min()),int(data.INT_SQFT.max()))\n",
        "\n",
        "        DIST_MAINROAD = st.slider(\"DIST_MAINROAD\",int(data.DIST_MAINROAD.min()),int(data.DIST_MAINROAD.max()))\n",
        "        \n",
        "        N_BEDROOM = st.slider(\"No of Bedrooms\",int(data.N_BEDROOM.min()),int(data.N_BEDROOM.max()))\n",
        "\n",
        "        N_BATHROOM = st.slider(\"No of Bathrooms\",int(data.N_BATHROOM.min()),int(data.N_BATHROOM.max()))\n",
        "\n",
        "        N_ROOM = st.slider(\"Total no of rooms\",int(data.N_ROOM.min()),int(data.N_ROOM.max()))\n",
        "\n",
        "        #Coverting SALE_COND categorical to numerical\n",
        "        SALE_COND = st.selectbox(\"SALE_COND Preference\",data.SALE_COND.unique())\n",
        "        if SALE_COND == 'Partial':\n",
        "            SALE_COND = 0\n",
        "        elif SALE_COND == 'Family':\n",
        "            SALE_COND = 1\n",
        "        elif SALE_COND == 'AbNormal':\n",
        "            SALE_COND = 2\n",
        "        elif SALE_COND == 'Normal Sale':\n",
        "            SALE_COND = 3\n",
        "        else:\n",
        "            SALE_COND = 4\n",
        "\n",
        "        PARK_FACIL = st.radio(\"Parking Area\",data.PARK_FACIL.unique())\n",
        "        if PARK_FACIL == 'Yes':\n",
        "            PARK_FACIL = 1\n",
        "        else:\n",
        "            PARK_FACIL = 0\n",
        "        \n",
        "        \n",
        "\n",
        "        \n",
        "\n",
        "        \n",
        "      \n",
        "\n",
        "        STREET = st.selectbox(\"Access TO THE Building\",data.STREET.unique())\n",
        "\n",
        "        if STREET == 'Gravel':\n",
        "            STREET = 0\n",
        "        elif STREET == 'Paved':\n",
        "            STREET = 2\n",
        "        else:\n",
        "            STREET = 1\n",
        "\n",
        "        #Coverting MZZONe categorical to numerical\n",
        "        MZZONE = st.selectbox(\"Chennai Zone Preference\",data.MZZONE.unique())\n",
        "        if MZZONE == 'A':\n",
        "            MZZONE = 0\n",
        "        elif MZZONE == 'RH':\n",
        "            MZZONE = 3\n",
        "        elif MZZONE == 'RL':\n",
        "            MZZONE = 4\n",
        "        elif MZZONE == 'I':\n",
        "            MZZONE = 2\n",
        "        elif MZZONE == 'C':\n",
        "            MZZONE = 1\n",
        "        else:\n",
        "            MZZONE = 5\n",
        "        \n",
        "\n",
        "        HOUSE_AGE = st.slider(\"HOUSE_AGE\",int(data.HOUSE_AGE.min()),int(data.HOUSE_AGE.max()))\n",
        "\n",
        "\n",
        "        BUILDTYPE_Commercial = st.radio(\"BUILDTYPE_Commercial\",data.BUILDTYPE_Commercial.unique())\n",
        "        if BUILDTYPE_Commercial == 'Yes':\n",
        "            BUILDTYPE_Commercial = 1\n",
        "        else:\n",
        "            BUILDTYPE_Commercial = 0\n",
        "        \n",
        "        BUILDTYPE_House = st.radio(\"BUILDTYPE_House\",data.BUILDTYPE_House.unique())\n",
        "        if BUILDTYPE_House == 'Yes':\n",
        "            BUILDTYPE_House = 1\n",
        "        else:\n",
        "            BUILDTYPE_House = 0\n",
        "        \n",
        "        BUILDTYPE_Others = st.radio(\"BUILDTYPE_Others\",data.BUILDTYPE_Others.unique())\n",
        "        if BUILDTYPE_Others == 'Yes':\n",
        "            BUILDTYPE_Others = 1\n",
        "        else:\n",
        "            BUILDTYPE_Others = 0\n",
        "\n",
        "        UTILITY_AVAIL_AllPub = st.radio(\"UTILITY_AVAIL_AllPub\",data.UTILITY_AVAIL_AllPub.unique())\n",
        "        if UTILITY_AVAIL_AllPub == 'Yes':\n",
        "            UTILITY_AVAIL_AllPub = 1\n",
        "        else:\n",
        "            UTILITY_AVAIL_AllPub = 0\n",
        "        \n",
        "        UTILITY_AVAIL_ELO = st.radio(\"UTILITY_AVAIL_ELO\",data.UTILITY_AVAIL_ELO.unique())\n",
        "        if UTILITY_AVAIL_ELO == 'Yes':\n",
        "            UTILITY_AVAIL_ELO = 1\n",
        "        else:\n",
        "            UTILITY_AVAIL_ELO = 0\n",
        "        \n",
        "        UTILITY_AVAIL_NoSeWa = st.radio(\"UTILITY_AVAIL_NoSeWa\",data.UTILITY_AVAIL_NoSeWa.unique())\n",
        "        if UTILITY_AVAIL_NoSeWa == 'Yes':\n",
        "            UTILITY_AVAIL_NoSeWa = 1\n",
        "        else:\n",
        "            UTILITY_AVAIL_NoSeWa = 0\n",
        "        \n",
        "        UTILITY_AVAIL_NoSewr = st.radio(\"UTILITY_AVAIL_NoSewr\",data.UTILITY_AVAIL_NoSewr.unique())\n",
        "        if UTILITY_AVAIL_NoSewr == 'Yes':\n",
        "            UTILITY_AVAIL_NoSewr = 1\n",
        "        else:\n",
        "            UTILITY_AVAIL_NoSewr = 0\n",
        "\n",
        "        input = pd.DataFrame([[AREA, INT_SQFT, DIST_MAINROAD, N_BEDROOM, N_BATHROOM, N_ROOM, SALE_COND, PARK_FACIL, STREET, MZZONE, HOUSE_AGE, BUILDTYPE_Commercial, BUILDTYPE_House, BUILDTYPE_Others, UTILITY_AVAIL_AllPub, UTILITY_AVAIL_ELO, UTILITY_AVAIL_NoSeWa, UTILITY_AVAIL_NoSewr]],columns=['AREA', 'INT_SQFT', 'DIST_MAINROAD', 'N_BEDROOM', 'N_BATHROOM', 'N_ROOM', 'SALE_COND', 'PARK_FACIL', 'STREET', 'MZZONE', 'HOUSE_AGE', 'BUILDTYPE_Commercial', 'BUILDTYPE_House', 'BUILDTYPE_Others', 'UTILITY_AVAIL_AllPub', 'UTILITY_AVAIL_ELO', 'UTILITY_AVAIL_NoSeWa', 'UTILITY_AVAIL_NoSewr'],index=['index'])\n",
        "                            \n",
        "                            \n",
        "        #st.dataframe(input)\n",
        "\n",
        "        valu = model.predict(input)\n",
        "        low=int(valu-(valu*0.02))\n",
        "        low = format_currency(low, 'INR', locale='en_IN')\n",
        "\n",
        "\n",
        "        high=int(valu+(valu*0.02))\n",
        "        high = format_currency(high, 'INR', locale='en_IN')\n",
        "\n",
        "        #print('Estimated value is:',low , 'to', high)\n",
        "\n",
        "\n",
        "        if st.button(\" Get Price\",help=\"Click to predict the price\"):\n",
        "            st.markdown(\"<h1 style='text-align: center; color: Green;'>Predicted House Price Range</h1>\", unsafe_allow_html=True)\n",
        "            st.write(\" \",  low , 'to', high   ,\" \")\n",
        "            st.snow()\n",
        "\n",
        "if __name__=='__main__':\n",
        "    main()###"
      ]
    },
    {
      "cell_type": "code",
      "execution_count": 146,
      "metadata": {
        "id": "qWkTDYGt-Abq",
        "colab": {
          "base_uri": "https://localhost:8080/"
        },
        "outputId": "c2302517-8248-438a-98c4-47f3c784c435"
      },
      "outputs": [
        {
          "output_type": "stream",
          "name": "stdout",
          "text": [
            "2022-07-22 12:19:40.777 INFO    numexpr.utils: NumExpr defaulting to 2 threads.\n",
            "\u001b[0m\n",
            "\u001b[34m\u001b[1m  You can now view your Streamlit app in your browser.\u001b[0m\n",
            "\u001b[0m\n",
            "\u001b[34m  Network URL: \u001b[0m\u001b[1mhttp://172.28.0.2:8501\u001b[0m\n",
            "\u001b[34m  External URL: \u001b[0m\u001b[1mhttp://34.74.127.95:8501\u001b[0m\n",
            "\u001b[0m\n",
            "\u001b[K\u001b[?25hnpx: installed 22 in 3.138s\n",
            "your url is: https://quick-humans-care-34-74-127-95.loca.lt\n",
            "[12:20:09] WARNING: /workspace/src/objective/regression_obj.cu:152: reg:linear is now deprecated in favor of reg:squarederror.\n",
            "[12:20:30] WARNING: /workspace/src/objective/regression_obj.cu:152: reg:linear is now deprecated in favor of reg:squarederror.\n",
            "[12:20:36] WARNING: /workspace/src/objective/regression_obj.cu:152: reg:linear is now deprecated in favor of reg:squarederror.\n",
            "[12:20:38] WARNING: /workspace/src/objective/regression_obj.cu:152: reg:linear is now deprecated in favor of reg:squarederror.\n",
            "[12:20:39] WARNING: /workspace/src/objective/regression_obj.cu:152: reg:linear is now deprecated in favor of reg:squarederror.\n",
            "[12:20:44] WARNING: /workspace/src/objective/regression_obj.cu:152: reg:linear is now deprecated in favor of reg:squarederror.\n",
            "[12:20:45] WARNING: /workspace/src/objective/regression_obj.cu:152: reg:linear is now deprecated in favor of reg:squarederror.\n",
            "[12:20:48] WARNING: /workspace/src/objective/regression_obj.cu:152: reg:linear is now deprecated in favor of reg:squarederror.\n",
            "[12:20:54] WARNING: /workspace/src/objective/regression_obj.cu:152: reg:linear is now deprecated in favor of reg:squarederror.\n",
            "[12:20:57] WARNING: /workspace/src/objective/regression_obj.cu:152: reg:linear is now deprecated in favor of reg:squarederror.\n",
            "\u001b[34m  Stopping...\u001b[0m\n",
            "^C\n"
          ]
        }
      ],
      "source": [
        "!streamlit run app.py & npx localtunnel --port 8501"
      ]
    },
    {
      "cell_type": "markdown",
      "source": [
        "You can check the pricing range of your house as per your requirements on clicking the above website link"
      ],
      "metadata": {
        "id": "aFW9KCQ53nfR"
      }
    }
  ],
  "metadata": {
    "colab": {
      "collapsed_sections": [
        "CkkXIKCsUas5",
        "BPUt1Y08fWY9",
        "hObkvdPrivmn",
        "BAYLkpoFx0tB"
      ],
      "name": "ChennaiHousePricePred.ipynb",
      "provenance": [],
      "authorship_tag": "ABX9TyNx1GjP0p/aKTD56rRXZg85",
      "include_colab_link": true
    },
    "kernelspec": {
      "display_name": "Python 3",
      "name": "python3"
    },
    "language_info": {
      "name": "python"
    }
  },
  "nbformat": 4,
  "nbformat_minor": 0
}